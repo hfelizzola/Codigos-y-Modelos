{
 "cells": [
  {
   "cell_type": "markdown",
   "metadata": {},
   "source": [
    "# Análisis de vías rurales"
   ]
  },
  {
   "cell_type": "code",
   "execution_count": 1,
   "metadata": {},
   "outputs": [],
   "source": [
    "%load_ext autoreload\n",
    "%autoreload 2"
   ]
  },
  {
   "cell_type": "code",
   "execution_count": 2,
   "metadata": {},
   "outputs": [
    {
     "data": {
      "application/javascript": "(function(root) {\n  function now() {\n    return new Date();\n  }\n\n  var force = true;\n  var py_version = '3.3.4'.replace('rc', '-rc.').replace('.dev', '-dev.');\n  var reloading = false;\n  var Bokeh = root.Bokeh;\n\n  if (typeof (root._bokeh_timeout) === \"undefined\" || force) {\n    root._bokeh_timeout = Date.now() + 5000;\n    root._bokeh_failed_load = false;\n  }\n\n  function run_callbacks() {\n    try {\n      root._bokeh_onload_callbacks.forEach(function(callback) {\n        if (callback != null)\n          callback();\n      });\n    } finally {\n      delete root._bokeh_onload_callbacks;\n    }\n    console.debug(\"Bokeh: all callbacks have finished\");\n  }\n\n  function load_libs(css_urls, js_urls, js_modules, js_exports, callback) {\n    if (css_urls == null) css_urls = [];\n    if (js_urls == null) js_urls = [];\n    if (js_modules == null) js_modules = [];\n    if (js_exports == null) js_exports = {};\n\n    root._bokeh_onload_callbacks.push(callback);\n\n    if (root._bokeh_is_loading > 0) {\n      console.debug(\"Bokeh: BokehJS is being loaded, scheduling callback at\", now());\n      return null;\n    }\n    if (js_urls.length === 0 && js_modules.length === 0 && Object.keys(js_exports).length === 0) {\n      run_callbacks();\n      return null;\n    }\n    if (!reloading) {\n      console.debug(\"Bokeh: BokehJS not loaded, scheduling load and callback at\", now());\n    }\n\n    function on_load() {\n      root._bokeh_is_loading--;\n      if (root._bokeh_is_loading === 0) {\n        console.debug(\"Bokeh: all BokehJS libraries/stylesheets loaded\");\n        run_callbacks()\n      }\n    }\n    window._bokeh_on_load = on_load\n\n    function on_error() {\n      console.error(\"failed to load \" + url);\n    }\n\n    var skip = [];\n    if (window.requirejs) {\n      window.requirejs.config({'packages': {}, 'paths': {'jspanel': 'https://cdn.jsdelivr.net/npm/jspanel4@4.12.0/dist/jspanel', 'jspanel-modal': 'https://cdn.jsdelivr.net/npm/jspanel4@4.12.0/dist/extensions/modal/jspanel.modal', 'jspanel-tooltip': 'https://cdn.jsdelivr.net/npm/jspanel4@4.12.0/dist/extensions/tooltip/jspanel.tooltip', 'jspanel-hint': 'https://cdn.jsdelivr.net/npm/jspanel4@4.12.0/dist/extensions/hint/jspanel.hint', 'jspanel-layout': 'https://cdn.jsdelivr.net/npm/jspanel4@4.12.0/dist/extensions/layout/jspanel.layout', 'jspanel-contextmenu': 'https://cdn.jsdelivr.net/npm/jspanel4@4.12.0/dist/extensions/contextmenu/jspanel.contextmenu', 'jspanel-dock': 'https://cdn.jsdelivr.net/npm/jspanel4@4.12.0/dist/extensions/dock/jspanel.dock', 'gridstack': 'https://cdn.jsdelivr.net/npm/gridstack@7.2.3/dist/gridstack-all', 'notyf': 'https://cdn.jsdelivr.net/npm/notyf@3/notyf.min'}, 'shim': {'jspanel': {'exports': 'jsPanel'}, 'gridstack': {'exports': 'GridStack'}}});\n      require([\"jspanel\"], function(jsPanel) {\n\twindow.jsPanel = jsPanel\n\ton_load()\n      })\n      require([\"jspanel-modal\"], function() {\n\ton_load()\n      })\n      require([\"jspanel-tooltip\"], function() {\n\ton_load()\n      })\n      require([\"jspanel-hint\"], function() {\n\ton_load()\n      })\n      require([\"jspanel-layout\"], function() {\n\ton_load()\n      })\n      require([\"jspanel-contextmenu\"], function() {\n\ton_load()\n      })\n      require([\"jspanel-dock\"], function() {\n\ton_load()\n      })\n      require([\"gridstack\"], function(GridStack) {\n\twindow.GridStack = GridStack\n\ton_load()\n      })\n      require([\"notyf\"], function() {\n\ton_load()\n      })\n      root._bokeh_is_loading = css_urls.length + 9;\n    } else {\n      root._bokeh_is_loading = css_urls.length + js_urls.length + js_modules.length + Object.keys(js_exports).length;\n    }\n\n    var existing_stylesheets = []\n    var links = document.getElementsByTagName('link')\n    for (var i = 0; i < links.length; i++) {\n      var link = links[i]\n      if (link.href != null) {\n\texisting_stylesheets.push(link.href)\n      }\n    }\n    for (var i = 0; i < css_urls.length; i++) {\n      var url = css_urls[i];\n      if (existing_stylesheets.indexOf(url) !== -1) {\n\ton_load()\n\tcontinue;\n      }\n      const element = document.createElement(\"link\");\n      element.onload = on_load;\n      element.onerror = on_error;\n      element.rel = \"stylesheet\";\n      element.type = \"text/css\";\n      element.href = url;\n      console.debug(\"Bokeh: injecting link tag for BokehJS stylesheet: \", url);\n      document.body.appendChild(element);\n    }    if (((window['jsPanel'] !== undefined) && (!(window['jsPanel'] instanceof HTMLElement))) || window.requirejs) {\n      var urls = ['https://cdn.holoviz.org/panel/1.3.8/dist/bundled/floatpanel/jspanel4@4.12.0/dist/jspanel.js', 'https://cdn.holoviz.org/panel/1.3.8/dist/bundled/floatpanel/jspanel4@4.12.0/dist/extensions/modal/jspanel.modal.js', 'https://cdn.holoviz.org/panel/1.3.8/dist/bundled/floatpanel/jspanel4@4.12.0/dist/extensions/tooltip/jspanel.tooltip.js', 'https://cdn.holoviz.org/panel/1.3.8/dist/bundled/floatpanel/jspanel4@4.12.0/dist/extensions/hint/jspanel.hint.js', 'https://cdn.holoviz.org/panel/1.3.8/dist/bundled/floatpanel/jspanel4@4.12.0/dist/extensions/layout/jspanel.layout.js', 'https://cdn.holoviz.org/panel/1.3.8/dist/bundled/floatpanel/jspanel4@4.12.0/dist/extensions/contextmenu/jspanel.contextmenu.js', 'https://cdn.holoviz.org/panel/1.3.8/dist/bundled/floatpanel/jspanel4@4.12.0/dist/extensions/dock/jspanel.dock.js'];\n      for (var i = 0; i < urls.length; i++) {\n        skip.push(urls[i])\n      }\n    }    if (((window['GridStack'] !== undefined) && (!(window['GridStack'] instanceof HTMLElement))) || window.requirejs) {\n      var urls = ['https://cdn.holoviz.org/panel/1.3.8/dist/bundled/gridstack/gridstack@7.2.3/dist/gridstack-all.js'];\n      for (var i = 0; i < urls.length; i++) {\n        skip.push(urls[i])\n      }\n    }    if (((window['Notyf'] !== undefined) && (!(window['Notyf'] instanceof HTMLElement))) || window.requirejs) {\n      var urls = ['https://cdn.holoviz.org/panel/1.3.8/dist/bundled/notificationarea/notyf@3/notyf.min.js'];\n      for (var i = 0; i < urls.length; i++) {\n        skip.push(urls[i])\n      }\n    }    var existing_scripts = []\n    var scripts = document.getElementsByTagName('script')\n    for (var i = 0; i < scripts.length; i++) {\n      var script = scripts[i]\n      if (script.src != null) {\n\texisting_scripts.push(script.src)\n      }\n    }\n    for (var i = 0; i < js_urls.length; i++) {\n      var url = js_urls[i];\n      if (skip.indexOf(url) !== -1 || existing_scripts.indexOf(url) !== -1) {\n\tif (!window.requirejs) {\n\t  on_load();\n\t}\n\tcontinue;\n      }\n      var element = document.createElement('script');\n      element.onload = on_load;\n      element.onerror = on_error;\n      element.async = false;\n      element.src = url;\n      console.debug(\"Bokeh: injecting script tag for BokehJS library: \", url);\n      document.head.appendChild(element);\n    }\n    for (var i = 0; i < js_modules.length; i++) {\n      var url = js_modules[i];\n      if (skip.indexOf(url) !== -1 || existing_scripts.indexOf(url) !== -1) {\n\tif (!window.requirejs) {\n\t  on_load();\n\t}\n\tcontinue;\n      }\n      var element = document.createElement('script');\n      element.onload = on_load;\n      element.onerror = on_error;\n      element.async = false;\n      element.src = url;\n      element.type = \"module\";\n      console.debug(\"Bokeh: injecting script tag for BokehJS library: \", url);\n      document.head.appendChild(element);\n    }\n    for (const name in js_exports) {\n      var url = js_exports[name];\n      if (skip.indexOf(url) >= 0 || root[name] != null) {\n\tif (!window.requirejs) {\n\t  on_load();\n\t}\n\tcontinue;\n      }\n      var element = document.createElement('script');\n      element.onerror = on_error;\n      element.async = false;\n      element.type = \"module\";\n      console.debug(\"Bokeh: injecting script tag for BokehJS library: \", url);\n      element.textContent = `\n      import ${name} from \"${url}\"\n      window.${name} = ${name}\n      window._bokeh_on_load()\n      `\n      document.head.appendChild(element);\n    }\n    if (!js_urls.length && !js_modules.length) {\n      on_load()\n    }\n  };\n\n  function inject_raw_css(css) {\n    const element = document.createElement(\"style\");\n    element.appendChild(document.createTextNode(css));\n    document.body.appendChild(element);\n  }\n\n  var js_urls = [\"https://cdn.bokeh.org/bokeh/release/bokeh-3.3.4.min.js\", \"https://cdn.bokeh.org/bokeh/release/bokeh-gl-3.3.4.min.js\", \"https://cdn.bokeh.org/bokeh/release/bokeh-widgets-3.3.4.min.js\", \"https://cdn.bokeh.org/bokeh/release/bokeh-tables-3.3.4.min.js\", \"https://cdn.holoviz.org/panel/1.3.8/dist/panel.min.js\"];\n  var js_modules = [];\n  var js_exports = {};\n  var css_urls = [];\n  var inline_js = [    function(Bokeh) {\n      Bokeh.set_log_level(\"info\");\n    },\nfunction(Bokeh) {} // ensure no trailing comma for IE\n  ];\n\n  function run_inline_js() {\n    if ((root.Bokeh !== undefined) || (force === true)) {\n      for (var i = 0; i < inline_js.length; i++) {\n\ttry {\n          inline_js[i].call(root, root.Bokeh);\n\t} catch(e) {\n\t  if (!reloading) {\n\t    throw e;\n\t  }\n\t}\n      }\n      // Cache old bokeh versions\n      if (Bokeh != undefined && !reloading) {\n\tvar NewBokeh = root.Bokeh;\n\tif (Bokeh.versions === undefined) {\n\t  Bokeh.versions = new Map();\n\t}\n\tif (NewBokeh.version !== Bokeh.version) {\n\t  Bokeh.versions.set(NewBokeh.version, NewBokeh)\n\t}\n\troot.Bokeh = Bokeh;\n      }} else if (Date.now() < root._bokeh_timeout) {\n      setTimeout(run_inline_js, 100);\n    } else if (!root._bokeh_failed_load) {\n      console.log(\"Bokeh: BokehJS failed to load within specified timeout.\");\n      root._bokeh_failed_load = true;\n    }\n    root._bokeh_is_initializing = false\n  }\n\n  function load_or_wait() {\n    // Implement a backoff loop that tries to ensure we do not load multiple\n    // versions of Bokeh and its dependencies at the same time.\n    // In recent versions we use the root._bokeh_is_initializing flag\n    // to determine whether there is an ongoing attempt to initialize\n    // bokeh, however for backward compatibility we also try to ensure\n    // that we do not start loading a newer (Panel>=1.0 and Bokeh>3) version\n    // before older versions are fully initialized.\n    if (root._bokeh_is_initializing && Date.now() > root._bokeh_timeout) {\n      root._bokeh_is_initializing = false;\n      root._bokeh_onload_callbacks = undefined;\n      console.log(\"Bokeh: BokehJS was loaded multiple times but one version failed to initialize.\");\n      load_or_wait();\n    } else if (root._bokeh_is_initializing || (typeof root._bokeh_is_initializing === \"undefined\" && root._bokeh_onload_callbacks !== undefined)) {\n      setTimeout(load_or_wait, 100);\n    } else {\n      root._bokeh_is_initializing = true\n      root._bokeh_onload_callbacks = []\n      var bokeh_loaded = Bokeh != null && (Bokeh.version === py_version || (Bokeh.versions !== undefined && Bokeh.versions.has(py_version)));\n      if (!reloading && !bokeh_loaded) {\n\troot.Bokeh = undefined;\n      }\n      load_libs(css_urls, js_urls, js_modules, js_exports, function() {\n\tconsole.debug(\"Bokeh: BokehJS plotting callback run at\", now());\n\trun_inline_js();\n      });\n    }\n  }\n  // Give older versions of the autoload script a head-start to ensure\n  // they initialize before we start loading newer version.\n  setTimeout(load_or_wait, 100)\n}(window));",
      "application/vnd.holoviews_load.v0+json": ""
     },
     "metadata": {},
     "output_type": "display_data"
    },
    {
     "data": {
      "application/javascript": "\nif ((window.PyViz === undefined) || (window.PyViz instanceof HTMLElement)) {\n  window.PyViz = {comms: {}, comm_status:{}, kernels:{}, receivers: {}, plot_index: []}\n}\n\n\n    function JupyterCommManager() {\n    }\n\n    JupyterCommManager.prototype.register_target = function(plot_id, comm_id, msg_handler) {\n      if (window.comm_manager || ((window.Jupyter !== undefined) && (Jupyter.notebook.kernel != null))) {\n        var comm_manager = window.comm_manager || Jupyter.notebook.kernel.comm_manager;\n        comm_manager.register_target(comm_id, function(comm) {\n          comm.on_msg(msg_handler);\n        });\n      } else if ((plot_id in window.PyViz.kernels) && (window.PyViz.kernels[plot_id])) {\n        window.PyViz.kernels[plot_id].registerCommTarget(comm_id, function(comm) {\n          comm.onMsg = msg_handler;\n        });\n      } else if (typeof google != 'undefined' && google.colab.kernel != null) {\n        google.colab.kernel.comms.registerTarget(comm_id, (comm) => {\n          var messages = comm.messages[Symbol.asyncIterator]();\n          function processIteratorResult(result) {\n            var message = result.value;\n            console.log(message)\n            var content = {data: message.data, comm_id};\n            var buffers = []\n            for (var buffer of message.buffers || []) {\n              buffers.push(new DataView(buffer))\n            }\n            var metadata = message.metadata || {};\n            var msg = {content, buffers, metadata}\n            msg_handler(msg);\n            return messages.next().then(processIteratorResult);\n          }\n          return messages.next().then(processIteratorResult);\n        })\n      }\n    }\n\n    JupyterCommManager.prototype.get_client_comm = function(plot_id, comm_id, msg_handler) {\n      if (comm_id in window.PyViz.comms) {\n        return window.PyViz.comms[comm_id];\n      } else if (window.comm_manager || ((window.Jupyter !== undefined) && (Jupyter.notebook.kernel != null))) {\n        var comm_manager = window.comm_manager || Jupyter.notebook.kernel.comm_manager;\n        var comm = comm_manager.new_comm(comm_id, {}, {}, {}, comm_id);\n        if (msg_handler) {\n          comm.on_msg(msg_handler);\n        }\n      } else if ((plot_id in window.PyViz.kernels) && (window.PyViz.kernels[plot_id])) {\n        var comm = window.PyViz.kernels[plot_id].connectToComm(comm_id);\n        comm.open();\n        if (msg_handler) {\n          comm.onMsg = msg_handler;\n        }\n      } else if (typeof google != 'undefined' && google.colab.kernel != null) {\n        var comm_promise = google.colab.kernel.comms.open(comm_id)\n        comm_promise.then((comm) => {\n          window.PyViz.comms[comm_id] = comm;\n          if (msg_handler) {\n            var messages = comm.messages[Symbol.asyncIterator]();\n            function processIteratorResult(result) {\n              var message = result.value;\n              var content = {data: message.data};\n              var metadata = message.metadata || {comm_id};\n              var msg = {content, metadata}\n              msg_handler(msg);\n              return messages.next().then(processIteratorResult);\n            }\n            return messages.next().then(processIteratorResult);\n          }\n        }) \n        var sendClosure = (data, metadata, buffers, disposeOnDone) => {\n          return comm_promise.then((comm) => {\n            comm.send(data, metadata, buffers, disposeOnDone);\n          });\n        };\n        var comm = {\n          send: sendClosure\n        };\n      }\n      window.PyViz.comms[comm_id] = comm;\n      return comm;\n    }\n    window.PyViz.comm_manager = new JupyterCommManager();\n    \n\n\nvar JS_MIME_TYPE = 'application/javascript';\nvar HTML_MIME_TYPE = 'text/html';\nvar EXEC_MIME_TYPE = 'application/vnd.holoviews_exec.v0+json';\nvar CLASS_NAME = 'output';\n\n/**\n * Render data to the DOM node\n */\nfunction render(props, node) {\n  var div = document.createElement(\"div\");\n  var script = document.createElement(\"script\");\n  node.appendChild(div);\n  node.appendChild(script);\n}\n\n/**\n * Handle when a new output is added\n */\nfunction handle_add_output(event, handle) {\n  var output_area = handle.output_area;\n  var output = handle.output;\n  if ((output.data == undefined) || (!output.data.hasOwnProperty(EXEC_MIME_TYPE))) {\n    return\n  }\n  var id = output.metadata[EXEC_MIME_TYPE][\"id\"];\n  var toinsert = output_area.element.find(\".\" + CLASS_NAME.split(' ')[0]);\n  if (id !== undefined) {\n    var nchildren = toinsert.length;\n    var html_node = toinsert[nchildren-1].children[0];\n    html_node.innerHTML = output.data[HTML_MIME_TYPE];\n    var scripts = [];\n    var nodelist = html_node.querySelectorAll(\"script\");\n    for (var i in nodelist) {\n      if (nodelist.hasOwnProperty(i)) {\n        scripts.push(nodelist[i])\n      }\n    }\n\n    scripts.forEach( function (oldScript) {\n      var newScript = document.createElement(\"script\");\n      var attrs = [];\n      var nodemap = oldScript.attributes;\n      for (var j in nodemap) {\n        if (nodemap.hasOwnProperty(j)) {\n          attrs.push(nodemap[j])\n        }\n      }\n      attrs.forEach(function(attr) { newScript.setAttribute(attr.name, attr.value) });\n      newScript.appendChild(document.createTextNode(oldScript.innerHTML));\n      oldScript.parentNode.replaceChild(newScript, oldScript);\n    });\n    if (JS_MIME_TYPE in output.data) {\n      toinsert[nchildren-1].children[1].textContent = output.data[JS_MIME_TYPE];\n    }\n    output_area._hv_plot_id = id;\n    if ((window.Bokeh !== undefined) && (id in Bokeh.index)) {\n      window.PyViz.plot_index[id] = Bokeh.index[id];\n    } else {\n      window.PyViz.plot_index[id] = null;\n    }\n  } else if (output.metadata[EXEC_MIME_TYPE][\"server_id\"] !== undefined) {\n    var bk_div = document.createElement(\"div\");\n    bk_div.innerHTML = output.data[HTML_MIME_TYPE];\n    var script_attrs = bk_div.children[0].attributes;\n    for (var i = 0; i < script_attrs.length; i++) {\n      toinsert[toinsert.length - 1].childNodes[1].setAttribute(script_attrs[i].name, script_attrs[i].value);\n    }\n    // store reference to server id on output_area\n    output_area._bokeh_server_id = output.metadata[EXEC_MIME_TYPE][\"server_id\"];\n  }\n}\n\n/**\n * Handle when an output is cleared or removed\n */\nfunction handle_clear_output(event, handle) {\n  var id = handle.cell.output_area._hv_plot_id;\n  var server_id = handle.cell.output_area._bokeh_server_id;\n  if (((id === undefined) || !(id in PyViz.plot_index)) && (server_id !== undefined)) { return; }\n  var comm = window.PyViz.comm_manager.get_client_comm(\"hv-extension-comm\", \"hv-extension-comm\", function () {});\n  if (server_id !== null) {\n    comm.send({event_type: 'server_delete', 'id': server_id});\n    return;\n  } else if (comm !== null) {\n    comm.send({event_type: 'delete', 'id': id});\n  }\n  delete PyViz.plot_index[id];\n  if ((window.Bokeh !== undefined) & (id in window.Bokeh.index)) {\n    var doc = window.Bokeh.index[id].model.document\n    doc.clear();\n    const i = window.Bokeh.documents.indexOf(doc);\n    if (i > -1) {\n      window.Bokeh.documents.splice(i, 1);\n    }\n  }\n}\n\n/**\n * Handle kernel restart event\n */\nfunction handle_kernel_cleanup(event, handle) {\n  delete PyViz.comms[\"hv-extension-comm\"];\n  window.PyViz.plot_index = {}\n}\n\n/**\n * Handle update_display_data messages\n */\nfunction handle_update_output(event, handle) {\n  handle_clear_output(event, {cell: {output_area: handle.output_area}})\n  handle_add_output(event, handle)\n}\n\nfunction register_renderer(events, OutputArea) {\n  function append_mime(data, metadata, element) {\n    // create a DOM node to render to\n    var toinsert = this.create_output_subarea(\n    metadata,\n    CLASS_NAME,\n    EXEC_MIME_TYPE\n    );\n    this.keyboard_manager.register_events(toinsert);\n    // Render to node\n    var props = {data: data, metadata: metadata[EXEC_MIME_TYPE]};\n    render(props, toinsert[0]);\n    element.append(toinsert);\n    return toinsert\n  }\n\n  events.on('output_added.OutputArea', handle_add_output);\n  events.on('output_updated.OutputArea', handle_update_output);\n  events.on('clear_output.CodeCell', handle_clear_output);\n  events.on('delete.Cell', handle_clear_output);\n  events.on('kernel_ready.Kernel', handle_kernel_cleanup);\n\n  OutputArea.prototype.register_mime_type(EXEC_MIME_TYPE, append_mime, {\n    safe: true,\n    index: 0\n  });\n}\n\nif (window.Jupyter !== undefined) {\n  try {\n    var events = require('base/js/events');\n    var OutputArea = require('notebook/js/outputarea').OutputArea;\n    if (OutputArea.prototype.mime_types().indexOf(EXEC_MIME_TYPE) == -1) {\n      register_renderer(events, OutputArea);\n    }\n  } catch(err) {\n  }\n}\n",
      "application/vnd.holoviews_load.v0+json": ""
     },
     "metadata": {},
     "output_type": "display_data"
    },
    {
     "data": {
      "text/html": [
       "<style>*[data-root-id],\n",
       "*[data-root-id] > * {\n",
       "  box-sizing: border-box;\n",
       "  font-family: var(--jp-ui-font-family);\n",
       "  font-size: var(--jp-ui-font-size1);\n",
       "  color: var(--vscode-editor-foreground, var(--jp-ui-font-color1));\n",
       "}\n",
       "\n",
       "/* Override VSCode background color */\n",
       ".cell-output-ipywidget-background:has(\n",
       "    > .cell-output-ipywidget-background > .lm-Widget > *[data-root-id]\n",
       "  ),\n",
       ".cell-output-ipywidget-background:has(> .lm-Widget > *[data-root-id]) {\n",
       "  background-color: transparent !important;\n",
       "}\n",
       "</style>"
      ]
     },
     "metadata": {},
     "output_type": "display_data"
    },
    {
     "data": {
      "application/vnd.holoviews_exec.v0+json": "",
      "text/html": [
       "<div id='p1002'>\n",
       "  <div id=\"e0ed39c6-f24f-44fa-ae2b-506f32f72ac0\" data-root-id=\"p1002\" style=\"display: contents;\"></div>\n",
       "</div>\n",
       "<script type=\"application/javascript\">(function(root) {\n",
       "  var docs_json = {\"34f63b24-ec34-476f-aa3d-a664f63bab0b\":{\"version\":\"3.3.4\",\"title\":\"Bokeh Application\",\"roots\":[{\"type\":\"object\",\"name\":\"panel.models.browser.BrowserInfo\",\"id\":\"p1002\"},{\"type\":\"object\",\"name\":\"panel.models.comm_manager.CommManager\",\"id\":\"p1003\",\"attributes\":{\"plot_id\":\"p1002\",\"comm_id\":\"ab389853e204430ea39839506b42900f\",\"client_comm_id\":\"392aa07a2e7c40df8487dc1f99757c00\"}}],\"defs\":[{\"type\":\"model\",\"name\":\"ReactiveHTML1\"},{\"type\":\"model\",\"name\":\"FlexBox1\",\"properties\":[{\"name\":\"align_content\",\"kind\":\"Any\",\"default\":\"flex-start\"},{\"name\":\"align_items\",\"kind\":\"Any\",\"default\":\"flex-start\"},{\"name\":\"flex_direction\",\"kind\":\"Any\",\"default\":\"row\"},{\"name\":\"flex_wrap\",\"kind\":\"Any\",\"default\":\"wrap\"},{\"name\":\"justify_content\",\"kind\":\"Any\",\"default\":\"flex-start\"}]},{\"type\":\"model\",\"name\":\"FloatPanel1\",\"properties\":[{\"name\":\"config\",\"kind\":\"Any\",\"default\":{\"type\":\"map\"}},{\"name\":\"contained\",\"kind\":\"Any\",\"default\":true},{\"name\":\"position\",\"kind\":\"Any\",\"default\":\"right-top\"},{\"name\":\"offsetx\",\"kind\":\"Any\",\"default\":null},{\"name\":\"offsety\",\"kind\":\"Any\",\"default\":null},{\"name\":\"theme\",\"kind\":\"Any\",\"default\":\"primary\"},{\"name\":\"status\",\"kind\":\"Any\",\"default\":\"normalized\"}]},{\"type\":\"model\",\"name\":\"GridStack1\",\"properties\":[{\"name\":\"mode\",\"kind\":\"Any\",\"default\":\"warn\"},{\"name\":\"ncols\",\"kind\":\"Any\",\"default\":null},{\"name\":\"nrows\",\"kind\":\"Any\",\"default\":null},{\"name\":\"allow_resize\",\"kind\":\"Any\",\"default\":true},{\"name\":\"allow_drag\",\"kind\":\"Any\",\"default\":true},{\"name\":\"state\",\"kind\":\"Any\",\"default\":[]}]},{\"type\":\"model\",\"name\":\"drag1\",\"properties\":[{\"name\":\"slider_width\",\"kind\":\"Any\",\"default\":5},{\"name\":\"slider_color\",\"kind\":\"Any\",\"default\":\"black\"},{\"name\":\"value\",\"kind\":\"Any\",\"default\":50}]},{\"type\":\"model\",\"name\":\"click1\",\"properties\":[{\"name\":\"terminal_output\",\"kind\":\"Any\",\"default\":\"\"},{\"name\":\"debug_name\",\"kind\":\"Any\",\"default\":\"\"},{\"name\":\"clears\",\"kind\":\"Any\",\"default\":0}]},{\"type\":\"model\",\"name\":\"copy_to_clipboard1\",\"properties\":[{\"name\":\"fill\",\"kind\":\"Any\",\"default\":\"none\"},{\"name\":\"value\",\"kind\":\"Any\",\"default\":null}]},{\"type\":\"model\",\"name\":\"FastWrapper1\",\"properties\":[{\"name\":\"object\",\"kind\":\"Any\",\"default\":null},{\"name\":\"style\",\"kind\":\"Any\",\"default\":null}]},{\"type\":\"model\",\"name\":\"NotificationAreaBase1\",\"properties\":[{\"name\":\"js_events\",\"kind\":\"Any\",\"default\":{\"type\":\"map\"}},{\"name\":\"position\",\"kind\":\"Any\",\"default\":\"bottom-right\"},{\"name\":\"_clear\",\"kind\":\"Any\",\"default\":0}]},{\"type\":\"model\",\"name\":\"NotificationArea1\",\"properties\":[{\"name\":\"js_events\",\"kind\":\"Any\",\"default\":{\"type\":\"map\"}},{\"name\":\"notifications\",\"kind\":\"Any\",\"default\":[]},{\"name\":\"position\",\"kind\":\"Any\",\"default\":\"bottom-right\"},{\"name\":\"_clear\",\"kind\":\"Any\",\"default\":0},{\"name\":\"types\",\"kind\":\"Any\",\"default\":[{\"type\":\"map\",\"entries\":[[\"type\",\"warning\"],[\"background\",\"#ffc107\"],[\"icon\",{\"type\":\"map\",\"entries\":[[\"className\",\"fas fa-exclamation-triangle\"],[\"tagName\",\"i\"],[\"color\",\"white\"]]}]]},{\"type\":\"map\",\"entries\":[[\"type\",\"info\"],[\"background\",\"#007bff\"],[\"icon\",{\"type\":\"map\",\"entries\":[[\"className\",\"fas fa-info-circle\"],[\"tagName\",\"i\"],[\"color\",\"white\"]]}]]}]}]},{\"type\":\"model\",\"name\":\"Notification\",\"properties\":[{\"name\":\"background\",\"kind\":\"Any\",\"default\":null},{\"name\":\"duration\",\"kind\":\"Any\",\"default\":3000},{\"name\":\"icon\",\"kind\":\"Any\",\"default\":null},{\"name\":\"message\",\"kind\":\"Any\",\"default\":\"\"},{\"name\":\"notification_type\",\"kind\":\"Any\",\"default\":null},{\"name\":\"_destroyed\",\"kind\":\"Any\",\"default\":false}]},{\"type\":\"model\",\"name\":\"TemplateActions1\",\"properties\":[{\"name\":\"open_modal\",\"kind\":\"Any\",\"default\":0},{\"name\":\"close_modal\",\"kind\":\"Any\",\"default\":0}]},{\"type\":\"model\",\"name\":\"BootstrapTemplateActions1\",\"properties\":[{\"name\":\"open_modal\",\"kind\":\"Any\",\"default\":0},{\"name\":\"close_modal\",\"kind\":\"Any\",\"default\":0}]},{\"type\":\"model\",\"name\":\"MaterialTemplateActions1\",\"properties\":[{\"name\":\"open_modal\",\"kind\":\"Any\",\"default\":0},{\"name\":\"close_modal\",\"kind\":\"Any\",\"default\":0}]}]}};\n",
       "  var render_items = [{\"docid\":\"34f63b24-ec34-476f-aa3d-a664f63bab0b\",\"roots\":{\"p1002\":\"e0ed39c6-f24f-44fa-ae2b-506f32f72ac0\"},\"root_ids\":[\"p1002\"]}];\n",
       "  var docs = Object.values(docs_json)\n",
       "  if (!docs) {\n",
       "    return\n",
       "  }\n",
       "  const py_version = docs[0].version.replace('rc', '-rc.').replace('.dev', '-dev.')\n",
       "  function embed_document(root) {\n",
       "    var Bokeh = get_bokeh(root)\n",
       "    Bokeh.embed.embed_items_notebook(docs_json, render_items);\n",
       "    for (const render_item of render_items) {\n",
       "      for (const root_id of render_item.root_ids) {\n",
       "\tconst id_el = document.getElementById(root_id)\n",
       "\tif (id_el.children.length && (id_el.children[0].className === 'bk-root')) {\n",
       "\t  const root_el = id_el.children[0]\n",
       "\t  root_el.id = root_el.id + '-rendered'\n",
       "\t}\n",
       "      }\n",
       "    }\n",
       "  }\n",
       "  function get_bokeh(root) {\n",
       "    if (root.Bokeh === undefined) {\n",
       "      return null\n",
       "    } else if (root.Bokeh.version !== py_version) {\n",
       "      if (root.Bokeh.versions === undefined || !root.Bokeh.versions.has(py_version)) {\n",
       "\treturn null\n",
       "      }\n",
       "      return root.Bokeh.versions.get(py_version);\n",
       "    } else if (root.Bokeh.version === py_version) {\n",
       "      return root.Bokeh\n",
       "    }\n",
       "    return null\n",
       "  }\n",
       "  function is_loaded(root) {\n",
       "    var Bokeh = get_bokeh(root)\n",
       "    return (Bokeh != null && Bokeh.Panel !== undefined)\n",
       "  }\n",
       "  if (is_loaded(root)) {\n",
       "    embed_document(root);\n",
       "  } else {\n",
       "    var attempts = 0;\n",
       "    var timer = setInterval(function(root) {\n",
       "      if (is_loaded(root)) {\n",
       "        clearInterval(timer);\n",
       "        embed_document(root);\n",
       "      } else if (document.readyState == \"complete\") {\n",
       "        attempts++;\n",
       "        if (attempts > 200) {\n",
       "          clearInterval(timer);\n",
       "\t  var Bokeh = get_bokeh(root)\n",
       "\t  if (Bokeh == null || Bokeh.Panel == null) {\n",
       "            console.warn(\"Panel: ERROR: Unable to run Panel code because Bokeh or Panel library is missing\");\n",
       "\t  } else {\n",
       "\t    console.warn(\"Panel: WARNING: Attempting to render but not all required libraries could be resolved.\")\n",
       "\t    embed_document(root)\n",
       "\t  }\n",
       "        }\n",
       "      }\n",
       "    }, 25, root)\n",
       "  }\n",
       "})(window);</script>"
      ]
     },
     "metadata": {
      "application/vnd.holoviews_exec.v0+json": {
       "id": "p1002"
      }
     },
     "output_type": "display_data"
    }
   ],
   "source": [
    "# Cargar librerias\n",
    "import numpy as np\n",
    "import pandas as pd\n",
    "import matplotlib.pyplot as plt\n",
    "import seaborn as sns\n",
    "import scipy.stats as stats\n",
    "from EDA_cleaning_utils import tabla_frecuencia\n",
    "from EDA_cleaning_utils import graficar_barras\n",
    "from EDA_cleaning_utils import normalizar_columna\n",
    "import hvplot.pandas\n",
    "pd.set_option('display.max_columns', None)"
   ]
  },
  {
   "cell_type": "code",
   "execution_count": 3,
   "metadata": {},
   "outputs": [
    {
     "data": {
      "text/html": [
       "<div>\n",
       "<style scoped>\n",
       "    .dataframe tbody tr th:only-of-type {\n",
       "        vertical-align: middle;\n",
       "    }\n",
       "\n",
       "    .dataframe tbody tr th {\n",
       "        vertical-align: top;\n",
       "    }\n",
       "\n",
       "    .dataframe thead th {\n",
       "        text-align: right;\n",
       "    }\n",
       "</style>\n",
       "<table border=\"1\" class=\"dataframe\">\n",
       "  <thead>\n",
       "    <tr style=\"text-align: right;\">\n",
       "      <th></th>\n",
       "      <th>CONTRACT_ID</th>\n",
       "      <th>ENTITY_NAME</th>\n",
       "      <th>DEPARTMENT</th>\n",
       "      <th>MUNICIPALITY_TYPE</th>\n",
       "      <th>PROCESS_TYPE</th>\n",
       "      <th>CONTRACT_OBJECT</th>\n",
       "      <th>OBJETC_DETAIL</th>\n",
       "      <th>ESTIMATED_COST_ORIG</th>\n",
       "      <th>CONTRACT_VALUE_ORIG</th>\n",
       "      <th>ADDITIONAL_COST_ORIG</th>\n",
       "      <th>FINAL_COST_ORIG</th>\n",
       "      <th>YEAR</th>\n",
       "      <th>CONTRACT_DATE</th>\n",
       "      <th>START_DATE</th>\n",
       "      <th>ORIGINAL_DEADLINE</th>\n",
       "      <th>END_DATE</th>\n",
       "      <th>ID_ADJUDICACION</th>\n",
       "      <th>URLPROCESO</th>\n",
       "      <th>NIT_ENTIDAD</th>\n",
       "      <th>ID_CONTRATISTA</th>\n",
       "      <th>ESTIMATED_COST_NORM</th>\n",
       "      <th>CONTRACT_VALUE_NORM</th>\n",
       "      <th>ADDITIONAL_COST_NORM</th>\n",
       "      <th>FINAL_COST_NORM</th>\n",
       "      <th>ADDITIONAL_TIME</th>\n",
       "      <th>FINAL_DEADLINE</th>\n",
       "      <th>PROJECT_INTENSITY_NORM</th>\n",
       "      <th>PROJECT_INTENSITY_ORIG</th>\n",
       "      <th>AWARD_GROWTH_NORM</th>\n",
       "      <th>AWARD_GROWTH_ORIG</th>\n",
       "      <th>COST_DEVIATION_ORIG</th>\n",
       "      <th>COST_DEVIATION_NORM</th>\n",
       "      <th>TIME_DEVIATION</th>\n",
       "      <th>OWNER</th>\n",
       "      <th>REGION</th>\n",
       "      <th>GROUP</th>\n",
       "      <th>COST_GROUP_QUANTILE</th>\n",
       "    </tr>\n",
       "  </thead>\n",
       "  <tbody>\n",
       "    <tr>\n",
       "      <th>0</th>\n",
       "      <td>17-13-6626390-6041040</td>\n",
       "      <td>NARINO  ALCALDIA MUNICIPIO DE ARBOLEDA BERRUECOS</td>\n",
       "      <td>NARIÑO</td>\n",
       "      <td>TYPE_2</td>\n",
       "      <td>CONTRATACIÓN MÍNIMA CUANTÍA</td>\n",
       "      <td>TERRENOS, EDIFICIOS, ESTRUCTURAS Y VÍAS</td>\n",
       "      <td>CONTRATAR LA OBRA PUBLICA PARA REALIZAR EL MAN...</td>\n",
       "      <td>1.999626e+07</td>\n",
       "      <td>1.999626e+07</td>\n",
       "      <td>0.0</td>\n",
       "      <td>1.999626e+07</td>\n",
       "      <td>2017</td>\n",
       "      <td>2017-05-26</td>\n",
       "      <td>2017-05-26</td>\n",
       "      <td>7</td>\n",
       "      <td>2017-06-02</td>\n",
       "      <td>6041040</td>\n",
       "      <td>{'url': 'https://www.contratos.gov.co/consulta...</td>\n",
       "      <td>800093386-8</td>\n",
       "      <td>1018464415</td>\n",
       "      <td>27.105601</td>\n",
       "      <td>27.105601</td>\n",
       "      <td>0.000000</td>\n",
       "      <td>27.105601</td>\n",
       "      <td>0</td>\n",
       "      <td>7</td>\n",
       "      <td>3.872229</td>\n",
       "      <td>2.856609e+06</td>\n",
       "      <td>0.000000</td>\n",
       "      <td>0.000000</td>\n",
       "      <td>0.000000</td>\n",
       "      <td>0.000000</td>\n",
       "      <td>0.0</td>\n",
       "      <td>MUNICIPALITY</td>\n",
       "      <td>PACIFICA</td>\n",
       "      <td>Vias Rurales hasta 2020</td>\n",
       "      <td>1</td>\n",
       "    </tr>\n",
       "    <tr>\n",
       "      <th>1</th>\n",
       "      <td>19-1-205607-10520942</td>\n",
       "      <td>ANTIOQUIA  ALCALDIA MUNICIPIO DE EL PENOL</td>\n",
       "      <td>ANTIOQUIA</td>\n",
       "      <td>TYPE_6</td>\n",
       "      <td>LICITACIÓN PÚBLICA</td>\n",
       "      <td>TERRENOS, EDIFICIOS, ESTRUCTURAS Y VÍAS</td>\n",
       "      <td>FRESADA Y PAVIMENTACION DE LA VIA DE ACCESO PR...</td>\n",
       "      <td>1.104422e+09</td>\n",
       "      <td>1.084239e+09</td>\n",
       "      <td>250060500.0</td>\n",
       "      <td>1.334300e+09</td>\n",
       "      <td>2019</td>\n",
       "      <td>2019-11-28</td>\n",
       "      <td>2019-12-04</td>\n",
       "      <td>60</td>\n",
       "      <td>2020-05-04</td>\n",
       "      <td>10520942</td>\n",
       "      <td>{'url': 'https://www.contratos.gov.co/consulta...</td>\n",
       "      <td>890980917</td>\n",
       "      <td>901337744</td>\n",
       "      <td>1333.656541</td>\n",
       "      <td>1309.283977</td>\n",
       "      <td>301.963131</td>\n",
       "      <td>1611.247108</td>\n",
       "      <td>90</td>\n",
       "      <td>150</td>\n",
       "      <td>21.821400</td>\n",
       "      <td>1.807065e+07</td>\n",
       "      <td>-1.827499</td>\n",
       "      <td>-1.827499</td>\n",
       "      <td>0.230632</td>\n",
       "      <td>0.230632</td>\n",
       "      <td>1.5</td>\n",
       "      <td>MUNICIPALITY</td>\n",
       "      <td>ANDINA</td>\n",
       "      <td>Vias Rurales hasta 2020</td>\n",
       "      <td>4</td>\n",
       "    </tr>\n",
       "    <tr>\n",
       "      <th>2</th>\n",
       "      <td>19-13-8824649-8190165</td>\n",
       "      <td>ANTIOQUIA  ALCALDIA MUNICIPIO DE NECOCLI</td>\n",
       "      <td>ANTIOQUIA</td>\n",
       "      <td>TYPE_6</td>\n",
       "      <td>CONTRATACIÓN MÍNIMA CUANTÍA</td>\n",
       "      <td>TERRENOS, EDIFICIOS, ESTRUCTURAS Y VÍAS</td>\n",
       "      <td>MANTENIMIENTO  VIA ACCESO AL COLISEO DEL MUNIC...</td>\n",
       "      <td>2.150000e+07</td>\n",
       "      <td>2.150000e+07</td>\n",
       "      <td>0.0</td>\n",
       "      <td>2.150000e+07</td>\n",
       "      <td>2019</td>\n",
       "      <td>2019-01-03</td>\n",
       "      <td>2019-01-22</td>\n",
       "      <td>10</td>\n",
       "      <td>2019-02-01</td>\n",
       "      <td>8190165</td>\n",
       "      <td>{'url': 'https://www.contratos.gov.co/consulta...</td>\n",
       "      <td>890985354-8</td>\n",
       "      <td>900821698</td>\n",
       "      <td>25.962546</td>\n",
       "      <td>25.962546</td>\n",
       "      <td>0.000000</td>\n",
       "      <td>25.962546</td>\n",
       "      <td>0</td>\n",
       "      <td>10</td>\n",
       "      <td>2.596255</td>\n",
       "      <td>2.150000e+06</td>\n",
       "      <td>0.000000</td>\n",
       "      <td>0.000000</td>\n",
       "      <td>0.000000</td>\n",
       "      <td>0.000000</td>\n",
       "      <td>0.0</td>\n",
       "      <td>MUNICIPALITY</td>\n",
       "      <td>ANDINA</td>\n",
       "      <td>Vias Rurales hasta 2020</td>\n",
       "      <td>1</td>\n",
       "    </tr>\n",
       "    <tr>\n",
       "      <th>3</th>\n",
       "      <td>19-12-9611888-8756837</td>\n",
       "      <td>CAUCA  ALCALDIA MUNICIPIO DE PIAMONTE</td>\n",
       "      <td>CAUCA</td>\n",
       "      <td>TYPE_6</td>\n",
       "      <td>CONTRATACIÓN DIRECTA (LEY 1150 DE 2007)</td>\n",
       "      <td>TERRENOS, EDIFICIOS, ESTRUCTURAS Y VÍAS</td>\n",
       "      <td>APOYO AL CONVENIO SOLIDARIO PARA EL MEJORAMIEN...</td>\n",
       "      <td>2.000000e+07</td>\n",
       "      <td>2.000000e+07</td>\n",
       "      <td>0.0</td>\n",
       "      <td>2.000000e+07</td>\n",
       "      <td>2019</td>\n",
       "      <td>2019-06-26</td>\n",
       "      <td>2019-06-26</td>\n",
       "      <td>30</td>\n",
       "      <td>2019-07-26</td>\n",
       "      <td>8756837</td>\n",
       "      <td>{'url': 'https://www.contratos.gov.co/consulta...</td>\n",
       "      <td>891856464-0</td>\n",
       "      <td>901276910</td>\n",
       "      <td>24.151206</td>\n",
       "      <td>24.151206</td>\n",
       "      <td>0.000000</td>\n",
       "      <td>24.151206</td>\n",
       "      <td>0</td>\n",
       "      <td>30</td>\n",
       "      <td>0.805040</td>\n",
       "      <td>6.666667e+05</td>\n",
       "      <td>0.000000</td>\n",
       "      <td>0.000000</td>\n",
       "      <td>0.000000</td>\n",
       "      <td>0.000000</td>\n",
       "      <td>0.0</td>\n",
       "      <td>MUNICIPALITY</td>\n",
       "      <td>PACIFICA</td>\n",
       "      <td>Vias Rurales hasta 2020</td>\n",
       "      <td>1</td>\n",
       "    </tr>\n",
       "    <tr>\n",
       "      <th>4</th>\n",
       "      <td>19-13-9683074-9182713</td>\n",
       "      <td>ANTIOQUIA  ALCALDIA MUNICIPIO DE NECOCLI</td>\n",
       "      <td>ANTIOQUIA</td>\n",
       "      <td>TYPE_6</td>\n",
       "      <td>CONTRATACIÓN MÍNIMA CUANTÍA</td>\n",
       "      <td>TERRENOS, EDIFICIOS, ESTRUCTURAS Y VÍAS</td>\n",
       "      <td>CONSTRUCCION BOXCOULVER A TODO COSTO EN EL CEN...</td>\n",
       "      <td>2.300000e+07</td>\n",
       "      <td>2.299620e+07</td>\n",
       "      <td>0.0</td>\n",
       "      <td>2.299620e+07</td>\n",
       "      <td>2019</td>\n",
       "      <td>2019-07-12</td>\n",
       "      <td>2019-09-25</td>\n",
       "      <td>30</td>\n",
       "      <td>2019-10-25</td>\n",
       "      <td>9182713</td>\n",
       "      <td>{'url': 'https://www.contratos.gov.co/consulta...</td>\n",
       "      <td>890985354-8</td>\n",
       "      <td>900821698</td>\n",
       "      <td>27.773887</td>\n",
       "      <td>27.769297</td>\n",
       "      <td>0.000000</td>\n",
       "      <td>27.769297</td>\n",
       "      <td>0</td>\n",
       "      <td>30</td>\n",
       "      <td>0.925643</td>\n",
       "      <td>7.665400e+05</td>\n",
       "      <td>-0.016526</td>\n",
       "      <td>-0.016526</td>\n",
       "      <td>0.000000</td>\n",
       "      <td>0.000000</td>\n",
       "      <td>0.0</td>\n",
       "      <td>MUNICIPALITY</td>\n",
       "      <td>ANDINA</td>\n",
       "      <td>Vias Rurales hasta 2020</td>\n",
       "      <td>2</td>\n",
       "    </tr>\n",
       "  </tbody>\n",
       "</table>\n",
       "</div>"
      ],
      "text/plain": [
       "             CONTRACT_ID                                       ENTITY_NAME  \\\n",
       "0  17-13-6626390-6041040  NARINO  ALCALDIA MUNICIPIO DE ARBOLEDA BERRUECOS   \n",
       "1   19-1-205607-10520942         ANTIOQUIA  ALCALDIA MUNICIPIO DE EL PENOL   \n",
       "2  19-13-8824649-8190165          ANTIOQUIA  ALCALDIA MUNICIPIO DE NECOCLI   \n",
       "3  19-12-9611888-8756837             CAUCA  ALCALDIA MUNICIPIO DE PIAMONTE   \n",
       "4  19-13-9683074-9182713          ANTIOQUIA  ALCALDIA MUNICIPIO DE NECOCLI   \n",
       "\n",
       "  DEPARTMENT MUNICIPALITY_TYPE                             PROCESS_TYPE  \\\n",
       "0     NARIÑO            TYPE_2              CONTRATACIÓN MÍNIMA CUANTÍA   \n",
       "1  ANTIOQUIA            TYPE_6                       LICITACIÓN PÚBLICA   \n",
       "2  ANTIOQUIA            TYPE_6              CONTRATACIÓN MÍNIMA CUANTÍA   \n",
       "3      CAUCA            TYPE_6  CONTRATACIÓN DIRECTA (LEY 1150 DE 2007)   \n",
       "4  ANTIOQUIA            TYPE_6              CONTRATACIÓN MÍNIMA CUANTÍA   \n",
       "\n",
       "                           CONTRACT_OBJECT  \\\n",
       "0  TERRENOS, EDIFICIOS, ESTRUCTURAS Y VÍAS   \n",
       "1  TERRENOS, EDIFICIOS, ESTRUCTURAS Y VÍAS   \n",
       "2  TERRENOS, EDIFICIOS, ESTRUCTURAS Y VÍAS   \n",
       "3  TERRENOS, EDIFICIOS, ESTRUCTURAS Y VÍAS   \n",
       "4  TERRENOS, EDIFICIOS, ESTRUCTURAS Y VÍAS   \n",
       "\n",
       "                                       OBJETC_DETAIL  ESTIMATED_COST_ORIG  \\\n",
       "0  CONTRATAR LA OBRA PUBLICA PARA REALIZAR EL MAN...         1.999626e+07   \n",
       "1  FRESADA Y PAVIMENTACION DE LA VIA DE ACCESO PR...         1.104422e+09   \n",
       "2  MANTENIMIENTO  VIA ACCESO AL COLISEO DEL MUNIC...         2.150000e+07   \n",
       "3  APOYO AL CONVENIO SOLIDARIO PARA EL MEJORAMIEN...         2.000000e+07   \n",
       "4  CONSTRUCCION BOXCOULVER A TODO COSTO EN EL CEN...         2.300000e+07   \n",
       "\n",
       "   CONTRACT_VALUE_ORIG  ADDITIONAL_COST_ORIG  FINAL_COST_ORIG  YEAR  \\\n",
       "0         1.999626e+07                   0.0     1.999626e+07  2017   \n",
       "1         1.084239e+09           250060500.0     1.334300e+09  2019   \n",
       "2         2.150000e+07                   0.0     2.150000e+07  2019   \n",
       "3         2.000000e+07                   0.0     2.000000e+07  2019   \n",
       "4         2.299620e+07                   0.0     2.299620e+07  2019   \n",
       "\n",
       "  CONTRACT_DATE  START_DATE  ORIGINAL_DEADLINE    END_DATE  ID_ADJUDICACION  \\\n",
       "0    2017-05-26  2017-05-26                  7  2017-06-02          6041040   \n",
       "1    2019-11-28  2019-12-04                 60  2020-05-04         10520942   \n",
       "2    2019-01-03  2019-01-22                 10  2019-02-01          8190165   \n",
       "3    2019-06-26  2019-06-26                 30  2019-07-26          8756837   \n",
       "4    2019-07-12  2019-09-25                 30  2019-10-25          9182713   \n",
       "\n",
       "                                          URLPROCESO  NIT_ENTIDAD  \\\n",
       "0  {'url': 'https://www.contratos.gov.co/consulta...  800093386-8   \n",
       "1  {'url': 'https://www.contratos.gov.co/consulta...    890980917   \n",
       "2  {'url': 'https://www.contratos.gov.co/consulta...  890985354-8   \n",
       "3  {'url': 'https://www.contratos.gov.co/consulta...  891856464-0   \n",
       "4  {'url': 'https://www.contratos.gov.co/consulta...  890985354-8   \n",
       "\n",
       "  ID_CONTRATISTA  ESTIMATED_COST_NORM  CONTRACT_VALUE_NORM  \\\n",
       "0     1018464415            27.105601            27.105601   \n",
       "1      901337744          1333.656541          1309.283977   \n",
       "2      900821698            25.962546            25.962546   \n",
       "3      901276910            24.151206            24.151206   \n",
       "4      900821698            27.773887            27.769297   \n",
       "\n",
       "   ADDITIONAL_COST_NORM  FINAL_COST_NORM  ADDITIONAL_TIME  FINAL_DEADLINE  \\\n",
       "0              0.000000        27.105601                0               7   \n",
       "1            301.963131      1611.247108               90             150   \n",
       "2              0.000000        25.962546                0              10   \n",
       "3              0.000000        24.151206                0              30   \n",
       "4              0.000000        27.769297                0              30   \n",
       "\n",
       "   PROJECT_INTENSITY_NORM  PROJECT_INTENSITY_ORIG  AWARD_GROWTH_NORM  \\\n",
       "0                3.872229            2.856609e+06           0.000000   \n",
       "1               21.821400            1.807065e+07          -1.827499   \n",
       "2                2.596255            2.150000e+06           0.000000   \n",
       "3                0.805040            6.666667e+05           0.000000   \n",
       "4                0.925643            7.665400e+05          -0.016526   \n",
       "\n",
       "   AWARD_GROWTH_ORIG  COST_DEVIATION_ORIG  COST_DEVIATION_NORM  \\\n",
       "0           0.000000             0.000000             0.000000   \n",
       "1          -1.827499             0.230632             0.230632   \n",
       "2           0.000000             0.000000             0.000000   \n",
       "3           0.000000             0.000000             0.000000   \n",
       "4          -0.016526             0.000000             0.000000   \n",
       "\n",
       "   TIME_DEVIATION         OWNER    REGION                    GROUP  \\\n",
       "0             0.0  MUNICIPALITY  PACIFICA  Vias Rurales hasta 2020   \n",
       "1             1.5  MUNICIPALITY    ANDINA  Vias Rurales hasta 2020   \n",
       "2             0.0  MUNICIPALITY    ANDINA  Vias Rurales hasta 2020   \n",
       "3             0.0  MUNICIPALITY  PACIFICA  Vias Rurales hasta 2020   \n",
       "4             0.0  MUNICIPALITY    ANDINA  Vias Rurales hasta 2020   \n",
       "\n",
       "   COST_GROUP_QUANTILE  \n",
       "0                    1  \n",
       "1                    4  \n",
       "2                    1  \n",
       "3                    1  \n",
       "4                    2  "
      ]
     },
     "execution_count": 3,
     "metadata": {},
     "output_type": "execute_result"
    }
   ],
   "source": [
    "df = pd.read_csv('collected_obra_data_all_process.csv')\n",
    "df.head()"
   ]
  },
  {
   "cell_type": "code",
   "execution_count": 4,
   "metadata": {},
   "outputs": [
    {
     "name": "stdout",
     "output_type": "stream",
     "text": [
      "<class 'pandas.core.frame.DataFrame'>\n",
      "RangeIndex: 6790 entries, 0 to 6789\n",
      "Data columns (total 37 columns):\n",
      " #   Column                  Non-Null Count  Dtype  \n",
      "---  ------                  --------------  -----  \n",
      " 0   CONTRACT_ID             6790 non-null   object \n",
      " 1   ENTITY_NAME             6790 non-null   object \n",
      " 2   DEPARTMENT              6790 non-null   object \n",
      " 3   MUNICIPALITY_TYPE       6790 non-null   object \n",
      " 4   PROCESS_TYPE            6790 non-null   object \n",
      " 5   CONTRACT_OBJECT         6790 non-null   object \n",
      " 6   OBJETC_DETAIL           6790 non-null   object \n",
      " 7   ESTIMATED_COST_ORIG     6790 non-null   float64\n",
      " 8   CONTRACT_VALUE_ORIG     6790 non-null   float64\n",
      " 9   ADDITIONAL_COST_ORIG    6790 non-null   float64\n",
      " 10  FINAL_COST_ORIG         6790 non-null   float64\n",
      " 11  YEAR                    6790 non-null   int64  \n",
      " 12  CONTRACT_DATE           6790 non-null   object \n",
      " 13  START_DATE              6784 non-null   object \n",
      " 14  ORIGINAL_DEADLINE       6790 non-null   int64  \n",
      " 15  END_DATE                6784 non-null   object \n",
      " 16  ID_ADJUDICACION         6790 non-null   int64  \n",
      " 17  URLPROCESO              6790 non-null   object \n",
      " 18  NIT_ENTIDAD             6790 non-null   object \n",
      " 19  ID_CONTRATISTA          6790 non-null   object \n",
      " 20  ESTIMATED_COST_NORM     6790 non-null   float64\n",
      " 21  CONTRACT_VALUE_NORM     6790 non-null   float64\n",
      " 22  ADDITIONAL_COST_NORM    6790 non-null   float64\n",
      " 23  FINAL_COST_NORM         6790 non-null   float64\n",
      " 24  ADDITIONAL_TIME         6790 non-null   int64  \n",
      " 25  FINAL_DEADLINE          6790 non-null   int64  \n",
      " 26  PROJECT_INTENSITY_NORM  6790 non-null   float64\n",
      " 27  PROJECT_INTENSITY_ORIG  6790 non-null   float64\n",
      " 28  AWARD_GROWTH_NORM       6790 non-null   float64\n",
      " 29  AWARD_GROWTH_ORIG       6790 non-null   float64\n",
      " 30  COST_DEVIATION_ORIG     6790 non-null   float64\n",
      " 31  COST_DEVIATION_NORM     6790 non-null   float64\n",
      " 32  TIME_DEVIATION          6653 non-null   float64\n",
      " 33  OWNER                   6790 non-null   object \n",
      " 34  REGION                  6790 non-null   object \n",
      " 35  GROUP                   6790 non-null   object \n",
      " 36  COST_GROUP_QUANTILE     6790 non-null   int64  \n",
      "dtypes: float64(15), int64(6), object(16)\n",
      "memory usage: 1.9+ MB\n"
     ]
    }
   ],
   "source": [
    "df.info()"
   ]
  },
  {
   "cell_type": "markdown",
   "metadata": {},
   "source": [
    "## Procesamiento básico"
   ]
  },
  {
   "cell_type": "code",
   "execution_count": 5,
   "metadata": {},
   "outputs": [],
   "source": [
    "df['CONTRACT_VALUE_ORIG_MILLIONS'] = df['CONTRACT_VALUE_ORIG']/1e6\n",
    "df['ADDITIONAL_COST_ORIG_MILLIONS'] = df['ADDITIONAL_COST_ORIG']/1e6\n",
    "df['FINAL_COST_ORIG_MILLIONS'] = df['FINAL_COST_ORIG']/1e6\n",
    "df['OBJETC_DETAIL'] = df['OBJETC_DETAIL'].str.upper()"
   ]
  },
  {
   "cell_type": "markdown",
   "metadata": {},
   "source": [
    "## Filtros"
   ]
  },
  {
   "cell_type": "code",
   "execution_count": 6,
   "metadata": {},
   "outputs": [
    {
     "data": {
      "text/plain": [
       "GROUP\n",
       "Vias Rurales 2021-2023                      651\n",
       "Vias Rurales en SECOP II 2021-2023          127\n",
       "Vias Rurales en SECOP II hasta 2020          30\n",
       "Vias Rurales hasta 2020                    4286\n",
       "Vias secundarias 2021-2023                   97\n",
       "Vias secundarias en SECOP II 2021-2023       21\n",
       "Vias secundarias en SECOP II hasta 2020       9\n",
       "Vias secundarias hasta 2020                1569\n",
       "dtype: int64"
      ]
     },
     "execution_count": 6,
     "metadata": {},
     "output_type": "execute_result"
    }
   ],
   "source": [
    "df.groupby('GROUP').size()"
   ]
  },
  {
   "cell_type": "code",
   "execution_count": 7,
   "metadata": {},
   "outputs": [],
   "source": [
    "# Quitar vías secundarías\n",
    "df = df.loc[df['GROUP'].str.contains('Vias Rurales')].copy()"
   ]
  },
  {
   "cell_type": "code",
   "execution_count": 8,
   "metadata": {},
   "outputs": [
    {
     "data": {
      "text/plain": [
       "(5094, 40)"
      ]
     },
     "execution_count": 8,
     "metadata": {},
     "output_type": "execute_result"
    }
   ],
   "source": [
    "df.shape"
   ]
  },
  {
   "cell_type": "code",
   "execution_count": 9,
   "metadata": {},
   "outputs": [
    {
     "data": {
      "text/plain": [
       "GROUP\n",
       "Vias Rurales 2021-2023                  651\n",
       "Vias Rurales en SECOP II 2021-2023      127\n",
       "Vias Rurales en SECOP II hasta 2020      30\n",
       "Vias Rurales hasta 2020                4286\n",
       "dtype: int64"
      ]
     },
     "execution_count": 9,
     "metadata": {},
     "output_type": "execute_result"
    }
   ],
   "source": [
    "df.groupby('GROUP').size()"
   ]
  },
  {
   "cell_type": "code",
   "execution_count": 10,
   "metadata": {},
   "outputs": [],
   "source": [
    "df['OBJETC_DETAIL'] = df['OBJETC_DETAIL'].str.upper()"
   ]
  },
  {
   "cell_type": "code",
   "execution_count": 11,
   "metadata": {},
   "outputs": [
    {
     "data": {
      "text/plain": [
       "(4537, 40)"
      ]
     },
     "execution_count": 11,
     "metadata": {},
     "output_type": "execute_result"
    }
   ],
   "source": [
    "# Quitar convenios interadministrativos\n",
    "kw_convenios = [\n",
    "    'AUNAR',\n",
    "    'CONVENIO',\n",
    "    'ANUAR',\n",
    "    'AUNNAR',\n",
    "    'INTERADMINISTRATIVO',\n",
    "    'COMPLEMENTACION DE ESFUERZOS INSTITUCIONALES',\n",
    "    'COMPLEMENTAR ESFUERZOS INSTITUCIONALES',\n",
    "    'UNIR  ESFUERZOS',\n",
    "    'UNIR ESFUERZOS',\n",
    "    'UNION DE ESFUERZOS'\n",
    "               ]\n",
    "# Unir las palabras clave en un solo string separadas por '|'\n",
    "kw_convenios = '|'.join(kw_convenios)\n",
    "df = df.loc[~df['OBJETC_DETAIL'].str.contains(kw_convenios)].copy()\n",
    "df.shape"
   ]
  },
  {
   "cell_type": "code",
   "execution_count": 12,
   "metadata": {},
   "outputs": [
    {
     "data": {
      "text/plain": [
       "(4102, 40)"
      ]
     },
     "execution_count": 12,
     "metadata": {},
     "output_type": "execute_result"
    }
   ],
   "source": [
    "# Quitar contratos que no son obra\n",
    "kw_otros = ['ESTUDIOS',\n",
    "             'DISENOS',\n",
    "             'ESTUDIO',\n",
    "             'DISENO',\n",
    "             'INTERVENTORIA',\n",
    "             'INTERVENTORA',\n",
    "             'INTRERVENTORIA',\n",
    "             'ADMINISTRACION',\n",
    "             'INVENTARIO',\n",
    "             'ELABORACION DE UN  MANUAL',\n",
    "             'SUMINISTRO',\n",
    "             'INSTITUCIONES EDUCATIVAS',\n",
    "             'INSTITUCION EDUCATIVA',\n",
    "             'MANTENIMIENTO RUTINARIO'\n",
    "             ]\n",
    "\n",
    "kw_otros = '|'.join(kw_otros)\n",
    "\n",
    "df = df.loc[~df['OBJETC_DETAIL'].str.contains(kw_otros)].copy()\n",
    "df.shape"
   ]
  },
  {
   "cell_type": "code",
   "execution_count": 13,
   "metadata": {},
   "outputs": [
    {
     "data": {
      "text/plain": [
       "(3995, 40)"
      ]
     },
     "execution_count": 13,
     "metadata": {},
     "output_type": "execute_result"
    }
   ],
   "source": [
    "# Quitar otros tipos de obras\n",
    "kw_otras_obras = ['ACUEDUCTO',\n",
    "                  'ALCANTARILLADO',\n",
    "                  'PARQUE',\n",
    "                  'COLEGIO']\n",
    "\n",
    "kw_otras_obras = '|'.join(kw_otras_obras)\n",
    "\n",
    "df = df.loc[~df['OBJETC_DETAIL'].str.contains(kw_otras_obras)].copy()\n",
    "df.shape"
   ]
  },
  {
   "cell_type": "code",
   "execution_count": 14,
   "metadata": {},
   "outputs": [
    {
     "data": {
      "text/plain": [
       "PROCESS_TYPE\n",
       "CONCURSO DE DISEÑO ARQUITECTÓNICO                                                           1\n",
       "CONCURSO DE MÉRITOS ABIERTO                                                                 1\n",
       "CONTRATACIÓN DIRECTA                                                                       94\n",
       "CONTRATACIÓN DIRECTA (CON OFERTAS)                                                          6\n",
       "CONTRATACIÓN DIRECTA (LEY 1150 DE 2007)                                                  1430\n",
       "CONTRATACIÓN MÍNIMA CUANTÍA                                                              1071\n",
       "CONTRATACIÓN RÉGIMEN ESPECIAL                                                               1\n",
       "CONTRATOS Y CONVENIOS CON MÁS DE DOS PARTES                                                 2\n",
       "LICITACIÓN OBRA PÚBLICA                                                                    92\n",
       "LICITACIÓN PÚBLICA                                                                        359\n",
       "LICITACIÓN PÚBLICA OBRA PUBLICA                                                             4\n",
       "MÍNIMA CUANTÍA                                                                             17\n",
       "RÉGIMEN ESPECIAL                                                                          300\n",
       "SELECCIÓN ABREVIADA DE MENOR CUANTÍA                                                       14\n",
       "SELECCIÓN ABREVIADA DE MENOR CUANTÍA (LEY 1150 DE 2007)                                   600\n",
       "SELECCIÓN ABREVIADA DEL LITERAL H DEL NUMERAL 2 DEL ARTÍCULO 2 DE LA LEY 1150 DE 2007       3\n",
       "dtype: int64"
      ]
     },
     "execution_count": 14,
     "metadata": {},
     "output_type": "execute_result"
    }
   ],
   "source": [
    "df.groupby('PROCESS_TYPE').size()"
   ]
  },
  {
   "cell_type": "code",
   "execution_count": 15,
   "metadata": {},
   "outputs": [],
   "source": [
    "modalidad_consulta = ['CONCURSO DE DISEÑO ARQUITECTÓNICO','CONCURSO DE MÉRITOS ABIERTO','CONTRATOS Y CONVENIOS CON MÁS DE DOS PARTES']\n",
    "col_sel = ['OBJETC_DETAIL','CONTRACT_VALUE_ORIG_MILLIONS']\n",
    "df.loc[df['PROCESS_TYPE'].isin(modalidad_consulta),col_sel].to_clipboard()"
   ]
  },
  {
   "cell_type": "code",
   "execution_count": 16,
   "metadata": {},
   "outputs": [
    {
     "data": {
      "text/plain": [
       "Index(['CONTRACT_ID', 'ENTITY_NAME', 'DEPARTMENT', 'MUNICIPALITY_TYPE',\n",
       "       'PROCESS_TYPE', 'CONTRACT_OBJECT', 'OBJETC_DETAIL',\n",
       "       'ESTIMATED_COST_ORIG', 'CONTRACT_VALUE_ORIG', 'ADDITIONAL_COST_ORIG',\n",
       "       'FINAL_COST_ORIG', 'YEAR', 'CONTRACT_DATE', 'START_DATE',\n",
       "       'ORIGINAL_DEADLINE', 'END_DATE', 'ID_ADJUDICACION', 'URLPROCESO',\n",
       "       'NIT_ENTIDAD', 'ID_CONTRATISTA', 'ESTIMATED_COST_NORM',\n",
       "       'CONTRACT_VALUE_NORM', 'ADDITIONAL_COST_NORM', 'FINAL_COST_NORM',\n",
       "       'ADDITIONAL_TIME', 'FINAL_DEADLINE', 'PROJECT_INTENSITY_NORM',\n",
       "       'PROJECT_INTENSITY_ORIG', 'AWARD_GROWTH_NORM', 'AWARD_GROWTH_ORIG',\n",
       "       'COST_DEVIATION_ORIG', 'COST_DEVIATION_NORM', 'TIME_DEVIATION', 'OWNER',\n",
       "       'REGION', 'GROUP', 'COST_GROUP_QUANTILE',\n",
       "       'CONTRACT_VALUE_ORIG_MILLIONS', 'ADDITIONAL_COST_ORIG_MILLIONS',\n",
       "       'FINAL_COST_ORIG_MILLIONS'],\n",
       "      dtype='object')"
      ]
     },
     "execution_count": 16,
     "metadata": {},
     "output_type": "execute_result"
    }
   ],
   "source": [
    "df.columns"
   ]
  },
  {
   "cell_type": "markdown",
   "metadata": {},
   "source": [
    "## Procesamiento"
   ]
  },
  {
   "cell_type": "code",
   "execution_count": 17,
   "metadata": {},
   "outputs": [
    {
     "data": {
      "text/plain": [
       "PROCESS_TYPE\n",
       "CONCURSO DE DISEÑO ARQUITECTÓNICO                                                           1\n",
       "CONCURSO DE MÉRITOS ABIERTO                                                                 1\n",
       "CONTRATACIÓN DIRECTA                                                                       94\n",
       "CONTRATACIÓN DIRECTA (CON OFERTAS)                                                          6\n",
       "CONTRATACIÓN DIRECTA (LEY 1150 DE 2007)                                                  1430\n",
       "CONTRATACIÓN MÍNIMA CUANTÍA                                                              1071\n",
       "CONTRATACIÓN RÉGIMEN ESPECIAL                                                               1\n",
       "CONTRATOS Y CONVENIOS CON MÁS DE DOS PARTES                                                 2\n",
       "LICITACIÓN OBRA PÚBLICA                                                                    92\n",
       "LICITACIÓN PÚBLICA                                                                        359\n",
       "LICITACIÓN PÚBLICA OBRA PUBLICA                                                             4\n",
       "MÍNIMA CUANTÍA                                                                             17\n",
       "RÉGIMEN ESPECIAL                                                                          300\n",
       "SELECCIÓN ABREVIADA DE MENOR CUANTÍA                                                       14\n",
       "SELECCIÓN ABREVIADA DE MENOR CUANTÍA (LEY 1150 DE 2007)                                   600\n",
       "SELECCIÓN ABREVIADA DEL LITERAL H DEL NUMERAL 2 DEL ARTÍCULO 2 DE LA LEY 1150 DE 2007       3\n",
       "dtype: int64"
      ]
     },
     "execution_count": 17,
     "metadata": {},
     "output_type": "execute_result"
    }
   ],
   "source": [
    "df.groupby('PROCESS_TYPE').size()"
   ]
  },
  {
   "cell_type": "code",
   "execution_count": 18,
   "metadata": {},
   "outputs": [],
   "source": [
    "tipo_proceso_mod = ['CONTRATACIÓN DIRECTA','LICITACIÓN','SELECCIÓN ABREVIADA','MÍNIMA CUANTÍA','RÉGIMEN ESPECIAL']\n",
    "df['PROCESS_TYPE_MOD'] = ''\n",
    "for i in tipo_proceso_mod:\n",
    "    df.loc[df['PROCESS_TYPE'].str.contains(i), ['PROCESS_TYPE_MOD']] = i\n",
    "df.loc[df['PROCESS_TYPE_MOD'] == '', ['PROCESS_TYPE_MOD']] = 'OTRO'"
   ]
  },
  {
   "cell_type": "code",
   "execution_count": 19,
   "metadata": {},
   "outputs": [],
   "source": [
    "# Estandarizar la modalidad de contratación\n",
    "#modalidad_map = {\n",
    "#    'LICITACIÓN PÚBLICA':'LICITACIÓN', \n",
    "#    'CONTRATACIÓN DIRECTA (LEY 1150 DE 2007)':'CONTRATACION DIRECTA',\n",
    "#    'SELECCIÓN ABREVIADA DE MENOR CUANTÍA (LEY 1150 DE 2007)':'SELECCIÓN ABREVIADA',\n",
    "#    'LICITACIÓN OBRA PÚBLICA':'LICITACIÓN', \n",
    "#    'SELECCIÓN ABREVIADA DEL LITERAL H DEL NUMERAL 2 DEL ARTÍCULO 2 DE LA LEY 1150 DE 2007':'SELECCIÓN ABREVIADA'\n",
    "#}\n",
    "#df['PROCESS_TYPE'].replace(modalidad_map, inplace=True)"
   ]
  },
  {
   "cell_type": "code",
   "execution_count": 20,
   "metadata": {},
   "outputs": [
    {
     "data": {
      "text/plain": [
       "PROCESS_TYPE_MOD\n",
       "CONTRATACIÓN DIRECTA    1530\n",
       "MÍNIMA CUANTÍA          1088\n",
       "SELECCIÓN ABREVIADA      617\n",
       "LICITACIÓN               455\n",
       "RÉGIMEN ESPECIAL         301\n",
       "OTRO                       4\n",
       "dtype: int64"
      ]
     },
     "execution_count": 20,
     "metadata": {},
     "output_type": "execute_result"
    }
   ],
   "source": [
    "df.groupby('PROCESS_TYPE_MOD').size().sort_values(ascending=False)"
   ]
  },
  {
   "cell_type": "code",
   "execution_count": 21,
   "metadata": {},
   "outputs": [
    {
     "data": {
      "text/plain": [
       "CONTRACT_ID                       0\n",
       "ENTITY_NAME                       0\n",
       "DEPARTMENT                        0\n",
       "MUNICIPALITY_TYPE                 0\n",
       "PROCESS_TYPE                      0\n",
       "CONTRACT_OBJECT                   0\n",
       "OBJETC_DETAIL                     0\n",
       "ESTIMATED_COST_ORIG               0\n",
       "CONTRACT_VALUE_ORIG               0\n",
       "ADDITIONAL_COST_ORIG              0\n",
       "FINAL_COST_ORIG                   0\n",
       "YEAR                              0\n",
       "CONTRACT_DATE                     0\n",
       "START_DATE                        4\n",
       "ORIGINAL_DEADLINE                 0\n",
       "END_DATE                          4\n",
       "ID_ADJUDICACION                   0\n",
       "URLPROCESO                        0\n",
       "NIT_ENTIDAD                       0\n",
       "ID_CONTRATISTA                    0\n",
       "ESTIMATED_COST_NORM               0\n",
       "CONTRACT_VALUE_NORM               0\n",
       "ADDITIONAL_COST_NORM              0\n",
       "FINAL_COST_NORM                   0\n",
       "ADDITIONAL_TIME                   0\n",
       "FINAL_DEADLINE                    0\n",
       "PROJECT_INTENSITY_NORM            0\n",
       "PROJECT_INTENSITY_ORIG            0\n",
       "AWARD_GROWTH_NORM                 0\n",
       "AWARD_GROWTH_ORIG                 0\n",
       "COST_DEVIATION_ORIG               0\n",
       "COST_DEVIATION_NORM               0\n",
       "TIME_DEVIATION                   93\n",
       "OWNER                             0\n",
       "REGION                            0\n",
       "GROUP                             0\n",
       "COST_GROUP_QUANTILE               0\n",
       "CONTRACT_VALUE_ORIG_MILLIONS      0\n",
       "ADDITIONAL_COST_ORIG_MILLIONS     0\n",
       "FINAL_COST_ORIG_MILLIONS          0\n",
       "PROCESS_TYPE_MOD                  0\n",
       "dtype: int64"
      ]
     },
     "execution_count": 21,
     "metadata": {},
     "output_type": "execute_result"
    }
   ],
   "source": [
    "df.isnull().sum()"
   ]
  },
  {
   "cell_type": "code",
   "execution_count": 22,
   "metadata": {},
   "outputs": [],
   "source": [
    "dep_mod = {'BOGOT DC':'BOGOTÁ DC',\n",
    "            'BOYAC':'BOYACÁ',\n",
    "            'CAQUET':'CAQUETÁ',\n",
    "            'CRDOBA':'CÓRDOBA',\n",
    "            'SAN ANDRÉS PROVIDENCIA Y SANTA CATALINA':'SAN ANDRÉS PROV. Y STA. CAT.',\n",
    "            'BOLVAR':'BOLÍVAR',\n",
    "            'CHOC':'CHOCÓ'}\n",
    "df['DEPARTMENT'].replace(dep_mod, inplace=True)"
   ]
  },
  {
   "cell_type": "markdown",
   "metadata": {},
   "source": [
    "## Análisis exploratorio de datos"
   ]
  },
  {
   "cell_type": "markdown",
   "metadata": {},
   "source": [
    "### Frecuencia de desviación en costo"
   ]
  },
  {
   "cell_type": "code",
   "execution_count": 23,
   "metadata": {},
   "outputs": [],
   "source": [
    "# Crear una variable que indique el proyecto tiene desviación en costo\n",
    "df['COST_DEVIATION'] = df['ADDITIONAL_COST_ORIG_MILLIONS'] > 0"
   ]
  },
  {
   "cell_type": "code",
   "execution_count": 24,
   "metadata": {},
   "outputs": [
    {
     "data": {
      "text/html": [
       "<div>\n",
       "<style scoped>\n",
       "    .dataframe tbody tr th:only-of-type {\n",
       "        vertical-align: middle;\n",
       "    }\n",
       "\n",
       "    .dataframe tbody tr th {\n",
       "        vertical-align: top;\n",
       "    }\n",
       "\n",
       "    .dataframe thead th {\n",
       "        text-align: right;\n",
       "    }\n",
       "</style>\n",
       "<table border=\"1\" class=\"dataframe\">\n",
       "  <thead>\n",
       "    <tr style=\"text-align: right;\">\n",
       "      <th></th>\n",
       "      <th>COST_DEVIATION</th>\n",
       "      <th>TOTAL CONTRATOS</th>\n",
       "      <th>PORCENTAJE</th>\n",
       "    </tr>\n",
       "  </thead>\n",
       "  <tbody>\n",
       "    <tr>\n",
       "      <th>0</th>\n",
       "      <td>False</td>\n",
       "      <td>3535</td>\n",
       "      <td>88.49</td>\n",
       "    </tr>\n",
       "    <tr>\n",
       "      <th>1</th>\n",
       "      <td>True</td>\n",
       "      <td>460</td>\n",
       "      <td>11.51</td>\n",
       "    </tr>\n",
       "  </tbody>\n",
       "</table>\n",
       "</div>"
      ],
      "text/plain": [
       "   COST_DEVIATION  TOTAL CONTRATOS  PORCENTAJE\n",
       "0           False             3535       88.49\n",
       "1            True              460       11.51"
      ]
     },
     "execution_count": 24,
     "metadata": {},
     "output_type": "execute_result"
    }
   ],
   "source": [
    "# Tabla de frecuencia de la desviación en costo\n",
    "tabla_frecuencia(df, 'COST_DEVIATION')"
   ]
  },
  {
   "cell_type": "code",
   "execution_count": 25,
   "metadata": {},
   "outputs": [
    {
     "data": {
      "text/plain": [
       "count      3995.000000\n",
       "mean        690.952305\n",
       "std        5026.682159\n",
       "min           0.346950\n",
       "25%          20.499781\n",
       "50%          66.000000\n",
       "75%         158.621934\n",
       "max      173033.340745\n",
       "Name: CONTRACT_VALUE_ORIG_MILLIONS, dtype: float64"
      ]
     },
     "execution_count": 25,
     "metadata": {},
     "output_type": "execute_result"
    }
   ],
   "source": [
    "(df['CONTRACT_VALUE_ORIG_MILLIONS']).describe()"
   ]
  },
  {
   "cell_type": "code",
   "execution_count": 26,
   "metadata": {},
   "outputs": [],
   "source": [
    "# Crear la variable de tamaño del proyecto\n",
    "df['CONTRACT_VALUE_RANGE'] = pd.cut(df['CONTRACT_VALUE_ORIG_MILLIONS'], bins=[100,150,300,900,120000], include_lowest=True)"
   ]
  },
  {
   "cell_type": "code",
   "execution_count": 27,
   "metadata": {},
   "outputs": [
    {
     "data": {
      "text/plain": [
       "CONTRACT_VALUE_RANGE\n",
       "(99.999, 150.0]       5.067064\n",
       "(150.0, 300.0]       19.740260\n",
       "(300.0, 900.0]       20.748299\n",
       "(900.0, 120000.0]    31.157270\n",
       "Name: COST_DEVIATION, dtype: float64"
      ]
     },
     "execution_count": 27,
     "metadata": {},
     "output_type": "execute_result"
    }
   ],
   "source": [
    "# Frecuencia de desviación por tamaño del proyecto\n",
    "df.groupby(['CONTRACT_VALUE_RANGE'], observed=False)['COST_DEVIATION'].mean()*100"
   ]
  },
  {
   "cell_type": "code",
   "execution_count": 28,
   "metadata": {},
   "outputs": [
    {
     "data": {
      "text/plain": [
       "REGION\n",
       "ORINOQUIA    0.208589\n",
       "ANDINA       0.172475\n",
       "CARIBE       0.089552\n",
       "AMAZONIA     0.089286\n",
       "PACIFICA     0.067653\n",
       "OTRA         0.056338\n",
       "Name: COST_DEVIATION, dtype: float64"
      ]
     },
     "execution_count": 28,
     "metadata": {},
     "output_type": "execute_result"
    }
   ],
   "source": [
    "df.groupby(['REGION'], observed=True)['COST_DEVIATION'].mean().sort_values(ascending=False)"
   ]
  },
  {
   "cell_type": "code",
   "execution_count": 29,
   "metadata": {},
   "outputs": [
    {
     "data": {
      "text/plain": [
       "MUNICIPALITY_TYPE\n",
       "NACIONAL DESCENTRALIZADO    0.333333\n",
       "Nacional                    0.000000\n",
       "No Definido                 0.071429\n",
       "OTHER                       0.069081\n",
       "TYPE_1                      0.177419\n",
       "TYPE_2                      0.150485\n",
       "TYPE_3                      0.391304\n",
       "TYPE_4                      0.132530\n",
       "TYPE_5                      0.231214\n",
       "TYPE_6                      0.137156\n",
       "Territorial                 0.000000\n",
       "Name: COST_DEVIATION, dtype: float64"
      ]
     },
     "execution_count": 29,
     "metadata": {},
     "output_type": "execute_result"
    }
   ],
   "source": [
    "df.groupby(['MUNICIPALITY_TYPE'], observed=True)['COST_DEVIATION'].mean()"
   ]
  },
  {
   "cell_type": "code",
   "execution_count": 30,
   "metadata": {},
   "outputs": [
    {
     "data": {
      "text/plain": [
       "PROCESS_TYPE_MOD\n",
       "CONTRATACIÓN DIRECTA    0.032026\n",
       "LICITACIÓN              0.287912\n",
       "MÍNIMA CUANTÍA          0.103860\n",
       "OTRO                    0.000000\n",
       "RÉGIMEN ESPECIAL        0.099668\n",
       "SELECCIÓN ABREVIADA     0.222042\n",
       "Name: COST_DEVIATION, dtype: float64"
      ]
     },
     "execution_count": 30,
     "metadata": {},
     "output_type": "execute_result"
    }
   ],
   "source": [
    "df.groupby(['PROCESS_TYPE_MOD'], observed=True)['COST_DEVIATION'].mean()"
   ]
  },
  {
   "cell_type": "code",
   "execution_count": 31,
   "metadata": {},
   "outputs": [
    {
     "data": {
      "text/plain": [
       "Index(['CONTRACT_ID', 'ENTITY_NAME', 'DEPARTMENT', 'MUNICIPALITY_TYPE',\n",
       "       'PROCESS_TYPE', 'CONTRACT_OBJECT', 'OBJETC_DETAIL',\n",
       "       'ESTIMATED_COST_ORIG', 'CONTRACT_VALUE_ORIG', 'ADDITIONAL_COST_ORIG',\n",
       "       'FINAL_COST_ORIG', 'YEAR', 'CONTRACT_DATE', 'START_DATE',\n",
       "       'ORIGINAL_DEADLINE', 'END_DATE', 'ID_ADJUDICACION', 'URLPROCESO',\n",
       "       'NIT_ENTIDAD', 'ID_CONTRATISTA', 'ESTIMATED_COST_NORM',\n",
       "       'CONTRACT_VALUE_NORM', 'ADDITIONAL_COST_NORM', 'FINAL_COST_NORM',\n",
       "       'ADDITIONAL_TIME', 'FINAL_DEADLINE', 'PROJECT_INTENSITY_NORM',\n",
       "       'PROJECT_INTENSITY_ORIG', 'AWARD_GROWTH_NORM', 'AWARD_GROWTH_ORIG',\n",
       "       'COST_DEVIATION_ORIG', 'COST_DEVIATION_NORM', 'TIME_DEVIATION', 'OWNER',\n",
       "       'REGION', 'GROUP', 'COST_GROUP_QUANTILE',\n",
       "       'CONTRACT_VALUE_ORIG_MILLIONS', 'ADDITIONAL_COST_ORIG_MILLIONS',\n",
       "       'FINAL_COST_ORIG_MILLIONS', 'PROCESS_TYPE_MOD', 'COST_DEVIATION',\n",
       "       'CONTRACT_VALUE_RANGE'],\n",
       "      dtype='object')"
      ]
     },
     "execution_count": 31,
     "metadata": {},
     "output_type": "execute_result"
    }
   ],
   "source": [
    "df.columns"
   ]
  },
  {
   "cell_type": "code",
   "execution_count": 32,
   "metadata": {},
   "outputs": [],
   "source": [
    "df[df['PROCESS_TYPE'] == 'LICITACIÓN']['OBJETC_DETAIL'].to_clipboard()"
   ]
  },
  {
   "cell_type": "code",
   "execution_count": 33,
   "metadata": {},
   "outputs": [
    {
     "data": {
      "text/plain": [
       "876"
      ]
     },
     "execution_count": 33,
     "metadata": {},
     "output_type": "execute_result"
    }
   ],
   "source": [
    "df['TIPO_OBRA_CONSTRUCCION'] = df['OBJETC_DETAIL'].str.contains('CONSTRUCCION|PAVIMENTACION|COSNTRUCCION|COSNTRUCCION|CONTRUCCION')\n",
    "df['TIPO_OBRA_CONSTRUCCION'].sum() "
   ]
  },
  {
   "cell_type": "code",
   "execution_count": 34,
   "metadata": {},
   "outputs": [
    {
     "data": {
      "text/plain": [
       "1104"
      ]
     },
     "execution_count": 34,
     "metadata": {},
     "output_type": "execute_result"
    }
   ],
   "source": [
    "df['TIPO_OBRA_MANTENIMIENTO'] = df['OBJETC_DETAIL'].str.contains('MANTENIMIENTO')\n",
    "df['TIPO_OBRA_MANTENIMIENTO'].sum() "
   ]
  },
  {
   "cell_type": "code",
   "execution_count": 35,
   "metadata": {},
   "outputs": [
    {
     "data": {
      "text/plain": [
       "239"
      ]
     },
     "execution_count": 35,
     "metadata": {},
     "output_type": "execute_result"
    }
   ],
   "source": [
    "df['TIPO_OBRA_REHABILITACION'] = df['OBJETC_DETAIL'].str.contains('REHABILITACION')\n",
    "df['TIPO_OBRA_REHABILITACION'].sum() "
   ]
  },
  {
   "cell_type": "code",
   "execution_count": 36,
   "metadata": {},
   "outputs": [
    {
     "data": {
      "text/plain": [
       "1930"
      ]
     },
     "execution_count": 36,
     "metadata": {},
     "output_type": "execute_result"
    }
   ],
   "source": [
    "df['TIPO_OBRA_MEJORAMIENTO'] = df['OBJETC_DETAIL'].str.contains('MEJORAMIENTO')\n",
    "df['TIPO_OBRA_MEJORAMIENTO'].sum() "
   ]
  },
  {
   "cell_type": "code",
   "execution_count": 37,
   "metadata": {},
   "outputs": [],
   "source": [
    "df['TOTAL_CLASS_TIPO'] = np.int32(df['TIPO_OBRA_CONSTRUCCION'] + df['TIPO_OBRA_MANTENIMIENTO'] + df['TIPO_OBRA_REHABILITACION'] + df['TIPO_OBRA_MEJORAMIENTO'])"
   ]
  },
  {
   "cell_type": "code",
   "execution_count": 38,
   "metadata": {},
   "outputs": [
    {
     "data": {
      "text/plain": [
       "TOTAL_CLASS_TIPO\n",
       "1    3442\n",
       "0     553\n",
       "Name: count, dtype: int64"
      ]
     },
     "execution_count": 38,
     "metadata": {},
     "output_type": "execute_result"
    }
   ],
   "source": [
    "df['TOTAL_CLASS_TIPO'].value_counts()"
   ]
  },
  {
   "cell_type": "code",
   "execution_count": 39,
   "metadata": {},
   "outputs": [
    {
     "data": {
      "text/plain": [
       "553"
      ]
     },
     "execution_count": 39,
     "metadata": {},
     "output_type": "execute_result"
    }
   ],
   "source": [
    "df['TIPO_OBRA_OTROS'] = df['TOTAL_CLASS_TIPO'] == 0\n",
    "df['TIPO_OBRA_OTROS'].sum() "
   ]
  },
  {
   "cell_type": "code",
   "execution_count": 40,
   "metadata": {},
   "outputs": [
    {
     "data": {
      "text/plain": [
       "Index(['TIPO_OBRA_CONSTRUCCION', 'TIPO_OBRA_MANTENIMIENTO',\n",
       "       'TIPO_OBRA_REHABILITACION', 'TIPO_OBRA_MEJORAMIENTO',\n",
       "       'TIPO_OBRA_OTROS'],\n",
       "      dtype='object')"
      ]
     },
     "execution_count": 40,
     "metadata": {},
     "output_type": "execute_result"
    }
   ],
   "source": [
    "df.columns[pd.Series(df.columns).str.contains('TIPO_OBRA')]"
   ]
  },
  {
   "cell_type": "code",
   "execution_count": 41,
   "metadata": {},
   "outputs": [],
   "source": [
    "cols_tipo_obra = ['TIPO_OBRA_CONSTRUCCION', 'TIPO_OBRA_MANTENIMIENTO',\n",
    "       'TIPO_OBRA_REHABILITACION', 'TIPO_OBRA_MEJORAMIENTO',\n",
    "       'TIPO_OBRA_OTROS']\n",
    "df['TYPE_WORK'] = ''\n",
    "for i in cols_tipo_obra:\n",
    "    df.loc[df[i] == True, 'TYPE_WORK'] = i"
   ]
  },
  {
   "cell_type": "code",
   "execution_count": 42,
   "metadata": {},
   "outputs": [
    {
     "data": {
      "text/plain": [
       "TYPE_WORK\n",
       "TIPO_OBRA_CONSTRUCCION      0.182371\n",
       "TIPO_OBRA_MANTENIMIENTO     0.125554\n",
       "TIPO_OBRA_MEJORAMIENTO      0.076684\n",
       "TIPO_OBRA_OTROS             0.146474\n",
       "TIPO_OBRA_REHABILITACION    0.146893\n",
       "Name: COST_DEVIATION, dtype: float64"
      ]
     },
     "execution_count": 42,
     "metadata": {},
     "output_type": "execute_result"
    }
   ],
   "source": [
    "df.groupby(['TYPE_WORK'])['COST_DEVIATION'].mean()"
   ]
  },
  {
   "cell_type": "code",
   "execution_count": 43,
   "metadata": {},
   "outputs": [
    {
     "name": "stderr",
     "output_type": "stream",
     "text": [
      "/var/folders/yv/nqf1_stj1lsb93l9v9j6z2h00000gn/T/ipykernel_20991/3575603736.py:25: FutureWarning: The default of observed=False is deprecated and will be changed to True in a future version of pandas. Pass observed=False to retain current behavior or observed=True to adopt the future default and silence this warning.\n",
      "  .groupby([cat])[y_var]\n"
     ]
    },
    {
     "data": {
      "text/html": [
       "<div>\n",
       "<style scoped>\n",
       "    .dataframe tbody tr th:only-of-type {\n",
       "        vertical-align: middle;\n",
       "    }\n",
       "\n",
       "    .dataframe tbody tr th {\n",
       "        vertical-align: top;\n",
       "    }\n",
       "\n",
       "    .dataframe thead th {\n",
       "        text-align: right;\n",
       "    }\n",
       "</style>\n",
       "<table border=\"1\" class=\"dataframe\">\n",
       "  <thead>\n",
       "    <tr style=\"text-align: right;\">\n",
       "      <th></th>\n",
       "      <th></th>\n",
       "      <th></th>\n",
       "      <th>Total Contratos</th>\n",
       "      <th>Total Contratos con Desviación</th>\n",
       "      <th>Proporción de Desviación en Costo</th>\n",
       "      <th>Desv. Estandar</th>\n",
       "      <th>CI 95% Inferior</th>\n",
       "      <th>CI 95% Superior</th>\n",
       "    </tr>\n",
       "    <tr>\n",
       "      <th>Variable Categorica</th>\n",
       "      <th>p-value (chi2)</th>\n",
       "      <th>Categorias</th>\n",
       "      <th></th>\n",
       "      <th></th>\n",
       "      <th></th>\n",
       "      <th></th>\n",
       "      <th></th>\n",
       "      <th></th>\n",
       "    </tr>\n",
       "  </thead>\n",
       "  <tbody>\n",
       "    <tr>\n",
       "      <th rowspan=\"4\" valign=\"top\">CONTRACT_VALUE_RANGE</th>\n",
       "      <th rowspan=\"4\" valign=\"top\">1.164537e-26</th>\n",
       "      <th>(99.999, 150.0]</th>\n",
       "      <td>671</td>\n",
       "      <td>34</td>\n",
       "      <td>0.050671</td>\n",
       "      <td>0.008467</td>\n",
       "      <td>0.034075</td>\n",
       "      <td>0.067266</td>\n",
       "    </tr>\n",
       "    <tr>\n",
       "      <th>(150.0, 300.0]</th>\n",
       "      <td>385</td>\n",
       "      <td>76</td>\n",
       "      <td>0.197403</td>\n",
       "      <td>0.020286</td>\n",
       "      <td>0.157642</td>\n",
       "      <td>0.237163</td>\n",
       "    </tr>\n",
       "    <tr>\n",
       "      <th>(300.0, 900.0]</th>\n",
       "      <td>294</td>\n",
       "      <td>61</td>\n",
       "      <td>0.207483</td>\n",
       "      <td>0.023649</td>\n",
       "      <td>0.161130</td>\n",
       "      <td>0.253836</td>\n",
       "    </tr>\n",
       "    <tr>\n",
       "      <th>(900.0, 120000.0]</th>\n",
       "      <td>337</td>\n",
       "      <td>105</td>\n",
       "      <td>0.311573</td>\n",
       "      <td>0.025229</td>\n",
       "      <td>0.262125</td>\n",
       "      <td>0.361021</td>\n",
       "    </tr>\n",
       "    <tr>\n",
       "      <th rowspan=\"6\" valign=\"top\">REGION</th>\n",
       "      <th rowspan=\"6\" valign=\"top\">4.175779e-26</th>\n",
       "      <th>ANDINA</th>\n",
       "      <td>1693</td>\n",
       "      <td>292</td>\n",
       "      <td>0.172475</td>\n",
       "      <td>0.009182</td>\n",
       "      <td>0.154479</td>\n",
       "      <td>0.190471</td>\n",
       "    </tr>\n",
       "    <tr>\n",
       "      <th>OTRA</th>\n",
       "      <td>1420</td>\n",
       "      <td>80</td>\n",
       "      <td>0.056338</td>\n",
       "      <td>0.006119</td>\n",
       "      <td>0.044345</td>\n",
       "      <td>0.068331</td>\n",
       "    </tr>\n",
       "    <tr>\n",
       "      <th>PACIFICA</th>\n",
       "      <td>473</td>\n",
       "      <td>32</td>\n",
       "      <td>0.067653</td>\n",
       "      <td>0.011548</td>\n",
       "      <td>0.045019</td>\n",
       "      <td>0.090287</td>\n",
       "    </tr>\n",
       "    <tr>\n",
       "      <th>ORINOQUIA</th>\n",
       "      <td>163</td>\n",
       "      <td>34</td>\n",
       "      <td>0.208589</td>\n",
       "      <td>0.031824</td>\n",
       "      <td>0.146214</td>\n",
       "      <td>0.270964</td>\n",
       "    </tr>\n",
       "    <tr>\n",
       "      <th>CARIBE</th>\n",
       "      <td>134</td>\n",
       "      <td>12</td>\n",
       "      <td>0.089552</td>\n",
       "      <td>0.024667</td>\n",
       "      <td>0.041205</td>\n",
       "      <td>0.137899</td>\n",
       "    </tr>\n",
       "    <tr>\n",
       "      <th>AMAZONIA</th>\n",
       "      <td>112</td>\n",
       "      <td>10</td>\n",
       "      <td>0.089286</td>\n",
       "      <td>0.026945</td>\n",
       "      <td>0.036474</td>\n",
       "      <td>0.142097</td>\n",
       "    </tr>\n",
       "    <tr>\n",
       "      <th rowspan=\"11\" valign=\"top\">MUNICIPALITY_TYPE</th>\n",
       "      <th rowspan=\"11\" valign=\"top\">2.427067e-21</th>\n",
       "      <th>NACIONAL DESCENTRALIZADO</th>\n",
       "      <td>3</td>\n",
       "      <td>1</td>\n",
       "      <td>0.333333</td>\n",
       "      <td>0.272166</td>\n",
       "      <td>0.000000</td>\n",
       "      <td>0.866778</td>\n",
       "    </tr>\n",
       "    <tr>\n",
       "      <th>Nacional</th>\n",
       "      <td>60</td>\n",
       "      <td>0</td>\n",
       "      <td>0.000000</td>\n",
       "      <td>0.000000</td>\n",
       "      <td>0.000000</td>\n",
       "      <td>0.000000</td>\n",
       "    </tr>\n",
       "    <tr>\n",
       "      <th>No Definido</th>\n",
       "      <td>14</td>\n",
       "      <td>1</td>\n",
       "      <td>0.071429</td>\n",
       "      <td>0.068830</td>\n",
       "      <td>0.000000</td>\n",
       "      <td>0.206336</td>\n",
       "    </tr>\n",
       "    <tr>\n",
       "      <th>OTHER</th>\n",
       "      <td>1491</td>\n",
       "      <td>103</td>\n",
       "      <td>0.069081</td>\n",
       "      <td>0.006567</td>\n",
       "      <td>0.056209</td>\n",
       "      <td>0.081953</td>\n",
       "    </tr>\n",
       "    <tr>\n",
       "      <th>TYPE_1</th>\n",
       "      <td>62</td>\n",
       "      <td>11</td>\n",
       "      <td>0.177419</td>\n",
       "      <td>0.048517</td>\n",
       "      <td>0.082326</td>\n",
       "      <td>0.272513</td>\n",
       "    </tr>\n",
       "    <tr>\n",
       "      <th>TYPE_2</th>\n",
       "      <td>206</td>\n",
       "      <td>31</td>\n",
       "      <td>0.150485</td>\n",
       "      <td>0.024911</td>\n",
       "      <td>0.101659</td>\n",
       "      <td>0.199312</td>\n",
       "    </tr>\n",
       "    <tr>\n",
       "      <th>TYPE_3</th>\n",
       "      <td>46</td>\n",
       "      <td>18</td>\n",
       "      <td>0.391304</td>\n",
       "      <td>0.071958</td>\n",
       "      <td>0.250267</td>\n",
       "      <td>0.532342</td>\n",
       "    </tr>\n",
       "    <tr>\n",
       "      <th>TYPE_4</th>\n",
       "      <td>83</td>\n",
       "      <td>11</td>\n",
       "      <td>0.132530</td>\n",
       "      <td>0.037217</td>\n",
       "      <td>0.059584</td>\n",
       "      <td>0.205476</td>\n",
       "    </tr>\n",
       "    <tr>\n",
       "      <th>TYPE_5</th>\n",
       "      <td>173</td>\n",
       "      <td>40</td>\n",
       "      <td>0.231214</td>\n",
       "      <td>0.032054</td>\n",
       "      <td>0.168387</td>\n",
       "      <td>0.294040</td>\n",
       "    </tr>\n",
       "    <tr>\n",
       "      <th>TYPE_6</th>\n",
       "      <td>1779</td>\n",
       "      <td>244</td>\n",
       "      <td>0.137156</td>\n",
       "      <td>0.008156</td>\n",
       "      <td>0.121170</td>\n",
       "      <td>0.153142</td>\n",
       "    </tr>\n",
       "    <tr>\n",
       "      <th>Territorial</th>\n",
       "      <td>78</td>\n",
       "      <td>0</td>\n",
       "      <td>0.000000</td>\n",
       "      <td>0.000000</td>\n",
       "      <td>0.000000</td>\n",
       "      <td>0.000000</td>\n",
       "    </tr>\n",
       "    <tr>\n",
       "      <th rowspan=\"6\" valign=\"top\">PROCESS_TYPE_MOD</th>\n",
       "      <th rowspan=\"6\" valign=\"top\">1.263691e-64</th>\n",
       "      <th>CONTRATACIÓN DIRECTA</th>\n",
       "      <td>1530</td>\n",
       "      <td>49</td>\n",
       "      <td>0.032026</td>\n",
       "      <td>0.004501</td>\n",
       "      <td>0.023204</td>\n",
       "      <td>0.040849</td>\n",
       "    </tr>\n",
       "    <tr>\n",
       "      <th>MÍNIMA CUANTÍA</th>\n",
       "      <td>1088</td>\n",
       "      <td>113</td>\n",
       "      <td>0.103860</td>\n",
       "      <td>0.009249</td>\n",
       "      <td>0.085732</td>\n",
       "      <td>0.121988</td>\n",
       "    </tr>\n",
       "    <tr>\n",
       "      <th>SELECCIÓN ABREVIADA</th>\n",
       "      <td>617</td>\n",
       "      <td>137</td>\n",
       "      <td>0.222042</td>\n",
       "      <td>0.016732</td>\n",
       "      <td>0.189247</td>\n",
       "      <td>0.254837</td>\n",
       "    </tr>\n",
       "    <tr>\n",
       "      <th>LICITACIÓN</th>\n",
       "      <td>455</td>\n",
       "      <td>131</td>\n",
       "      <td>0.287912</td>\n",
       "      <td>0.021227</td>\n",
       "      <td>0.246307</td>\n",
       "      <td>0.329517</td>\n",
       "    </tr>\n",
       "    <tr>\n",
       "      <th>RÉGIMEN ESPECIAL</th>\n",
       "      <td>301</td>\n",
       "      <td>30</td>\n",
       "      <td>0.099668</td>\n",
       "      <td>0.017266</td>\n",
       "      <td>0.065826</td>\n",
       "      <td>0.133509</td>\n",
       "    </tr>\n",
       "    <tr>\n",
       "      <th>OTRO</th>\n",
       "      <td>4</td>\n",
       "      <td>0</td>\n",
       "      <td>0.000000</td>\n",
       "      <td>0.000000</td>\n",
       "      <td>0.000000</td>\n",
       "      <td>0.000000</td>\n",
       "    </tr>\n",
       "    <tr>\n",
       "      <th rowspan=\"5\" valign=\"top\">TYPE_WORK</th>\n",
       "      <th rowspan=\"5\" valign=\"top\">2.565814e-13</th>\n",
       "      <th>TIPO_OBRA_MEJORAMIENTO</th>\n",
       "      <td>1930</td>\n",
       "      <td>148</td>\n",
       "      <td>0.076684</td>\n",
       "      <td>0.006057</td>\n",
       "      <td>0.064812</td>\n",
       "      <td>0.088555</td>\n",
       "    </tr>\n",
       "    <tr>\n",
       "      <th>TIPO_OBRA_MANTENIMIENTO</th>\n",
       "      <td>677</td>\n",
       "      <td>85</td>\n",
       "      <td>0.125554</td>\n",
       "      <td>0.012735</td>\n",
       "      <td>0.100594</td>\n",
       "      <td>0.150514</td>\n",
       "    </tr>\n",
       "    <tr>\n",
       "      <th>TIPO_OBRA_CONSTRUCCION</th>\n",
       "      <td>658</td>\n",
       "      <td>120</td>\n",
       "      <td>0.182371</td>\n",
       "      <td>0.015054</td>\n",
       "      <td>0.152866</td>\n",
       "      <td>0.211876</td>\n",
       "    </tr>\n",
       "    <tr>\n",
       "      <th>TIPO_OBRA_OTROS</th>\n",
       "      <td>553</td>\n",
       "      <td>81</td>\n",
       "      <td>0.146474</td>\n",
       "      <td>0.015036</td>\n",
       "      <td>0.117004</td>\n",
       "      <td>0.175944</td>\n",
       "    </tr>\n",
       "    <tr>\n",
       "      <th>TIPO_OBRA_REHABILITACION</th>\n",
       "      <td>177</td>\n",
       "      <td>26</td>\n",
       "      <td>0.146893</td>\n",
       "      <td>0.026608</td>\n",
       "      <td>0.094741</td>\n",
       "      <td>0.199045</td>\n",
       "    </tr>\n",
       "  </tbody>\n",
       "</table>\n",
       "</div>"
      ],
      "text/plain": [
       "                                                              Total Contratos  \\\n",
       "Variable Categorica  p-value (chi2) Categorias                                  \n",
       "CONTRACT_VALUE_RANGE 1.164537e-26   (99.999, 150.0]                       671   \n",
       "                                    (150.0, 300.0]                        385   \n",
       "                                    (300.0, 900.0]                        294   \n",
       "                                    (900.0, 120000.0]                     337   \n",
       "REGION               4.175779e-26   ANDINA                               1693   \n",
       "                                    OTRA                                 1420   \n",
       "                                    PACIFICA                              473   \n",
       "                                    ORINOQUIA                             163   \n",
       "                                    CARIBE                                134   \n",
       "                                    AMAZONIA                              112   \n",
       "MUNICIPALITY_TYPE    2.427067e-21   NACIONAL DESCENTRALIZADO                3   \n",
       "                                    Nacional                               60   \n",
       "                                    No Definido                            14   \n",
       "                                    OTHER                                1491   \n",
       "                                    TYPE_1                                 62   \n",
       "                                    TYPE_2                                206   \n",
       "                                    TYPE_3                                 46   \n",
       "                                    TYPE_4                                 83   \n",
       "                                    TYPE_5                                173   \n",
       "                                    TYPE_6                               1779   \n",
       "                                    Territorial                            78   \n",
       "PROCESS_TYPE_MOD     1.263691e-64   CONTRATACIÓN DIRECTA                 1530   \n",
       "                                    MÍNIMA CUANTÍA                       1088   \n",
       "                                    SELECCIÓN ABREVIADA                   617   \n",
       "                                    LICITACIÓN                            455   \n",
       "                                    RÉGIMEN ESPECIAL                      301   \n",
       "                                    OTRO                                    4   \n",
       "TYPE_WORK            2.565814e-13   TIPO_OBRA_MEJORAMIENTO               1930   \n",
       "                                    TIPO_OBRA_MANTENIMIENTO               677   \n",
       "                                    TIPO_OBRA_CONSTRUCCION                658   \n",
       "                                    TIPO_OBRA_OTROS                       553   \n",
       "                                    TIPO_OBRA_REHABILITACION              177   \n",
       "\n",
       "                                                              Total Contratos con Desviación  \\\n",
       "Variable Categorica  p-value (chi2) Categorias                                                 \n",
       "CONTRACT_VALUE_RANGE 1.164537e-26   (99.999, 150.0]                                       34   \n",
       "                                    (150.0, 300.0]                                        76   \n",
       "                                    (300.0, 900.0]                                        61   \n",
       "                                    (900.0, 120000.0]                                    105   \n",
       "REGION               4.175779e-26   ANDINA                                               292   \n",
       "                                    OTRA                                                  80   \n",
       "                                    PACIFICA                                              32   \n",
       "                                    ORINOQUIA                                             34   \n",
       "                                    CARIBE                                                12   \n",
       "                                    AMAZONIA                                              10   \n",
       "MUNICIPALITY_TYPE    2.427067e-21   NACIONAL DESCENTRALIZADO                               1   \n",
       "                                    Nacional                                               0   \n",
       "                                    No Definido                                            1   \n",
       "                                    OTHER                                                103   \n",
       "                                    TYPE_1                                                11   \n",
       "                                    TYPE_2                                                31   \n",
       "                                    TYPE_3                                                18   \n",
       "                                    TYPE_4                                                11   \n",
       "                                    TYPE_5                                                40   \n",
       "                                    TYPE_6                                               244   \n",
       "                                    Territorial                                            0   \n",
       "PROCESS_TYPE_MOD     1.263691e-64   CONTRATACIÓN DIRECTA                                  49   \n",
       "                                    MÍNIMA CUANTÍA                                       113   \n",
       "                                    SELECCIÓN ABREVIADA                                  137   \n",
       "                                    LICITACIÓN                                           131   \n",
       "                                    RÉGIMEN ESPECIAL                                      30   \n",
       "                                    OTRO                                                   0   \n",
       "TYPE_WORK            2.565814e-13   TIPO_OBRA_MEJORAMIENTO                               148   \n",
       "                                    TIPO_OBRA_MANTENIMIENTO                               85   \n",
       "                                    TIPO_OBRA_CONSTRUCCION                               120   \n",
       "                                    TIPO_OBRA_OTROS                                       81   \n",
       "                                    TIPO_OBRA_REHABILITACION                              26   \n",
       "\n",
       "                                                              Proporción de Desviación en Costo  \\\n",
       "Variable Categorica  p-value (chi2) Categorias                                                    \n",
       "CONTRACT_VALUE_RANGE 1.164537e-26   (99.999, 150.0]                                    0.050671   \n",
       "                                    (150.0, 300.0]                                     0.197403   \n",
       "                                    (300.0, 900.0]                                     0.207483   \n",
       "                                    (900.0, 120000.0]                                  0.311573   \n",
       "REGION               4.175779e-26   ANDINA                                             0.172475   \n",
       "                                    OTRA                                               0.056338   \n",
       "                                    PACIFICA                                           0.067653   \n",
       "                                    ORINOQUIA                                          0.208589   \n",
       "                                    CARIBE                                             0.089552   \n",
       "                                    AMAZONIA                                           0.089286   \n",
       "MUNICIPALITY_TYPE    2.427067e-21   NACIONAL DESCENTRALIZADO                           0.333333   \n",
       "                                    Nacional                                           0.000000   \n",
       "                                    No Definido                                        0.071429   \n",
       "                                    OTHER                                              0.069081   \n",
       "                                    TYPE_1                                             0.177419   \n",
       "                                    TYPE_2                                             0.150485   \n",
       "                                    TYPE_3                                             0.391304   \n",
       "                                    TYPE_4                                             0.132530   \n",
       "                                    TYPE_5                                             0.231214   \n",
       "                                    TYPE_6                                             0.137156   \n",
       "                                    Territorial                                        0.000000   \n",
       "PROCESS_TYPE_MOD     1.263691e-64   CONTRATACIÓN DIRECTA                               0.032026   \n",
       "                                    MÍNIMA CUANTÍA                                     0.103860   \n",
       "                                    SELECCIÓN ABREVIADA                                0.222042   \n",
       "                                    LICITACIÓN                                         0.287912   \n",
       "                                    RÉGIMEN ESPECIAL                                   0.099668   \n",
       "                                    OTRO                                               0.000000   \n",
       "TYPE_WORK            2.565814e-13   TIPO_OBRA_MEJORAMIENTO                             0.076684   \n",
       "                                    TIPO_OBRA_MANTENIMIENTO                            0.125554   \n",
       "                                    TIPO_OBRA_CONSTRUCCION                             0.182371   \n",
       "                                    TIPO_OBRA_OTROS                                    0.146474   \n",
       "                                    TIPO_OBRA_REHABILITACION                           0.146893   \n",
       "\n",
       "                                                              Desv. Estandar  \\\n",
       "Variable Categorica  p-value (chi2) Categorias                                 \n",
       "CONTRACT_VALUE_RANGE 1.164537e-26   (99.999, 150.0]                 0.008467   \n",
       "                                    (150.0, 300.0]                  0.020286   \n",
       "                                    (300.0, 900.0]                  0.023649   \n",
       "                                    (900.0, 120000.0]               0.025229   \n",
       "REGION               4.175779e-26   ANDINA                          0.009182   \n",
       "                                    OTRA                            0.006119   \n",
       "                                    PACIFICA                        0.011548   \n",
       "                                    ORINOQUIA                       0.031824   \n",
       "                                    CARIBE                          0.024667   \n",
       "                                    AMAZONIA                        0.026945   \n",
       "MUNICIPALITY_TYPE    2.427067e-21   NACIONAL DESCENTRALIZADO        0.272166   \n",
       "                                    Nacional                        0.000000   \n",
       "                                    No Definido                     0.068830   \n",
       "                                    OTHER                           0.006567   \n",
       "                                    TYPE_1                          0.048517   \n",
       "                                    TYPE_2                          0.024911   \n",
       "                                    TYPE_3                          0.071958   \n",
       "                                    TYPE_4                          0.037217   \n",
       "                                    TYPE_5                          0.032054   \n",
       "                                    TYPE_6                          0.008156   \n",
       "                                    Territorial                     0.000000   \n",
       "PROCESS_TYPE_MOD     1.263691e-64   CONTRATACIÓN DIRECTA            0.004501   \n",
       "                                    MÍNIMA CUANTÍA                  0.009249   \n",
       "                                    SELECCIÓN ABREVIADA             0.016732   \n",
       "                                    LICITACIÓN                      0.021227   \n",
       "                                    RÉGIMEN ESPECIAL                0.017266   \n",
       "                                    OTRO                            0.000000   \n",
       "TYPE_WORK            2.565814e-13   TIPO_OBRA_MEJORAMIENTO          0.006057   \n",
       "                                    TIPO_OBRA_MANTENIMIENTO         0.012735   \n",
       "                                    TIPO_OBRA_CONSTRUCCION          0.015054   \n",
       "                                    TIPO_OBRA_OTROS                 0.015036   \n",
       "                                    TIPO_OBRA_REHABILITACION        0.026608   \n",
       "\n",
       "                                                              CI 95% Inferior  \\\n",
       "Variable Categorica  p-value (chi2) Categorias                                  \n",
       "CONTRACT_VALUE_RANGE 1.164537e-26   (99.999, 150.0]                  0.034075   \n",
       "                                    (150.0, 300.0]                   0.157642   \n",
       "                                    (300.0, 900.0]                   0.161130   \n",
       "                                    (900.0, 120000.0]                0.262125   \n",
       "REGION               4.175779e-26   ANDINA                           0.154479   \n",
       "                                    OTRA                             0.044345   \n",
       "                                    PACIFICA                         0.045019   \n",
       "                                    ORINOQUIA                        0.146214   \n",
       "                                    CARIBE                           0.041205   \n",
       "                                    AMAZONIA                         0.036474   \n",
       "MUNICIPALITY_TYPE    2.427067e-21   NACIONAL DESCENTRALIZADO         0.000000   \n",
       "                                    Nacional                         0.000000   \n",
       "                                    No Definido                      0.000000   \n",
       "                                    OTHER                            0.056209   \n",
       "                                    TYPE_1                           0.082326   \n",
       "                                    TYPE_2                           0.101659   \n",
       "                                    TYPE_3                           0.250267   \n",
       "                                    TYPE_4                           0.059584   \n",
       "                                    TYPE_5                           0.168387   \n",
       "                                    TYPE_6                           0.121170   \n",
       "                                    Territorial                      0.000000   \n",
       "PROCESS_TYPE_MOD     1.263691e-64   CONTRATACIÓN DIRECTA             0.023204   \n",
       "                                    MÍNIMA CUANTÍA                   0.085732   \n",
       "                                    SELECCIÓN ABREVIADA              0.189247   \n",
       "                                    LICITACIÓN                       0.246307   \n",
       "                                    RÉGIMEN ESPECIAL                 0.065826   \n",
       "                                    OTRO                             0.000000   \n",
       "TYPE_WORK            2.565814e-13   TIPO_OBRA_MEJORAMIENTO           0.064812   \n",
       "                                    TIPO_OBRA_MANTENIMIENTO          0.100594   \n",
       "                                    TIPO_OBRA_CONSTRUCCION           0.152866   \n",
       "                                    TIPO_OBRA_OTROS                  0.117004   \n",
       "                                    TIPO_OBRA_REHABILITACION         0.094741   \n",
       "\n",
       "                                                              CI 95% Superior  \n",
       "Variable Categorica  p-value (chi2) Categorias                                 \n",
       "CONTRACT_VALUE_RANGE 1.164537e-26   (99.999, 150.0]                  0.067266  \n",
       "                                    (150.0, 300.0]                   0.237163  \n",
       "                                    (300.0, 900.0]                   0.253836  \n",
       "                                    (900.0, 120000.0]                0.361021  \n",
       "REGION               4.175779e-26   ANDINA                           0.190471  \n",
       "                                    OTRA                             0.068331  \n",
       "                                    PACIFICA                         0.090287  \n",
       "                                    ORINOQUIA                        0.270964  \n",
       "                                    CARIBE                           0.137899  \n",
       "                                    AMAZONIA                         0.142097  \n",
       "MUNICIPALITY_TYPE    2.427067e-21   NACIONAL DESCENTRALIZADO         0.866778  \n",
       "                                    Nacional                         0.000000  \n",
       "                                    No Definido                      0.206336  \n",
       "                                    OTHER                            0.081953  \n",
       "                                    TYPE_1                           0.272513  \n",
       "                                    TYPE_2                           0.199312  \n",
       "                                    TYPE_3                           0.532342  \n",
       "                                    TYPE_4                           0.205476  \n",
       "                                    TYPE_5                           0.294040  \n",
       "                                    TYPE_6                           0.153142  \n",
       "                                    Territorial                      0.000000  \n",
       "PROCESS_TYPE_MOD     1.263691e-64   CONTRATACIÓN DIRECTA             0.040849  \n",
       "                                    MÍNIMA CUANTÍA                   0.121988  \n",
       "                                    SELECCIÓN ABREVIADA              0.254837  \n",
       "                                    LICITACIÓN                       0.329517  \n",
       "                                    RÉGIMEN ESPECIAL                 0.133509  \n",
       "                                    OTRO                             0.000000  \n",
       "TYPE_WORK            2.565814e-13   TIPO_OBRA_MEJORAMIENTO           0.088555  \n",
       "                                    TIPO_OBRA_MANTENIMIENTO          0.150514  \n",
       "                                    TIPO_OBRA_CONSTRUCCION           0.211876  \n",
       "                                    TIPO_OBRA_OTROS                  0.175944  \n",
       "                                    TIPO_OBRA_REHABILITACION         0.199045  "
      ]
     },
     "execution_count": 43,
     "metadata": {},
     "output_type": "execute_result"
    }
   ],
   "source": [
    "# Gráfica de intervalos\n",
    "# Asumiendo que df es tu DataFrame y cat_cols son tus variables categóricas de interés\n",
    "cat_cols = ['CONTRACT_VALUE_RANGE','REGION','MUNICIPALITY_TYPE','PROCESS_TYPE_MOD','TYPE_WORK']\n",
    "y_var = 'COST_DEVIATION'\n",
    "\n",
    "resumen = pd.DataFrame()\n",
    "\n",
    "# Función para calcular la desviación estándar para una variable binaria\n",
    "def std_binaria(p, n):\n",
    "    return np.sqrt(p * (1 - p) / n)\n",
    "\n",
    "# Función para calcular el intervalo de confianza del 95% para una proporción\n",
    "def confianza_intervalo(p, n):\n",
    "    z = 1.96  # Valor z para un intervalo de confianza del 95%\n",
    "    margin = z * std_binaria(p, n)\n",
    "    return margin\n",
    "\n",
    "# Inicializar la lista para guardar los resultados de la prueba Chi-cuadrado\n",
    "chi2_resultados = []\n",
    "\n",
    "for cat in cat_cols:\n",
    "    # Agrupar por cat, calcular tamaño y proporción\n",
    "    temp = (\n",
    "        df\n",
    "        .groupby([cat])[y_var]\n",
    "        .agg(['size','sum','mean'])\n",
    "        .rename(columns={'size': 'Total Contratos', 'sum':'Total Contratos con Desviación','mean': 'Proporción de Desviación en Costo'})\n",
    "    )\n",
    "    \n",
    "    # Calcular desviación estándar para la variable binaria y los intervalos de confianza\n",
    "    temp['Desv. Estandar'] = temp.apply(lambda row: std_binaria(row['Proporción de Desviación en Costo'], row['Total Contratos']), axis=1)\n",
    "    temp['CI 95% Inferior'] = temp['Proporción de Desviación en Costo'] - temp.apply(lambda row: confianza_intervalo(row['Proporción de Desviación en Costo'], row['Total Contratos']), axis=1)\n",
    "    temp['CI 95% Superior'] = temp['Proporción de Desviación en Costo'] + temp.apply(lambda row: confianza_intervalo(row['Proporción de Desviación en Costo'], row['Total Contratos']), axis=1)\n",
    "    \n",
    "    # Ajustar valores IC Inferior < 0 e IC Superior > 1\n",
    "    temp['CI 95% Inferior'] = temp['CI 95% Inferior'].apply(lambda x: np.max([0,x]))\n",
    "    temp['CI 95% Superior'] = temp['CI 95% Superior'].apply(lambda x: np.min([1,x]))\n",
    "\n",
    "    \n",
    "    # Ordenar solo variables categóricas nominales\n",
    "    if cat in ['REGION','PROCESS_TYPE_MOD','TYPE_WORK']:\n",
    "       temp =  temp.sort_values(by='Total Contratos', ascending=False)\n",
    "    \n",
    "    # Preparar los datos para la prueba Chi-cuadrado\n",
    "    crosstab = pd.crosstab(df[cat], df[y_var])\n",
    "    \n",
    "    # Realizar la prueba Chi-cuadrado y obtener el p-valor\n",
    "    chi2, p, dof, ex = stats.chi2_contingency(crosstab)\n",
    "    #p = np.round(p,6)\n",
    "    chi2_resultados.append((cat, chi2, p))\n",
    "\n",
    "    \n",
    "    # Reiniciar el índice para convertir el índice en una columna y facilitar la concatenación\n",
    "    #temp.reset_index(inplace=True)\n",
    "    temp['Variable Categorica'] = cat\n",
    "    #temp['Chi2'] = chi2\n",
    "    temp['p-value (chi2)'] = p\n",
    "    \n",
    "    # Concatenar el DataFrame temporal con el resumen\n",
    "    resumen = pd.concat([resumen, temp])\n",
    "\n",
    "# Ajustar el DataFrame resumen\n",
    "resumen['Categorias'] = resumen.index\n",
    "resumen = resumen.set_index(['Variable Categorica', 'p-value (chi2)','Categorias'])\n",
    "resumen"
   ]
  }
 ],
 "metadata": {
  "kernelspec": {
   "display_name": "Python 3 (ipykernel)",
   "language": "python",
   "name": "python3"
  },
  "language_info": {
   "codemirror_mode": {
    "name": "ipython",
    "version": 3
   },
   "file_extension": ".py",
   "mimetype": "text/x-python",
   "name": "python",
   "nbconvert_exporter": "python",
   "pygments_lexer": "ipython3",
   "version": "3.11.7"
  }
 },
 "nbformat": 4,
 "nbformat_minor": 4
}
