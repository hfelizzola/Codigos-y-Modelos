{
 "cells": [
  {
   "cell_type": "markdown",
   "metadata": {},
   "source": [
    "# Análisis de vías rurales"
   ]
  },
  {
   "cell_type": "code",
   "execution_count": 248,
   "metadata": {},
   "outputs": [
    {
     "name": "stdout",
     "output_type": "stream",
     "text": [
      "The autoreload extension is already loaded. To reload it, use:\n",
      "  %reload_ext autoreload\n"
     ]
    }
   ],
   "source": [
    "%load_ext autoreload\n",
    "%autoreload 2"
   ]
  },
  {
   "cell_type": "code",
   "execution_count": 249,
   "metadata": {},
   "outputs": [],
   "source": [
    "# Cargar librerias\n",
    "import numpy as np\n",
    "import pandas as pd\n",
    "import matplotlib.pyplot as plt\n",
    "import seaborn as sns\n",
    "import scipy.stats as stats\n",
    "from EDA_cleaning_utils import tabla_frecuencia\n",
    "from EDA_cleaning_utils import graficar_barras\n",
    "from EDA_cleaning_utils import normalizar_columna\n",
    "import hvplot.pandas\n",
    "pd.set_option('display.max_columns', None)"
   ]
  },
  {
   "cell_type": "code",
   "execution_count": 250,
   "metadata": {},
   "outputs": [
    {
     "data": {
      "text/html": [
       "<div>\n",
       "<style scoped>\n",
       "    .dataframe tbody tr th:only-of-type {\n",
       "        vertical-align: middle;\n",
       "    }\n",
       "\n",
       "    .dataframe tbody tr th {\n",
       "        vertical-align: top;\n",
       "    }\n",
       "\n",
       "    .dataframe thead th {\n",
       "        text-align: right;\n",
       "    }\n",
       "</style>\n",
       "<table border=\"1\" class=\"dataframe\">\n",
       "  <thead>\n",
       "    <tr style=\"text-align: right;\">\n",
       "      <th></th>\n",
       "      <th>CONTRACT_ID</th>\n",
       "      <th>ENTITY_NAME</th>\n",
       "      <th>DEPARTMENT</th>\n",
       "      <th>MUNICIPALITY_TYPE</th>\n",
       "      <th>PROCESS_TYPE</th>\n",
       "      <th>CONTRACT_OBJECT</th>\n",
       "      <th>OBJETC_DETAIL</th>\n",
       "      <th>ESTIMATED_COST_ORIG</th>\n",
       "      <th>CONTRACT_VALUE_ORIG</th>\n",
       "      <th>ADDITIONAL_COST_ORIG</th>\n",
       "      <th>FINAL_COST_ORIG</th>\n",
       "      <th>YEAR</th>\n",
       "      <th>CONTRACT_DATE</th>\n",
       "      <th>START_DATE</th>\n",
       "      <th>ORIGINAL_DEADLINE</th>\n",
       "      <th>END_DATE</th>\n",
       "      <th>ID_ADJUDICACION</th>\n",
       "      <th>URLPROCESO</th>\n",
       "      <th>NIT_ENTIDAD</th>\n",
       "      <th>ID_CONTRATISTA</th>\n",
       "      <th>ESTIMATED_COST_NORM</th>\n",
       "      <th>CONTRACT_VALUE_NORM</th>\n",
       "      <th>ADDITIONAL_COST_NORM</th>\n",
       "      <th>FINAL_COST_NORM</th>\n",
       "      <th>ADDITIONAL_TIME</th>\n",
       "      <th>FINAL_DEADLINE</th>\n",
       "      <th>PROJECT_INTENSITY_NORM</th>\n",
       "      <th>PROJECT_INTENSITY_ORIG</th>\n",
       "      <th>AWARD_GROWTH_NORM</th>\n",
       "      <th>AWARD_GROWTH_ORIG</th>\n",
       "      <th>COST_DEVIATION_ORIG</th>\n",
       "      <th>COST_DEVIATION_NORM</th>\n",
       "      <th>TIME_DEVIATION</th>\n",
       "      <th>OWNER</th>\n",
       "      <th>REGION</th>\n",
       "      <th>GROUP</th>\n",
       "      <th>COST_GROUP_QUANTILE</th>\n",
       "    </tr>\n",
       "  </thead>\n",
       "  <tbody>\n",
       "    <tr>\n",
       "      <th>0</th>\n",
       "      <td>17-13-6626390-6041040</td>\n",
       "      <td>NARINO  ALCALDIA MUNICIPIO DE ARBOLEDA BERRUECOS</td>\n",
       "      <td>NARIÑO</td>\n",
       "      <td>TYPE_2</td>\n",
       "      <td>CONTRATACIÓN MÍNIMA CUANTÍA</td>\n",
       "      <td>TERRENOS, EDIFICIOS, ESTRUCTURAS Y VÍAS</td>\n",
       "      <td>CONTRATAR LA OBRA PUBLICA PARA REALIZAR EL MAN...</td>\n",
       "      <td>1.999626e+07</td>\n",
       "      <td>1.999626e+07</td>\n",
       "      <td>0.0</td>\n",
       "      <td>1.999626e+07</td>\n",
       "      <td>2017</td>\n",
       "      <td>2017-05-26</td>\n",
       "      <td>2017-05-26</td>\n",
       "      <td>7</td>\n",
       "      <td>2017-06-02</td>\n",
       "      <td>6041040</td>\n",
       "      <td>{'url': 'https://www.contratos.gov.co/consulta...</td>\n",
       "      <td>800093386-8</td>\n",
       "      <td>1018464415</td>\n",
       "      <td>27.105601</td>\n",
       "      <td>27.105601</td>\n",
       "      <td>0.000000</td>\n",
       "      <td>27.105601</td>\n",
       "      <td>0</td>\n",
       "      <td>7</td>\n",
       "      <td>3.872229</td>\n",
       "      <td>2.856609e+06</td>\n",
       "      <td>0.000000</td>\n",
       "      <td>0.000000</td>\n",
       "      <td>0.000000</td>\n",
       "      <td>0.000000</td>\n",
       "      <td>0.0</td>\n",
       "      <td>MUNICIPALITY</td>\n",
       "      <td>PACIFICA</td>\n",
       "      <td>Vias Rurales hasta 2020</td>\n",
       "      <td>2</td>\n",
       "    </tr>\n",
       "    <tr>\n",
       "      <th>1</th>\n",
       "      <td>16-12-5894032-5360440</td>\n",
       "      <td>CUNDINAMARCA  INSTITUTO DE INFRAESTRUCTURA Y C...</td>\n",
       "      <td>BOGOTÁ DC</td>\n",
       "      <td>OTHER</td>\n",
       "      <td>CONTRATACIÓN DIRECTA (LEY 1150 DE 2007)</td>\n",
       "      <td>TERRENOS, EDIFICIOS, ESTRUCTURAS Y VÍAS</td>\n",
       "      <td>AUNAR ESFUERZOS TECNICOS; ADMINISTRATIVOS Y FI...</td>\n",
       "      <td>1.493172e+08</td>\n",
       "      <td>1.493172e+08</td>\n",
       "      <td>0.0</td>\n",
       "      <td>1.493172e+08</td>\n",
       "      <td>2016</td>\n",
       "      <td>2016-12-07</td>\n",
       "      <td>2016-12-07</td>\n",
       "      <td>360</td>\n",
       "      <td>2017-12-07</td>\n",
       "      <td>5360440</td>\n",
       "      <td>{'url': 'https://www.contratos.gov.co/consulta...</td>\n",
       "      <td>900258711</td>\n",
       "      <td>899999466</td>\n",
       "      <td>216.572854</td>\n",
       "      <td>216.572854</td>\n",
       "      <td>0.000000</td>\n",
       "      <td>216.572854</td>\n",
       "      <td>0</td>\n",
       "      <td>360</td>\n",
       "      <td>0.601591</td>\n",
       "      <td>4.147701e+05</td>\n",
       "      <td>0.000000</td>\n",
       "      <td>0.000000</td>\n",
       "      <td>0.000000</td>\n",
       "      <td>0.000000</td>\n",
       "      <td>0.0</td>\n",
       "      <td>DEPARTMENT_GOVERNMENT</td>\n",
       "      <td>OTRA</td>\n",
       "      <td>Vias Rurales hasta 2020</td>\n",
       "      <td>4</td>\n",
       "    </tr>\n",
       "    <tr>\n",
       "      <th>2</th>\n",
       "      <td>19-1-205607-10520942</td>\n",
       "      <td>ANTIOQUIA  ALCALDIA MUNICIPIO DE EL PENOL</td>\n",
       "      <td>ANTIOQUIA</td>\n",
       "      <td>TYPE_6</td>\n",
       "      <td>LICITACIÓN PÚBLICA</td>\n",
       "      <td>TERRENOS, EDIFICIOS, ESTRUCTURAS Y VÍAS</td>\n",
       "      <td>FRESADA Y PAVIMENTACION DE LA VIA DE ACCESO PR...</td>\n",
       "      <td>1.104422e+09</td>\n",
       "      <td>1.084239e+09</td>\n",
       "      <td>250060500.0</td>\n",
       "      <td>1.334300e+09</td>\n",
       "      <td>2019</td>\n",
       "      <td>2019-11-28</td>\n",
       "      <td>2019-12-04</td>\n",
       "      <td>60</td>\n",
       "      <td>2020-05-04</td>\n",
       "      <td>10520942</td>\n",
       "      <td>{'url': 'https://www.contratos.gov.co/consulta...</td>\n",
       "      <td>890980917</td>\n",
       "      <td>901337744</td>\n",
       "      <td>1333.656541</td>\n",
       "      <td>1309.283977</td>\n",
       "      <td>301.963131</td>\n",
       "      <td>1611.247108</td>\n",
       "      <td>90</td>\n",
       "      <td>150</td>\n",
       "      <td>21.821400</td>\n",
       "      <td>1.807065e+07</td>\n",
       "      <td>-1.827499</td>\n",
       "      <td>-1.827499</td>\n",
       "      <td>0.230632</td>\n",
       "      <td>0.230632</td>\n",
       "      <td>1.5</td>\n",
       "      <td>MUNICIPALITY</td>\n",
       "      <td>ANDINA</td>\n",
       "      <td>Vias Rurales hasta 2020</td>\n",
       "      <td>4</td>\n",
       "    </tr>\n",
       "    <tr>\n",
       "      <th>3</th>\n",
       "      <td>19-13-8824649-8190165</td>\n",
       "      <td>ANTIOQUIA  ALCALDIA MUNICIPIO DE NECOCLI</td>\n",
       "      <td>ANTIOQUIA</td>\n",
       "      <td>TYPE_6</td>\n",
       "      <td>CONTRATACIÓN MÍNIMA CUANTÍA</td>\n",
       "      <td>TERRENOS, EDIFICIOS, ESTRUCTURAS Y VÍAS</td>\n",
       "      <td>MANTENIMIENTO  VIA ACCESO AL COLISEO DEL MUNIC...</td>\n",
       "      <td>2.150000e+07</td>\n",
       "      <td>2.150000e+07</td>\n",
       "      <td>0.0</td>\n",
       "      <td>2.150000e+07</td>\n",
       "      <td>2019</td>\n",
       "      <td>2019-01-03</td>\n",
       "      <td>2019-01-22</td>\n",
       "      <td>10</td>\n",
       "      <td>2019-02-01</td>\n",
       "      <td>8190165</td>\n",
       "      <td>{'url': 'https://www.contratos.gov.co/consulta...</td>\n",
       "      <td>890985354-8</td>\n",
       "      <td>900821698</td>\n",
       "      <td>25.962546</td>\n",
       "      <td>25.962546</td>\n",
       "      <td>0.000000</td>\n",
       "      <td>25.962546</td>\n",
       "      <td>0</td>\n",
       "      <td>10</td>\n",
       "      <td>2.596255</td>\n",
       "      <td>2.150000e+06</td>\n",
       "      <td>0.000000</td>\n",
       "      <td>0.000000</td>\n",
       "      <td>0.000000</td>\n",
       "      <td>0.000000</td>\n",
       "      <td>0.0</td>\n",
       "      <td>MUNICIPALITY</td>\n",
       "      <td>ANDINA</td>\n",
       "      <td>Vias Rurales hasta 2020</td>\n",
       "      <td>2</td>\n",
       "    </tr>\n",
       "    <tr>\n",
       "      <th>4</th>\n",
       "      <td>19-12-9611888-8756837</td>\n",
       "      <td>CAUCA  ALCALDIA MUNICIPIO DE PIAMONTE</td>\n",
       "      <td>CAUCA</td>\n",
       "      <td>TYPE_6</td>\n",
       "      <td>CONTRATACIÓN DIRECTA (LEY 1150 DE 2007)</td>\n",
       "      <td>TERRENOS, EDIFICIOS, ESTRUCTURAS Y VÍAS</td>\n",
       "      <td>APOYO AL CONVENIO SOLIDARIO PARA EL MEJORAMIEN...</td>\n",
       "      <td>2.000000e+07</td>\n",
       "      <td>2.000000e+07</td>\n",
       "      <td>0.0</td>\n",
       "      <td>2.000000e+07</td>\n",
       "      <td>2019</td>\n",
       "      <td>2019-06-26</td>\n",
       "      <td>2019-06-26</td>\n",
       "      <td>30</td>\n",
       "      <td>2019-07-26</td>\n",
       "      <td>8756837</td>\n",
       "      <td>{'url': 'https://www.contratos.gov.co/consulta...</td>\n",
       "      <td>891856464-0</td>\n",
       "      <td>901276910</td>\n",
       "      <td>24.151206</td>\n",
       "      <td>24.151206</td>\n",
       "      <td>0.000000</td>\n",
       "      <td>24.151206</td>\n",
       "      <td>0</td>\n",
       "      <td>30</td>\n",
       "      <td>0.805040</td>\n",
       "      <td>6.666667e+05</td>\n",
       "      <td>0.000000</td>\n",
       "      <td>0.000000</td>\n",
       "      <td>0.000000</td>\n",
       "      <td>0.000000</td>\n",
       "      <td>0.0</td>\n",
       "      <td>MUNICIPALITY</td>\n",
       "      <td>PACIFICA</td>\n",
       "      <td>Vias Rurales hasta 2020</td>\n",
       "      <td>2</td>\n",
       "    </tr>\n",
       "  </tbody>\n",
       "</table>\n",
       "</div>"
      ],
      "text/plain": [
       "             CONTRACT_ID                                        ENTITY_NAME  \\\n",
       "0  17-13-6626390-6041040   NARINO  ALCALDIA MUNICIPIO DE ARBOLEDA BERRUECOS   \n",
       "1  16-12-5894032-5360440  CUNDINAMARCA  INSTITUTO DE INFRAESTRUCTURA Y C...   \n",
       "2   19-1-205607-10520942          ANTIOQUIA  ALCALDIA MUNICIPIO DE EL PENOL   \n",
       "3  19-13-8824649-8190165           ANTIOQUIA  ALCALDIA MUNICIPIO DE NECOCLI   \n",
       "4  19-12-9611888-8756837              CAUCA  ALCALDIA MUNICIPIO DE PIAMONTE   \n",
       "\n",
       "  DEPARTMENT MUNICIPALITY_TYPE                             PROCESS_TYPE  \\\n",
       "0     NARIÑO            TYPE_2              CONTRATACIÓN MÍNIMA CUANTÍA   \n",
       "1  BOGOTÁ DC             OTHER  CONTRATACIÓN DIRECTA (LEY 1150 DE 2007)   \n",
       "2  ANTIOQUIA            TYPE_6                       LICITACIÓN PÚBLICA   \n",
       "3  ANTIOQUIA            TYPE_6              CONTRATACIÓN MÍNIMA CUANTÍA   \n",
       "4      CAUCA            TYPE_6  CONTRATACIÓN DIRECTA (LEY 1150 DE 2007)   \n",
       "\n",
       "                           CONTRACT_OBJECT  \\\n",
       "0  TERRENOS, EDIFICIOS, ESTRUCTURAS Y VÍAS   \n",
       "1  TERRENOS, EDIFICIOS, ESTRUCTURAS Y VÍAS   \n",
       "2  TERRENOS, EDIFICIOS, ESTRUCTURAS Y VÍAS   \n",
       "3  TERRENOS, EDIFICIOS, ESTRUCTURAS Y VÍAS   \n",
       "4  TERRENOS, EDIFICIOS, ESTRUCTURAS Y VÍAS   \n",
       "\n",
       "                                       OBJETC_DETAIL  ESTIMATED_COST_ORIG  \\\n",
       "0  CONTRATAR LA OBRA PUBLICA PARA REALIZAR EL MAN...         1.999626e+07   \n",
       "1  AUNAR ESFUERZOS TECNICOS; ADMINISTRATIVOS Y FI...         1.493172e+08   \n",
       "2  FRESADA Y PAVIMENTACION DE LA VIA DE ACCESO PR...         1.104422e+09   \n",
       "3  MANTENIMIENTO  VIA ACCESO AL COLISEO DEL MUNIC...         2.150000e+07   \n",
       "4  APOYO AL CONVENIO SOLIDARIO PARA EL MEJORAMIEN...         2.000000e+07   \n",
       "\n",
       "   CONTRACT_VALUE_ORIG  ADDITIONAL_COST_ORIG  FINAL_COST_ORIG  YEAR  \\\n",
       "0         1.999626e+07                   0.0     1.999626e+07  2017   \n",
       "1         1.493172e+08                   0.0     1.493172e+08  2016   \n",
       "2         1.084239e+09           250060500.0     1.334300e+09  2019   \n",
       "3         2.150000e+07                   0.0     2.150000e+07  2019   \n",
       "4         2.000000e+07                   0.0     2.000000e+07  2019   \n",
       "\n",
       "  CONTRACT_DATE  START_DATE  ORIGINAL_DEADLINE    END_DATE  ID_ADJUDICACION  \\\n",
       "0    2017-05-26  2017-05-26                  7  2017-06-02          6041040   \n",
       "1    2016-12-07  2016-12-07                360  2017-12-07          5360440   \n",
       "2    2019-11-28  2019-12-04                 60  2020-05-04         10520942   \n",
       "3    2019-01-03  2019-01-22                 10  2019-02-01          8190165   \n",
       "4    2019-06-26  2019-06-26                 30  2019-07-26          8756837   \n",
       "\n",
       "                                          URLPROCESO  NIT_ENTIDAD  \\\n",
       "0  {'url': 'https://www.contratos.gov.co/consulta...  800093386-8   \n",
       "1  {'url': 'https://www.contratos.gov.co/consulta...    900258711   \n",
       "2  {'url': 'https://www.contratos.gov.co/consulta...    890980917   \n",
       "3  {'url': 'https://www.contratos.gov.co/consulta...  890985354-8   \n",
       "4  {'url': 'https://www.contratos.gov.co/consulta...  891856464-0   \n",
       "\n",
       "  ID_CONTRATISTA  ESTIMATED_COST_NORM  CONTRACT_VALUE_NORM  \\\n",
       "0     1018464415            27.105601            27.105601   \n",
       "1      899999466           216.572854           216.572854   \n",
       "2      901337744          1333.656541          1309.283977   \n",
       "3      900821698            25.962546            25.962546   \n",
       "4      901276910            24.151206            24.151206   \n",
       "\n",
       "   ADDITIONAL_COST_NORM  FINAL_COST_NORM  ADDITIONAL_TIME  FINAL_DEADLINE  \\\n",
       "0              0.000000        27.105601                0               7   \n",
       "1              0.000000       216.572854                0             360   \n",
       "2            301.963131      1611.247108               90             150   \n",
       "3              0.000000        25.962546                0              10   \n",
       "4              0.000000        24.151206                0              30   \n",
       "\n",
       "   PROJECT_INTENSITY_NORM  PROJECT_INTENSITY_ORIG  AWARD_GROWTH_NORM  \\\n",
       "0                3.872229            2.856609e+06           0.000000   \n",
       "1                0.601591            4.147701e+05           0.000000   \n",
       "2               21.821400            1.807065e+07          -1.827499   \n",
       "3                2.596255            2.150000e+06           0.000000   \n",
       "4                0.805040            6.666667e+05           0.000000   \n",
       "\n",
       "   AWARD_GROWTH_ORIG  COST_DEVIATION_ORIG  COST_DEVIATION_NORM  \\\n",
       "0           0.000000             0.000000             0.000000   \n",
       "1           0.000000             0.000000             0.000000   \n",
       "2          -1.827499             0.230632             0.230632   \n",
       "3           0.000000             0.000000             0.000000   \n",
       "4           0.000000             0.000000             0.000000   \n",
       "\n",
       "   TIME_DEVIATION                  OWNER    REGION                    GROUP  \\\n",
       "0             0.0           MUNICIPALITY  PACIFICA  Vias Rurales hasta 2020   \n",
       "1             0.0  DEPARTMENT_GOVERNMENT      OTRA  Vias Rurales hasta 2020   \n",
       "2             1.5           MUNICIPALITY    ANDINA  Vias Rurales hasta 2020   \n",
       "3             0.0           MUNICIPALITY    ANDINA  Vias Rurales hasta 2020   \n",
       "4             0.0           MUNICIPALITY  PACIFICA  Vias Rurales hasta 2020   \n",
       "\n",
       "   COST_GROUP_QUANTILE  \n",
       "0                    2  \n",
       "1                    4  \n",
       "2                    4  \n",
       "3                    2  \n",
       "4                    2  "
      ]
     },
     "execution_count": 250,
     "metadata": {},
     "output_type": "execute_result"
    }
   ],
   "source": [
    "df = pd.read_csv('collected_obra_data.csv')\n",
    "df.head()"
   ]
  },
  {
   "cell_type": "markdown",
   "metadata": {},
   "source": [
    "## Filtros"
   ]
  },
  {
   "cell_type": "code",
   "execution_count": 251,
   "metadata": {},
   "outputs": [
    {
     "data": {
      "text/plain": [
       "GROUP\n",
       "Vias Rurales 2021-2023         1998\n",
       "Vias Rurales hasta 2020        7522\n",
       "Vias secundarias 2021-2023      119\n",
       "Vias secundarias hasta 2020    1981\n",
       "dtype: int64"
      ]
     },
     "execution_count": 251,
     "metadata": {},
     "output_type": "execute_result"
    }
   ],
   "source": [
    "df.groupby('GROUP').size()"
   ]
  },
  {
   "cell_type": "code",
   "execution_count": 252,
   "metadata": {},
   "outputs": [],
   "source": [
    "# Quitar vías secundarías\n",
    "df = df.loc[df['GROUP'].isin(['Vias Rurales 2021-2023','Vias Rurales hasta 2020'])].copy()"
   ]
  },
  {
   "cell_type": "code",
   "execution_count": 253,
   "metadata": {},
   "outputs": [
    {
     "data": {
      "text/plain": [
       "(9520, 37)"
      ]
     },
     "execution_count": 253,
     "metadata": {},
     "output_type": "execute_result"
    }
   ],
   "source": [
    "df.shape"
   ]
  },
  {
   "cell_type": "code",
   "execution_count": 254,
   "metadata": {},
   "outputs": [],
   "source": [
    "df['OBJETC_DETAIL'] = df['OBJETC_DETAIL'].str.upper()"
   ]
  },
  {
   "cell_type": "code",
   "execution_count": 255,
   "metadata": {},
   "outputs": [
    {
     "data": {
      "text/plain": [
       "(6058, 37)"
      ]
     },
     "execution_count": 255,
     "metadata": {},
     "output_type": "execute_result"
    }
   ],
   "source": [
    "# Quitar convenios interadministrativos\n",
    "kw_convenios = [\n",
    "    'AUNAR',\n",
    "    'CONVENIO',\n",
    "    'ANUAR',\n",
    "    'AUNNAR',\n",
    "    'INTERADMINISTRATIVO',\n",
    "    'COMPLEMENTACION DE ESFUERZOS INSTITUCIONALES',\n",
    "    'COMPLEMENTAR ESFUERZOS INSTITUCIONALES',\n",
    "    'UNIR  ESFUERZOS',\n",
    "    'UNIR ESFUERZOS',\n",
    "    'UNION DE ESFUERZOS'\n",
    "               ]\n",
    "# Unir las palabras clave en un solo string separadas por '|'\n",
    "kw_convenios = '|'.join(kw_convenios)\n",
    "df = df.loc[~df['OBJETC_DETAIL'].str.contains(kw_convenios)].copy()\n",
    "df.shape"
   ]
  },
  {
   "cell_type": "code",
   "execution_count": 256,
   "metadata": {},
   "outputs": [
    {
     "data": {
      "text/plain": [
       "(4929, 37)"
      ]
     },
     "execution_count": 256,
     "metadata": {},
     "output_type": "execute_result"
    }
   ],
   "source": [
    "# Quitar contratos que no son obra\n",
    "kw_otros = ['ESTUDIOS',\n",
    "             'DISENOS',\n",
    "             'ESTUDIO',\n",
    "             'DISENO',\n",
    "             'INTERVENTORIA',\n",
    "             'INTERVENTORA',\n",
    "             'INTRERVENTORIA',\n",
    "             'ADMINISTRACION',\n",
    "             'INVENTARIO',\n",
    "             'ELABORACION DE UN  MANUAL',\n",
    "             'SUMINISTRO',\n",
    "             'INSTITUCIONES EDUCATIVAS',\n",
    "             'INSTITUCION EDUCATIVA',\n",
    "             'MANTENIMIENTO RUTINARIO']\n",
    "\n",
    "kw_otros = '|'.join(kw_otros)\n",
    "\n",
    "df = df.loc[~df['OBJETC_DETAIL'].str.contains(kw_otros)].copy()\n",
    "df.shape"
   ]
  },
  {
   "cell_type": "code",
   "execution_count": 257,
   "metadata": {},
   "outputs": [
    {
     "data": {
      "text/plain": [
       "(4791, 37)"
      ]
     },
     "execution_count": 257,
     "metadata": {},
     "output_type": "execute_result"
    }
   ],
   "source": [
    "# Quitar otros tipos de obras\n",
    "kw_otras_obras = ['ACUEDUCTO',\n",
    "                  'ALCANTARILLADO',\n",
    "                  'PARQUE',\n",
    "                  'COLEGIO']\n",
    "\n",
    "kw_otras_obras = '|'.join(kw_otras_obras)\n",
    "\n",
    "df = df.loc[~df['OBJETC_DETAIL'].str.contains(kw_otras_obras)].copy()\n",
    "df.shape"
   ]
  },
  {
   "cell_type": "code",
   "execution_count": 258,
   "metadata": {},
   "outputs": [
    {
     "data": {
      "text/plain": [
       "(4790, 37)"
      ]
     },
     "execution_count": 258,
     "metadata": {},
     "output_type": "execute_result"
    }
   ],
   "source": [
    "df = df.loc[~(df['PROCESS_TYPE'] == 'CONCURSO DE MÉRITOS ABIERTO')].copy()\n",
    "df.shape"
   ]
  },
  {
   "cell_type": "code",
   "execution_count": 259,
   "metadata": {},
   "outputs": [
    {
     "data": {
      "text/plain": [
       "(1877, 37)"
      ]
     },
     "execution_count": 259,
     "metadata": {},
     "output_type": "execute_result"
    }
   ],
   "source": [
    "# Considerar solo contratos de mas de 100 millones\n",
    "df = df[df['CONTRACT_VALUE_ORIG'] >= 1e8].copy()\n",
    "df.shape"
   ]
  },
  {
   "cell_type": "markdown",
   "metadata": {},
   "source": [
    "## Procesamiento"
   ]
  },
  {
   "cell_type": "code",
   "execution_count": 260,
   "metadata": {},
   "outputs": [],
   "source": [
    "# Estandarizar la modalidad de contratación\n",
    "modalidad_map = {\n",
    "    'LICITACIÓN PÚBLICA':'LICITACIÓN', \n",
    "    'CONTRATACIÓN DIRECTA (LEY 1150 DE 2007)':'CONTRATACION DIRECTA',\n",
    "    'SELECCIÓN ABREVIADA DE MENOR CUANTÍA (LEY 1150 DE 2007)':'SELECCIÓN ABREVIADA',\n",
    "    'LICITACIÓN OBRA PÚBLICA':'LICITACIÓN', \n",
    "    'SELECCIÓN ABREVIADA DEL LITERAL H DEL NUMERAL 2 DEL ARTÍCULO 2 DE LA LEY 1150 DE 2007':'SELECCIÓN ABREVIADA'\n",
    "}\n",
    "df['PROCESS_TYPE'].replace(modalidad_map, inplace=True)"
   ]
  },
  {
   "cell_type": "code",
   "execution_count": 261,
   "metadata": {},
   "outputs": [
    {
     "data": {
      "text/plain": [
       "PROCESS_TYPE\n",
       "CONTRATACION DIRECTA    824\n",
       "LICITACIÓN              508\n",
       "SELECCIÓN ABREVIADA     432\n",
       "RÉGIMEN ESPECIAL        113\n",
       "dtype: int64"
      ]
     },
     "execution_count": 261,
     "metadata": {},
     "output_type": "execute_result"
    }
   ],
   "source": [
    "df.groupby('PROCESS_TYPE').size().sort_values(ascending=False)"
   ]
  },
  {
   "cell_type": "code",
   "execution_count": 262,
   "metadata": {},
   "outputs": [
    {
     "data": {
      "text/plain": [
       "CONTRACT_ID               0\n",
       "ENTITY_NAME               0\n",
       "DEPARTMENT                0\n",
       "MUNICIPALITY_TYPE         0\n",
       "PROCESS_TYPE              0\n",
       "CONTRACT_OBJECT           0\n",
       "OBJETC_DETAIL             0\n",
       "ESTIMATED_COST_ORIG       0\n",
       "CONTRACT_VALUE_ORIG       0\n",
       "ADDITIONAL_COST_ORIG      0\n",
       "FINAL_COST_ORIG           0\n",
       "YEAR                      0\n",
       "CONTRACT_DATE             0\n",
       "START_DATE                0\n",
       "ORIGINAL_DEADLINE         0\n",
       "END_DATE                  0\n",
       "ID_ADJUDICACION           0\n",
       "URLPROCESO                0\n",
       "NIT_ENTIDAD               0\n",
       "ID_CONTRATISTA            0\n",
       "ESTIMATED_COST_NORM       0\n",
       "CONTRACT_VALUE_NORM       0\n",
       "ADDITIONAL_COST_NORM      0\n",
       "FINAL_COST_NORM           0\n",
       "ADDITIONAL_TIME           0\n",
       "FINAL_DEADLINE            0\n",
       "PROJECT_INTENSITY_NORM    0\n",
       "PROJECT_INTENSITY_ORIG    0\n",
       "AWARD_GROWTH_NORM         0\n",
       "AWARD_GROWTH_ORIG         0\n",
       "COST_DEVIATION_ORIG       0\n",
       "COST_DEVIATION_NORM       0\n",
       "TIME_DEVIATION            0\n",
       "OWNER                     0\n",
       "REGION                    0\n",
       "GROUP                     0\n",
       "COST_GROUP_QUANTILE       0\n",
       "dtype: int64"
      ]
     },
     "execution_count": 262,
     "metadata": {},
     "output_type": "execute_result"
    }
   ],
   "source": [
    "df.isnull().sum()"
   ]
  },
  {
   "cell_type": "code",
   "execution_count": 282,
   "metadata": {},
   "outputs": [],
   "source": [
    "dep_mod = {'BOGOT DC':'BOGOTÁ DC',\n",
    "            'BOYAC':'BOYACÁ',\n",
    "            'CAQUET':'CAQUETÁ',\n",
    "            'CRDOBA':'CÓRDOBA',\n",
    "            'SAN ANDRÉS PROVIDENCIA Y SANTA CATALINA':'SAN ANDRÉS PROV. Y STA. CAT.',\n",
    "            'BOLVAR':'BOLÍVAR',\n",
    "            'CHOC':'CHOCÓ'}\n",
    "df['DEPARTMENT'].replace(dep_mod, inplace=True)"
   ]
  },
  {
   "cell_type": "markdown",
   "metadata": {},
   "source": [
    "## Análisis exploratorio de datos"
   ]
  },
  {
   "cell_type": "markdown",
   "metadata": {},
   "source": [
    "### Frecuencia de desviación en costo"
   ]
  },
  {
   "cell_type": "code",
   "execution_count": 263,
   "metadata": {},
   "outputs": [],
   "source": [
    "# Crear una variable que indique el proyecto tiene desviación en costo\n",
    "df['COST_DEVIATION'] = df['ADDITIONAL_COST_ORIG'] > 0"
   ]
  },
  {
   "cell_type": "code",
   "execution_count": 264,
   "metadata": {},
   "outputs": [
    {
     "data": {
      "text/html": [
       "<div>\n",
       "<style scoped>\n",
       "    .dataframe tbody tr th:only-of-type {\n",
       "        vertical-align: middle;\n",
       "    }\n",
       "\n",
       "    .dataframe tbody tr th {\n",
       "        vertical-align: top;\n",
       "    }\n",
       "\n",
       "    .dataframe thead th {\n",
       "        text-align: right;\n",
       "    }\n",
       "</style>\n",
       "<table border=\"1\" class=\"dataframe\">\n",
       "  <thead>\n",
       "    <tr style=\"text-align: right;\">\n",
       "      <th></th>\n",
       "      <th>COST_DEVIATION</th>\n",
       "      <th>TOTAL CONTRATOS</th>\n",
       "      <th>PORCENTAJE</th>\n",
       "    </tr>\n",
       "  </thead>\n",
       "  <tbody>\n",
       "    <tr>\n",
       "      <th>0</th>\n",
       "      <td>False</td>\n",
       "      <td>1565</td>\n",
       "      <td>83.38</td>\n",
       "    </tr>\n",
       "    <tr>\n",
       "      <th>1</th>\n",
       "      <td>True</td>\n",
       "      <td>312</td>\n",
       "      <td>16.62</td>\n",
       "    </tr>\n",
       "  </tbody>\n",
       "</table>\n",
       "</div>"
      ],
      "text/plain": [
       "   COST_DEVIATION  TOTAL CONTRATOS  PORCENTAJE\n",
       "0           False             1565       83.38\n",
       "1            True              312       16.62"
      ]
     },
     "execution_count": 264,
     "metadata": {},
     "output_type": "execute_result"
    }
   ],
   "source": [
    "# Tabla de frecuencia de la desviación en costo\n",
    "tabla_frecuencia(df, 'COST_DEVIATION')"
   ]
  },
  {
   "cell_type": "code",
   "execution_count": 268,
   "metadata": {},
   "outputs": [
    {
     "data": {
      "text/plain": [
       "count      1877.000000\n",
       "mean       1416.079606\n",
       "std        6217.478521\n",
       "min         100.000000\n",
       "25%         108.249000\n",
       "50%         200.000000\n",
       "75%         550.000000\n",
       "max      119039.104374\n",
       "Name: CONTRACT_VALUE_ORIG, dtype: float64"
      ]
     },
     "execution_count": 268,
     "metadata": {},
     "output_type": "execute_result"
    }
   ],
   "source": [
    "(df['CONTRACT_VALUE_ORIG']/1e6).describe()"
   ]
  },
  {
   "cell_type": "code",
   "execution_count": 273,
   "metadata": {},
   "outputs": [],
   "source": [
    "# Crear la variable de tamaño del proyecto\n",
    "df['CONTRACT_VALUE_RANGE_MILLONES'] = pd.cut(df['CONTRACT_VALUE_ORIG']/1e6, bins=[100,150,300,900,120000], include_lowest=True)"
   ]
  },
  {
   "cell_type": "code",
   "execution_count": 278,
   "metadata": {},
   "outputs": [
    {
     "data": {
      "text/plain": [
       "CONTRACT_VALUE_RANGE_MILLONES\n",
       "(99.999, 150.0]       5.577689\n",
       "(150.0, 300.0]       19.727891\n",
       "(300.0, 900.0]       21.846154\n",
       "(900.0, 120000.0]    31.284916\n",
       "Name: COST_DEVIATION, dtype: float64"
      ]
     },
     "execution_count": 278,
     "metadata": {},
     "output_type": "execute_result"
    }
   ],
   "source": [
    "# Frecuencia de desviación por tamaño del proyecto\n",
    "df.groupby(['CONTRACT_VALUE_RANGE_MILLONES'], observed=False)['COST_DEVIATION'].mean()*100"
   ]
  },
  {
   "cell_type": "code",
   "execution_count": 287,
   "metadata": {},
   "outputs": [
    {
     "data": {
      "text/plain": [
       "REGION\n",
       "ANDINA       0.280753\n",
       "ORINOQUIA    0.261682\n",
       "AMAZONIA     0.259259\n",
       "PACIFICA     0.165138\n",
       "CARIBE       0.156863\n",
       "OTRA         0.063901\n",
       "Name: COST_DEVIATION, dtype: float64"
      ]
     },
     "execution_count": 287,
     "metadata": {},
     "output_type": "execute_result"
    }
   ],
   "source": [
    "df.groupby(['REGION'], observed=True)['COST_DEVIATION'].mean().sort_values(ascending=False)"
   ]
  },
  {
   "cell_type": "code",
   "execution_count": 289,
   "metadata": {},
   "outputs": [
    {
     "data": {
      "text/plain": [
       "MUNICIPALITY_TYPE\n",
       "NACIONAL DESCENTRALIZADO    0.500000\n",
       "OTHER                       0.081574\n",
       "TYPE_1                      0.210526\n",
       "TYPE_2                      0.315789\n",
       "TYPE_3                      0.428571\n",
       "TYPE_4                      0.280000\n",
       "TYPE_5                      0.346667\n",
       "TYPE_6                      0.252115\n",
       "Name: COST_DEVIATION, dtype: float64"
      ]
     },
     "execution_count": 289,
     "metadata": {},
     "output_type": "execute_result"
    }
   ],
   "source": [
    "df.groupby(['MUNICIPALITY_TYPE'], observed=True)['COST_DEVIATION'].mean()"
   ]
  },
  {
   "cell_type": "code",
   "execution_count": 290,
   "metadata": {},
   "outputs": [
    {
     "data": {
      "text/plain": [
       "PROCESS_TYPE\n",
       "CONTRATACION DIRECTA    0.030340\n",
       "LICITACIÓN              0.285433\n",
       "RÉGIMEN ESPECIAL        0.230088\n",
       "SELECCIÓN ABREVIADA     0.268519\n",
       "Name: COST_DEVIATION, dtype: float64"
      ]
     },
     "execution_count": 290,
     "metadata": {},
     "output_type": "execute_result"
    }
   ],
   "source": [
    "df.groupby(['PROCESS_TYPE'], observed=True)['COST_DEVIATION'].mean()"
   ]
  },
  {
   "cell_type": "code",
   "execution_count": 286,
   "metadata": {},
   "outputs": [
    {
     "data": {
      "text/plain": [
       "Index(['CONTRACT_ID', 'ENTITY_NAME', 'DEPARTMENT', 'MUNICIPALITY_TYPE',\n",
       "       'PROCESS_TYPE', 'CONTRACT_OBJECT', 'OBJETC_DETAIL',\n",
       "       'ESTIMATED_COST_ORIG', 'CONTRACT_VALUE_ORIG', 'ADDITIONAL_COST_ORIG',\n",
       "       'FINAL_COST_ORIG', 'YEAR', 'CONTRACT_DATE', 'START_DATE',\n",
       "       'ORIGINAL_DEADLINE', 'END_DATE', 'ID_ADJUDICACION', 'URLPROCESO',\n",
       "       'NIT_ENTIDAD', 'ID_CONTRATISTA', 'ESTIMATED_COST_NORM',\n",
       "       'CONTRACT_VALUE_NORM', 'ADDITIONAL_COST_NORM', 'FINAL_COST_NORM',\n",
       "       'ADDITIONAL_TIME', 'FINAL_DEADLINE', 'PROJECT_INTENSITY_NORM',\n",
       "       'PROJECT_INTENSITY_ORIG', 'AWARD_GROWTH_NORM', 'AWARD_GROWTH_ORIG',\n",
       "       'COST_DEVIATION_ORIG', 'COST_DEVIATION_NORM', 'TIME_DEVIATION', 'OWNER',\n",
       "       'REGION', 'GROUP', 'COST_GROUP_QUANTILE', 'COST_DEVIATION',\n",
       "       'CONTRACT_VALUE_RANGE_MILLONES'],\n",
       "      dtype='object')"
      ]
     },
     "execution_count": 286,
     "metadata": {},
     "output_type": "execute_result"
    }
   ],
   "source": [
    "df.columns"
   ]
  },
  {
   "cell_type": "code",
   "execution_count": 293,
   "metadata": {},
   "outputs": [],
   "source": [
    "df[df['PROCESS_TYPE'] == 'LICITACIÓN']['OBJETC_DETAIL'].to_clipboard()"
   ]
  },
  {
   "cell_type": "code",
   "execution_count": 298,
   "metadata": {},
   "outputs": [
    {
     "data": {
      "text/plain": [
       "556"
      ]
     },
     "execution_count": 298,
     "metadata": {},
     "output_type": "execute_result"
    }
   ],
   "source": [
    "df['TIPO_OBRA_CONSTRUCCION'] = df['OBJETC_DETAIL'].str.contains('CONSTRUCCION|PAVIMENTACION|COSNTRUCCION|COSNTRUCCION|CONTRUCCION')\n",
    "df['TIPO_OBRA_CONSTRUCCION'].sum() "
   ]
  },
  {
   "cell_type": "code",
   "execution_count": 299,
   "metadata": {},
   "outputs": [
    {
     "data": {
      "text/plain": [
       "342"
      ]
     },
     "execution_count": 299,
     "metadata": {},
     "output_type": "execute_result"
    }
   ],
   "source": [
    "df['TIPO_OBRA_MANTENIMIENTO'] = df['OBJETC_DETAIL'].str.contains('MANTENIMIENTO')\n",
    "df['TIPO_OBRA_MANTENIMIENTO'].sum() "
   ]
  },
  {
   "cell_type": "code",
   "execution_count": 300,
   "metadata": {},
   "outputs": [
    {
     "data": {
      "text/plain": [
       "139"
      ]
     },
     "execution_count": 300,
     "metadata": {},
     "output_type": "execute_result"
    }
   ],
   "source": [
    "df['TIPO_OBRA_REHABILITACION'] = df['OBJETC_DETAIL'].str.contains('REHABILITACION')\n",
    "df['TIPO_OBRA_REHABILITACION'].sum() "
   ]
  },
  {
   "cell_type": "code",
   "execution_count": 315,
   "metadata": {},
   "outputs": [
    {
     "data": {
      "text/plain": [
       "1078"
      ]
     },
     "execution_count": 315,
     "metadata": {},
     "output_type": "execute_result"
    }
   ],
   "source": [
    "df['TIPO_OBRA_MEJORAMIENTO'] = df['OBJETC_DETAIL'].str.contains('MEJORAMIENTO')\n",
    "df['TIPO_OBRA_MEJORAMIENTO'].sum() "
   ]
  },
  {
   "cell_type": "code",
   "execution_count": 316,
   "metadata": {},
   "outputs": [],
   "source": [
    "df['TOTAL_CLASS_TIPO'] = np.int32(df['TIPO_OBRA_CONSTRUCCION'] + df['TIPO_OBRA_MANTENIMIENTO'] + df['TIPO_OBRA_REHABILITACION'] + df['TIPO_OBRA_MEJORAMIENTO'])"
   ]
  },
  {
   "cell_type": "code",
   "execution_count": 317,
   "metadata": {},
   "outputs": [
    {
     "data": {
      "text/plain": [
       "TOTAL_CLASS_TIPO\n",
       "1    1715\n",
       "0     162\n",
       "Name: count, dtype: int64"
      ]
     },
     "execution_count": 317,
     "metadata": {},
     "output_type": "execute_result"
    }
   ],
   "source": [
    "df['TOTAL_CLASS_TIPO'].value_counts()"
   ]
  },
  {
   "cell_type": "code",
   "execution_count": 319,
   "metadata": {},
   "outputs": [
    {
     "data": {
      "text/plain": [
       "162"
      ]
     },
     "execution_count": 319,
     "metadata": {},
     "output_type": "execute_result"
    }
   ],
   "source": [
    "df['TIPO_OBRA_OTROS'] = df['TOTAL_CLASS_TIPO'] == 0\n",
    "df['TIPO_OBRA_OTROS'].sum() "
   ]
  },
  {
   "cell_type": "code",
   "execution_count": 325,
   "metadata": {},
   "outputs": [
    {
     "data": {
      "text/plain": [
       "Index(['TIPO_OBRA_CONSTRUCCION', 'TIPO_OBRA_MANTENIMIENTO',\n",
       "       'TIPO_OBRA_REHABILITACION', 'TIPO_OBRA_MEJORAMIENTO',\n",
       "       'TIPO_OBRA_OTROS'],\n",
       "      dtype='object')"
      ]
     },
     "execution_count": 325,
     "metadata": {},
     "output_type": "execute_result"
    }
   ],
   "source": [
    "df.columns[pd.Series(df.columns).str.contains('TIPO_OBRA')]"
   ]
  },
  {
   "cell_type": "code",
   "execution_count": 336,
   "metadata": {},
   "outputs": [],
   "source": [
    "cols_tipo_obra = ['TIPO_OBRA_CONSTRUCCION', 'TIPO_OBRA_MANTENIMIENTO',\n",
    "       'TIPO_OBRA_REHABILITACION', 'TIPO_OBRA_MEJORAMIENTO',\n",
    "       'TIPO_OBRA_OTROS']\n",
    "df['TYPE_WORK'] = ''\n",
    "for i in cols_tipo_obra:\n",
    "    df.loc[df[i] == True, 'TYPE_WORK'] = i"
   ]
  },
  {
   "cell_type": "code",
   "execution_count": 337,
   "metadata": {},
   "outputs": [
    {
     "data": {
      "text/plain": [
       "TYPE_WORK\n",
       "TIPO_OBRA_CONSTRUCCION      0.231362\n",
       "TIPO_OBRA_MANTENIMIENTO     0.278912\n",
       "TIPO_OBRA_MEJORAMIENTO      0.113173\n",
       "TIPO_OBRA_OTROS             0.259259\n",
       "TIPO_OBRA_REHABILITACION    0.168317\n",
       "Name: COST_DEVIATION, dtype: float64"
      ]
     },
     "execution_count": 337,
     "metadata": {},
     "output_type": "execute_result"
    }
   ],
   "source": [
    "df.groupby(['TYPE_WORK'])['COST_DEVIATION'].mean()"
   ]
  },
  {
   "cell_type": "code",
   "execution_count": 344,
   "metadata": {},
   "outputs": [
    {
     "name": "stderr",
     "output_type": "stream",
     "text": [
      "/var/folders/yv/nqf1_stj1lsb93l9v9j6z2h00000gn/T/ipykernel_15925/3741308483.py:25: FutureWarning: The default of observed=False is deprecated and will be changed to True in a future version of pandas. Pass observed=False to retain current behavior or observed=True to adopt the future default and silence this warning.\n",
      "  .groupby([cat])[y_var]\n"
     ]
    },
    {
     "data": {
      "text/html": [
       "<div>\n",
       "<style scoped>\n",
       "    .dataframe tbody tr th:only-of-type {\n",
       "        vertical-align: middle;\n",
       "    }\n",
       "\n",
       "    .dataframe tbody tr th {\n",
       "        vertical-align: top;\n",
       "    }\n",
       "\n",
       "    .dataframe thead th {\n",
       "        text-align: right;\n",
       "    }\n",
       "</style>\n",
       "<table border=\"1\" class=\"dataframe\">\n",
       "  <thead>\n",
       "    <tr style=\"text-align: right;\">\n",
       "      <th></th>\n",
       "      <th></th>\n",
       "      <th></th>\n",
       "      <th>Total Contratos</th>\n",
       "      <th>Total Contratos con Desviación</th>\n",
       "      <th>Proporción de Desviación en Costo</th>\n",
       "      <th>Desv. Estandar</th>\n",
       "      <th>CI 95% Inferior</th>\n",
       "      <th>CI 95% Superior</th>\n",
       "    </tr>\n",
       "    <tr>\n",
       "      <th>Variable Categorica</th>\n",
       "      <th>p-value (chi2)</th>\n",
       "      <th>Categorias</th>\n",
       "      <th></th>\n",
       "      <th></th>\n",
       "      <th></th>\n",
       "      <th></th>\n",
       "      <th></th>\n",
       "      <th></th>\n",
       "    </tr>\n",
       "  </thead>\n",
       "  <tbody>\n",
       "    <tr>\n",
       "      <th rowspan=\"4\" valign=\"top\">CONTRACT_VALUE_RANGE_MILLONES</th>\n",
       "      <th rowspan=\"4\" valign=\"top\">2.867297e-28</th>\n",
       "      <th>(99.999, 150.0]</th>\n",
       "      <td>753</td>\n",
       "      <td>42</td>\n",
       "      <td>0.055777</td>\n",
       "      <td>0.008363</td>\n",
       "      <td>0.039385</td>\n",
       "      <td>0.072169</td>\n",
       "    </tr>\n",
       "    <tr>\n",
       "      <th>(150.0, 300.0]</th>\n",
       "      <td>441</td>\n",
       "      <td>87</td>\n",
       "      <td>0.197279</td>\n",
       "      <td>0.018950</td>\n",
       "      <td>0.160137</td>\n",
       "      <td>0.234420</td>\n",
       "    </tr>\n",
       "    <tr>\n",
       "      <th>(300.0, 900.0]</th>\n",
       "      <td>325</td>\n",
       "      <td>71</td>\n",
       "      <td>0.218462</td>\n",
       "      <td>0.022920</td>\n",
       "      <td>0.173538</td>\n",
       "      <td>0.263385</td>\n",
       "    </tr>\n",
       "    <tr>\n",
       "      <th>(900.0, 120000.0]</th>\n",
       "      <td>358</td>\n",
       "      <td>112</td>\n",
       "      <td>0.312849</td>\n",
       "      <td>0.024505</td>\n",
       "      <td>0.264820</td>\n",
       "      <td>0.360879</td>\n",
       "    </tr>\n",
       "    <tr>\n",
       "      <th rowspan=\"6\" valign=\"top\">REGION</th>\n",
       "      <th rowspan=\"6\" valign=\"top\">8.426363e-29</th>\n",
       "      <th>OTRA</th>\n",
       "      <td>892</td>\n",
       "      <td>57</td>\n",
       "      <td>0.063901</td>\n",
       "      <td>0.008189</td>\n",
       "      <td>0.047851</td>\n",
       "      <td>0.079952</td>\n",
       "    </tr>\n",
       "    <tr>\n",
       "      <th>ANDINA</th>\n",
       "      <td>691</td>\n",
       "      <td>194</td>\n",
       "      <td>0.280753</td>\n",
       "      <td>0.017095</td>\n",
       "      <td>0.247247</td>\n",
       "      <td>0.314258</td>\n",
       "    </tr>\n",
       "    <tr>\n",
       "      <th>PACIFICA</th>\n",
       "      <td>109</td>\n",
       "      <td>18</td>\n",
       "      <td>0.165138</td>\n",
       "      <td>0.035565</td>\n",
       "      <td>0.095431</td>\n",
       "      <td>0.234844</td>\n",
       "    </tr>\n",
       "    <tr>\n",
       "      <th>ORINOQUIA</th>\n",
       "      <td>107</td>\n",
       "      <td>28</td>\n",
       "      <td>0.261682</td>\n",
       "      <td>0.042493</td>\n",
       "      <td>0.178396</td>\n",
       "      <td>0.344968</td>\n",
       "    </tr>\n",
       "    <tr>\n",
       "      <th>CARIBE</th>\n",
       "      <td>51</td>\n",
       "      <td>8</td>\n",
       "      <td>0.156863</td>\n",
       "      <td>0.050924</td>\n",
       "      <td>0.057051</td>\n",
       "      <td>0.256674</td>\n",
       "    </tr>\n",
       "    <tr>\n",
       "      <th>AMAZONIA</th>\n",
       "      <td>27</td>\n",
       "      <td>7</td>\n",
       "      <td>0.259259</td>\n",
       "      <td>0.084337</td>\n",
       "      <td>0.093959</td>\n",
       "      <td>0.424560</td>\n",
       "    </tr>\n",
       "    <tr>\n",
       "      <th rowspan=\"8\" valign=\"top\">MUNICIPALITY_TYPE</th>\n",
       "      <th rowspan=\"8\" valign=\"top\">1.108124e-25</th>\n",
       "      <th>NACIONAL DESCENTRALIZADO</th>\n",
       "      <td>2</td>\n",
       "      <td>1</td>\n",
       "      <td>0.500000</td>\n",
       "      <td>0.353553</td>\n",
       "      <td>0.000000</td>\n",
       "      <td>1.000000</td>\n",
       "    </tr>\n",
       "    <tr>\n",
       "      <th>OTHER</th>\n",
       "      <td>1042</td>\n",
       "      <td>85</td>\n",
       "      <td>0.081574</td>\n",
       "      <td>0.008479</td>\n",
       "      <td>0.064954</td>\n",
       "      <td>0.098193</td>\n",
       "    </tr>\n",
       "    <tr>\n",
       "      <th>TYPE_1</th>\n",
       "      <td>38</td>\n",
       "      <td>8</td>\n",
       "      <td>0.210526</td>\n",
       "      <td>0.066135</td>\n",
       "      <td>0.080902</td>\n",
       "      <td>0.340151</td>\n",
       "    </tr>\n",
       "    <tr>\n",
       "      <th>TYPE_2</th>\n",
       "      <td>76</td>\n",
       "      <td>24</td>\n",
       "      <td>0.315789</td>\n",
       "      <td>0.053320</td>\n",
       "      <td>0.211283</td>\n",
       "      <td>0.420296</td>\n",
       "    </tr>\n",
       "    <tr>\n",
       "      <th>TYPE_3</th>\n",
       "      <td>28</td>\n",
       "      <td>12</td>\n",
       "      <td>0.428571</td>\n",
       "      <td>0.093522</td>\n",
       "      <td>0.245268</td>\n",
       "      <td>0.611874</td>\n",
       "    </tr>\n",
       "    <tr>\n",
       "      <th>TYPE_4</th>\n",
       "      <td>25</td>\n",
       "      <td>7</td>\n",
       "      <td>0.280000</td>\n",
       "      <td>0.089800</td>\n",
       "      <td>0.103992</td>\n",
       "      <td>0.456008</td>\n",
       "    </tr>\n",
       "    <tr>\n",
       "      <th>TYPE_5</th>\n",
       "      <td>75</td>\n",
       "      <td>26</td>\n",
       "      <td>0.346667</td>\n",
       "      <td>0.054953</td>\n",
       "      <td>0.238958</td>\n",
       "      <td>0.454375</td>\n",
       "    </tr>\n",
       "    <tr>\n",
       "      <th>TYPE_6</th>\n",
       "      <td>591</td>\n",
       "      <td>149</td>\n",
       "      <td>0.252115</td>\n",
       "      <td>0.017862</td>\n",
       "      <td>0.217106</td>\n",
       "      <td>0.287124</td>\n",
       "    </tr>\n",
       "    <tr>\n",
       "      <th rowspan=\"4\" valign=\"top\">PROCESS_TYPE</th>\n",
       "      <th rowspan=\"4\" valign=\"top\">1.253091e-42</th>\n",
       "      <th>CONTRATACION DIRECTA</th>\n",
       "      <td>824</td>\n",
       "      <td>25</td>\n",
       "      <td>0.030340</td>\n",
       "      <td>0.005975</td>\n",
       "      <td>0.018628</td>\n",
       "      <td>0.042051</td>\n",
       "    </tr>\n",
       "    <tr>\n",
       "      <th>LICITACIÓN</th>\n",
       "      <td>508</td>\n",
       "      <td>145</td>\n",
       "      <td>0.285433</td>\n",
       "      <td>0.020037</td>\n",
       "      <td>0.246160</td>\n",
       "      <td>0.324706</td>\n",
       "    </tr>\n",
       "    <tr>\n",
       "      <th>SELECCIÓN ABREVIADA</th>\n",
       "      <td>432</td>\n",
       "      <td>116</td>\n",
       "      <td>0.268519</td>\n",
       "      <td>0.021323</td>\n",
       "      <td>0.226726</td>\n",
       "      <td>0.310311</td>\n",
       "    </tr>\n",
       "    <tr>\n",
       "      <th>RÉGIMEN ESPECIAL</th>\n",
       "      <td>113</td>\n",
       "      <td>26</td>\n",
       "      <td>0.230088</td>\n",
       "      <td>0.039594</td>\n",
       "      <td>0.152484</td>\n",
       "      <td>0.307693</td>\n",
       "    </tr>\n",
       "    <tr>\n",
       "      <th rowspan=\"5\" valign=\"top\">TYPE_WORK</th>\n",
       "      <th rowspan=\"5\" valign=\"top\">1.024699e-11</th>\n",
       "      <th>TIPO_OBRA_MEJORAMIENTO</th>\n",
       "      <td>1078</td>\n",
       "      <td>122</td>\n",
       "      <td>0.113173</td>\n",
       "      <td>0.009649</td>\n",
       "      <td>0.094261</td>\n",
       "      <td>0.132085</td>\n",
       "    </tr>\n",
       "    <tr>\n",
       "      <th>TIPO_OBRA_CONSTRUCCION</th>\n",
       "      <td>389</td>\n",
       "      <td>90</td>\n",
       "      <td>0.231362</td>\n",
       "      <td>0.021381</td>\n",
       "      <td>0.189455</td>\n",
       "      <td>0.273270</td>\n",
       "    </tr>\n",
       "    <tr>\n",
       "      <th>TIPO_OBRA_OTROS</th>\n",
       "      <td>162</td>\n",
       "      <td>42</td>\n",
       "      <td>0.259259</td>\n",
       "      <td>0.034430</td>\n",
       "      <td>0.191776</td>\n",
       "      <td>0.326743</td>\n",
       "    </tr>\n",
       "    <tr>\n",
       "      <th>TIPO_OBRA_MANTENIMIENTO</th>\n",
       "      <td>147</td>\n",
       "      <td>41</td>\n",
       "      <td>0.278912</td>\n",
       "      <td>0.036989</td>\n",
       "      <td>0.206414</td>\n",
       "      <td>0.351409</td>\n",
       "    </tr>\n",
       "    <tr>\n",
       "      <th>TIPO_OBRA_REHABILITACION</th>\n",
       "      <td>101</td>\n",
       "      <td>17</td>\n",
       "      <td>0.168317</td>\n",
       "      <td>0.037229</td>\n",
       "      <td>0.095348</td>\n",
       "      <td>0.241286</td>\n",
       "    </tr>\n",
       "  </tbody>\n",
       "</table>\n",
       "</div>"
      ],
      "text/plain": [
       "                                                                       Total Contratos  \\\n",
       "Variable Categorica           p-value (chi2) Categorias                                  \n",
       "CONTRACT_VALUE_RANGE_MILLONES 2.867297e-28   (99.999, 150.0]                       753   \n",
       "                                             (150.0, 300.0]                        441   \n",
       "                                             (300.0, 900.0]                        325   \n",
       "                                             (900.0, 120000.0]                     358   \n",
       "REGION                        8.426363e-29   OTRA                                  892   \n",
       "                                             ANDINA                                691   \n",
       "                                             PACIFICA                              109   \n",
       "                                             ORINOQUIA                             107   \n",
       "                                             CARIBE                                 51   \n",
       "                                             AMAZONIA                               27   \n",
       "MUNICIPALITY_TYPE             1.108124e-25   NACIONAL DESCENTRALIZADO                2   \n",
       "                                             OTHER                                1042   \n",
       "                                             TYPE_1                                 38   \n",
       "                                             TYPE_2                                 76   \n",
       "                                             TYPE_3                                 28   \n",
       "                                             TYPE_4                                 25   \n",
       "                                             TYPE_5                                 75   \n",
       "                                             TYPE_6                                591   \n",
       "PROCESS_TYPE                  1.253091e-42   CONTRATACION DIRECTA                  824   \n",
       "                                             LICITACIÓN                            508   \n",
       "                                             SELECCIÓN ABREVIADA                   432   \n",
       "                                             RÉGIMEN ESPECIAL                      113   \n",
       "TYPE_WORK                     1.024699e-11   TIPO_OBRA_MEJORAMIENTO               1078   \n",
       "                                             TIPO_OBRA_CONSTRUCCION                389   \n",
       "                                             TIPO_OBRA_OTROS                       162   \n",
       "                                             TIPO_OBRA_MANTENIMIENTO               147   \n",
       "                                             TIPO_OBRA_REHABILITACION              101   \n",
       "\n",
       "                                                                       Total Contratos con Desviación  \\\n",
       "Variable Categorica           p-value (chi2) Categorias                                                 \n",
       "CONTRACT_VALUE_RANGE_MILLONES 2.867297e-28   (99.999, 150.0]                                       42   \n",
       "                                             (150.0, 300.0]                                        87   \n",
       "                                             (300.0, 900.0]                                        71   \n",
       "                                             (900.0, 120000.0]                                    112   \n",
       "REGION                        8.426363e-29   OTRA                                                  57   \n",
       "                                             ANDINA                                               194   \n",
       "                                             PACIFICA                                              18   \n",
       "                                             ORINOQUIA                                             28   \n",
       "                                             CARIBE                                                 8   \n",
       "                                             AMAZONIA                                               7   \n",
       "MUNICIPALITY_TYPE             1.108124e-25   NACIONAL DESCENTRALIZADO                               1   \n",
       "                                             OTHER                                                 85   \n",
       "                                             TYPE_1                                                 8   \n",
       "                                             TYPE_2                                                24   \n",
       "                                             TYPE_3                                                12   \n",
       "                                             TYPE_4                                                 7   \n",
       "                                             TYPE_5                                                26   \n",
       "                                             TYPE_6                                               149   \n",
       "PROCESS_TYPE                  1.253091e-42   CONTRATACION DIRECTA                                  25   \n",
       "                                             LICITACIÓN                                           145   \n",
       "                                             SELECCIÓN ABREVIADA                                  116   \n",
       "                                             RÉGIMEN ESPECIAL                                      26   \n",
       "TYPE_WORK                     1.024699e-11   TIPO_OBRA_MEJORAMIENTO                               122   \n",
       "                                             TIPO_OBRA_CONSTRUCCION                                90   \n",
       "                                             TIPO_OBRA_OTROS                                       42   \n",
       "                                             TIPO_OBRA_MANTENIMIENTO                               41   \n",
       "                                             TIPO_OBRA_REHABILITACION                              17   \n",
       "\n",
       "                                                                       Proporción de Desviación en Costo  \\\n",
       "Variable Categorica           p-value (chi2) Categorias                                                    \n",
       "CONTRACT_VALUE_RANGE_MILLONES 2.867297e-28   (99.999, 150.0]                                    0.055777   \n",
       "                                             (150.0, 300.0]                                     0.197279   \n",
       "                                             (300.0, 900.0]                                     0.218462   \n",
       "                                             (900.0, 120000.0]                                  0.312849   \n",
       "REGION                        8.426363e-29   OTRA                                               0.063901   \n",
       "                                             ANDINA                                             0.280753   \n",
       "                                             PACIFICA                                           0.165138   \n",
       "                                             ORINOQUIA                                          0.261682   \n",
       "                                             CARIBE                                             0.156863   \n",
       "                                             AMAZONIA                                           0.259259   \n",
       "MUNICIPALITY_TYPE             1.108124e-25   NACIONAL DESCENTRALIZADO                           0.500000   \n",
       "                                             OTHER                                              0.081574   \n",
       "                                             TYPE_1                                             0.210526   \n",
       "                                             TYPE_2                                             0.315789   \n",
       "                                             TYPE_3                                             0.428571   \n",
       "                                             TYPE_4                                             0.280000   \n",
       "                                             TYPE_5                                             0.346667   \n",
       "                                             TYPE_6                                             0.252115   \n",
       "PROCESS_TYPE                  1.253091e-42   CONTRATACION DIRECTA                               0.030340   \n",
       "                                             LICITACIÓN                                         0.285433   \n",
       "                                             SELECCIÓN ABREVIADA                                0.268519   \n",
       "                                             RÉGIMEN ESPECIAL                                   0.230088   \n",
       "TYPE_WORK                     1.024699e-11   TIPO_OBRA_MEJORAMIENTO                             0.113173   \n",
       "                                             TIPO_OBRA_CONSTRUCCION                             0.231362   \n",
       "                                             TIPO_OBRA_OTROS                                    0.259259   \n",
       "                                             TIPO_OBRA_MANTENIMIENTO                            0.278912   \n",
       "                                             TIPO_OBRA_REHABILITACION                           0.168317   \n",
       "\n",
       "                                                                       Desv. Estandar  \\\n",
       "Variable Categorica           p-value (chi2) Categorias                                 \n",
       "CONTRACT_VALUE_RANGE_MILLONES 2.867297e-28   (99.999, 150.0]                 0.008363   \n",
       "                                             (150.0, 300.0]                  0.018950   \n",
       "                                             (300.0, 900.0]                  0.022920   \n",
       "                                             (900.0, 120000.0]               0.024505   \n",
       "REGION                        8.426363e-29   OTRA                            0.008189   \n",
       "                                             ANDINA                          0.017095   \n",
       "                                             PACIFICA                        0.035565   \n",
       "                                             ORINOQUIA                       0.042493   \n",
       "                                             CARIBE                          0.050924   \n",
       "                                             AMAZONIA                        0.084337   \n",
       "MUNICIPALITY_TYPE             1.108124e-25   NACIONAL DESCENTRALIZADO        0.353553   \n",
       "                                             OTHER                           0.008479   \n",
       "                                             TYPE_1                          0.066135   \n",
       "                                             TYPE_2                          0.053320   \n",
       "                                             TYPE_3                          0.093522   \n",
       "                                             TYPE_4                          0.089800   \n",
       "                                             TYPE_5                          0.054953   \n",
       "                                             TYPE_6                          0.017862   \n",
       "PROCESS_TYPE                  1.253091e-42   CONTRATACION DIRECTA            0.005975   \n",
       "                                             LICITACIÓN                      0.020037   \n",
       "                                             SELECCIÓN ABREVIADA             0.021323   \n",
       "                                             RÉGIMEN ESPECIAL                0.039594   \n",
       "TYPE_WORK                     1.024699e-11   TIPO_OBRA_MEJORAMIENTO          0.009649   \n",
       "                                             TIPO_OBRA_CONSTRUCCION          0.021381   \n",
       "                                             TIPO_OBRA_OTROS                 0.034430   \n",
       "                                             TIPO_OBRA_MANTENIMIENTO         0.036989   \n",
       "                                             TIPO_OBRA_REHABILITACION        0.037229   \n",
       "\n",
       "                                                                       CI 95% Inferior  \\\n",
       "Variable Categorica           p-value (chi2) Categorias                                  \n",
       "CONTRACT_VALUE_RANGE_MILLONES 2.867297e-28   (99.999, 150.0]                  0.039385   \n",
       "                                             (150.0, 300.0]                   0.160137   \n",
       "                                             (300.0, 900.0]                   0.173538   \n",
       "                                             (900.0, 120000.0]                0.264820   \n",
       "REGION                        8.426363e-29   OTRA                             0.047851   \n",
       "                                             ANDINA                           0.247247   \n",
       "                                             PACIFICA                         0.095431   \n",
       "                                             ORINOQUIA                        0.178396   \n",
       "                                             CARIBE                           0.057051   \n",
       "                                             AMAZONIA                         0.093959   \n",
       "MUNICIPALITY_TYPE             1.108124e-25   NACIONAL DESCENTRALIZADO         0.000000   \n",
       "                                             OTHER                            0.064954   \n",
       "                                             TYPE_1                           0.080902   \n",
       "                                             TYPE_2                           0.211283   \n",
       "                                             TYPE_3                           0.245268   \n",
       "                                             TYPE_4                           0.103992   \n",
       "                                             TYPE_5                           0.238958   \n",
       "                                             TYPE_6                           0.217106   \n",
       "PROCESS_TYPE                  1.253091e-42   CONTRATACION DIRECTA             0.018628   \n",
       "                                             LICITACIÓN                       0.246160   \n",
       "                                             SELECCIÓN ABREVIADA              0.226726   \n",
       "                                             RÉGIMEN ESPECIAL                 0.152484   \n",
       "TYPE_WORK                     1.024699e-11   TIPO_OBRA_MEJORAMIENTO           0.094261   \n",
       "                                             TIPO_OBRA_CONSTRUCCION           0.189455   \n",
       "                                             TIPO_OBRA_OTROS                  0.191776   \n",
       "                                             TIPO_OBRA_MANTENIMIENTO          0.206414   \n",
       "                                             TIPO_OBRA_REHABILITACION         0.095348   \n",
       "\n",
       "                                                                       CI 95% Superior  \n",
       "Variable Categorica           p-value (chi2) Categorias                                 \n",
       "CONTRACT_VALUE_RANGE_MILLONES 2.867297e-28   (99.999, 150.0]                  0.072169  \n",
       "                                             (150.0, 300.0]                   0.234420  \n",
       "                                             (300.0, 900.0]                   0.263385  \n",
       "                                             (900.0, 120000.0]                0.360879  \n",
       "REGION                        8.426363e-29   OTRA                             0.079952  \n",
       "                                             ANDINA                           0.314258  \n",
       "                                             PACIFICA                         0.234844  \n",
       "                                             ORINOQUIA                        0.344968  \n",
       "                                             CARIBE                           0.256674  \n",
       "                                             AMAZONIA                         0.424560  \n",
       "MUNICIPALITY_TYPE             1.108124e-25   NACIONAL DESCENTRALIZADO         1.000000  \n",
       "                                             OTHER                            0.098193  \n",
       "                                             TYPE_1                           0.340151  \n",
       "                                             TYPE_2                           0.420296  \n",
       "                                             TYPE_3                           0.611874  \n",
       "                                             TYPE_4                           0.456008  \n",
       "                                             TYPE_5                           0.454375  \n",
       "                                             TYPE_6                           0.287124  \n",
       "PROCESS_TYPE                  1.253091e-42   CONTRATACION DIRECTA             0.042051  \n",
       "                                             LICITACIÓN                       0.324706  \n",
       "                                             SELECCIÓN ABREVIADA              0.310311  \n",
       "                                             RÉGIMEN ESPECIAL                 0.307693  \n",
       "TYPE_WORK                     1.024699e-11   TIPO_OBRA_MEJORAMIENTO           0.132085  \n",
       "                                             TIPO_OBRA_CONSTRUCCION           0.273270  \n",
       "                                             TIPO_OBRA_OTROS                  0.326743  \n",
       "                                             TIPO_OBRA_MANTENIMIENTO          0.351409  \n",
       "                                             TIPO_OBRA_REHABILITACION         0.241286  "
      ]
     },
     "execution_count": 344,
     "metadata": {},
     "output_type": "execute_result"
    }
   ],
   "source": [
    "# Gráfica de intervalos\n",
    "# Asumiendo que df es tu DataFrame y cat_cols son tus variables categóricas de interés\n",
    "cat_cols = ['CONTRACT_VALUE_RANGE_MILLONES','REGION','MUNICIPALITY_TYPE','PROCESS_TYPE','TYPE_WORK']\n",
    "y_var = 'COST_DEVIATION'\n",
    "\n",
    "resumen = pd.DataFrame()\n",
    "\n",
    "# Función para calcular la desviación estándar para una variable binaria\n",
    "def std_binaria(p, n):\n",
    "    return np.sqrt(p * (1 - p) / n)\n",
    "\n",
    "# Función para calcular el intervalo de confianza del 95% para una proporción\n",
    "def confianza_intervalo(p, n):\n",
    "    z = 1.96  # Valor z para un intervalo de confianza del 95%\n",
    "    margin = z * std_binaria(p, n)\n",
    "    return margin\n",
    "\n",
    "# Inicializar la lista para guardar los resultados de la prueba Chi-cuadrado\n",
    "chi2_resultados = []\n",
    "\n",
    "for cat in cat_cols:\n",
    "    # Agrupar por cat, calcular tamaño y proporción\n",
    "    temp = (\n",
    "        df\n",
    "        .groupby([cat])[y_var]\n",
    "        .agg(['size','sum','mean'])\n",
    "        .rename(columns={'size': 'Total Contratos', 'sum':'Total Contratos con Desviación','mean': 'Proporción de Desviación en Costo'})\n",
    "    )\n",
    "    \n",
    "    # Calcular desviación estándar para la variable binaria y los intervalos de confianza\n",
    "    temp['Desv. Estandar'] = temp.apply(lambda row: std_binaria(row['Proporción de Desviación en Costo'], row['Total Contratos']), axis=1)\n",
    "    temp['CI 95% Inferior'] = temp['Proporción de Desviación en Costo'] - temp.apply(lambda row: confianza_intervalo(row['Proporción de Desviación en Costo'], row['Total Contratos']), axis=1)\n",
    "    temp['CI 95% Superior'] = temp['Proporción de Desviación en Costo'] + temp.apply(lambda row: confianza_intervalo(row['Proporción de Desviación en Costo'], row['Total Contratos']), axis=1)\n",
    "    \n",
    "    # Ajustar valores IC Inferior < 0 e IC Superior > 1\n",
    "    temp['CI 95% Inferior'] = temp['CI 95% Inferior'].apply(lambda x: np.max([0,x]))\n",
    "    temp['CI 95% Superior'] = temp['CI 95% Superior'].apply(lambda x: np.min([1,x]))\n",
    "\n",
    "    \n",
    "    # Ordenar solo variables categóricas nominales\n",
    "    if cat in ['REGION','PROCESS_TYPE','TYPE_WORK']:\n",
    "       temp =  temp.sort_values(by='Total Contratos', ascending=False)\n",
    "    \n",
    "    # Preparar los datos para la prueba Chi-cuadrado\n",
    "    crosstab = pd.crosstab(df[cat], df[y_var])\n",
    "    \n",
    "    # Realizar la prueba Chi-cuadrado y obtener el p-valor\n",
    "    chi2, p, dof, ex = stats.chi2_contingency(crosstab)\n",
    "    #p = np.round(p,6)\n",
    "    chi2_resultados.append((cat, chi2, p))\n",
    "\n",
    "    \n",
    "    # Reiniciar el índice para convertir el índice en una columna y facilitar la concatenación\n",
    "    #temp.reset_index(inplace=True)\n",
    "    temp['Variable Categorica'] = cat\n",
    "    #temp['Chi2'] = chi2\n",
    "    temp['p-value (chi2)'] = p\n",
    "    \n",
    "    # Concatenar el DataFrame temporal con el resumen\n",
    "    resumen = pd.concat([resumen, temp])\n",
    "\n",
    "# Ajustar el DataFrame resumen\n",
    "resumen['Categorias'] = resumen.index\n",
    "resumen = resumen.set_index(['Variable Categorica', 'p-value (chi2)','Categorias'])\n",
    "resumen"
   ]
  }
 ],
 "metadata": {
  "kernelspec": {
   "display_name": "Python 3 (ipykernel)",
   "language": "python",
   "name": "python3"
  },
  "language_info": {
   "codemirror_mode": {
    "name": "ipython",
    "version": 3
   },
   "file_extension": ".py",
   "mimetype": "text/x-python",
   "name": "python",
   "nbconvert_exporter": "python",
   "pygments_lexer": "ipython3",
   "version": "3.11.7"
  }
 },
 "nbformat": 4,
 "nbformat_minor": 4
}
