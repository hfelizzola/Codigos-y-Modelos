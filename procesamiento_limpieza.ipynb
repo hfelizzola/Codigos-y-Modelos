{
 "cells": [
  {
   "cell_type": "markdown",
   "metadata": {},
   "source": [
    "# Procesamiento y Limpieza SECOP I\n",
    "\n",
    "En este notebook de código se desarrollan los códigos para procesar, limpiar y calcular indicadores de riesgo y banderas rojas en contratación pública a partir de los datos abiertos del SECOP I."
   ]
  },
  {
   "cell_type": "code",
   "execution_count": 64,
   "metadata": {},
   "outputs": [],
   "source": [
    "# Cargar librerias para limpieza y procesamiento de datos\n",
    "import numpy as np\n",
    "import pandas as pd\n",
    "import matplotlib.pyplot as plt\n",
    "import seaborn as sns\n",
    "import re\n",
    "import os\n",
    "pd.set_option('display.max_columns', None)"
   ]
  },
  {
   "cell_type": "code",
   "execution_count": 65,
   "metadata": {},
   "outputs": [
    {
     "data": {
      "text/html": [
       "<div>\n",
       "<style scoped>\n",
       "    .dataframe tbody tr th:only-of-type {\n",
       "        vertical-align: middle;\n",
       "    }\n",
       "\n",
       "    .dataframe tbody tr th {\n",
       "        vertical-align: top;\n",
       "    }\n",
       "\n",
       "    .dataframe thead th {\n",
       "        text-align: right;\n",
       "    }\n",
       "</style>\n",
       "<table border=\"1\" class=\"dataframe\">\n",
       "  <thead>\n",
       "    <tr style=\"text-align: right;\">\n",
       "      <th></th>\n",
       "      <th>id_contrato</th>\n",
       "      <th>anno_cargue</th>\n",
       "      <th>anno_firma</th>\n",
       "      <th>nivel_entidad</th>\n",
       "      <th>orden_entidad</th>\n",
       "      <th>nombre_entidad</th>\n",
       "      <th>nit_entidad</th>\n",
       "      <th>tipo_proceso</th>\n",
       "      <th>estado_contrato</th>\n",
       "      <th>causa_otras_formas_contr_directa</th>\n",
       "      <th>regimen_contratacion</th>\n",
       "      <th>objeto_contratar</th>\n",
       "      <th>detalle_objeto_contratar</th>\n",
       "      <th>tipo_contrato</th>\n",
       "      <th>fecha_cargue_secop</th>\n",
       "      <th>id_proceso</th>\n",
       "      <th>numero_proceso</th>\n",
       "      <th>numero_contrato</th>\n",
       "      <th>cuantia_proceso</th>\n",
       "      <th>nombre_grupo</th>\n",
       "      <th>nombre_familia</th>\n",
       "      <th>nombre_clase</th>\n",
       "      <th>tipo_id_contratista</th>\n",
       "      <th>id_contratista</th>\n",
       "      <th>razon_social_contratista</th>\n",
       "      <th>dpto_mcpo_contratista</th>\n",
       "      <th>tipo_doc_representate_legal</th>\n",
       "      <th>id_representante_legal</th>\n",
       "      <th>nombre_representante_legal</th>\n",
       "      <th>fecha_firma_contrato</th>\n",
       "      <th>fecha_inicio_ejec_contrato</th>\n",
       "      <th>plazo_ejec_contrato</th>\n",
       "      <th>rango_ejec_contrato</th>\n",
       "      <th>tiempo_adiciones_dias</th>\n",
       "      <th>tiempo_adiciones_meses</th>\n",
       "      <th>fecha_fin_ejec_contrato</th>\n",
       "      <th>cuantia_contrato</th>\n",
       "      <th>valor_adiciones</th>\n",
       "      <th>ruta_web</th>\n",
       "      <th>moneda</th>\n",
       "      <th>municipio_entidad</th>\n",
       "      <th>departamento_entidad</th>\n",
       "      <th>dep_codigo_divipola</th>\n",
       "      <th>municipio_codigo_divipola</th>\n",
       "    </tr>\n",
       "  </thead>\n",
       "  <tbody>\n",
       "    <tr>\n",
       "      <th>0</th>\n",
       "      <td>15-4-4284454-3950808</td>\n",
       "      <td>2015</td>\n",
       "      <td>2015.0</td>\n",
       "      <td>TERRITORIAL</td>\n",
       "      <td>TERRITORIAL DEPARTAMENTAL CENTRALIZADO</td>\n",
       "      <td>VALLE DEL CAUCA - INSTITUCIÓN EDUCATIVA TÉCNIC...</td>\n",
       "      <td>815004298</td>\n",
       "      <td>Régimen Especial</td>\n",
       "      <td>Liquidado</td>\n",
       "      <td>Ninguna</td>\n",
       "      <td>Régimen Especial</td>\n",
       "      <td>Equipos, Suministros y Accesorios para Deporte...</td>\n",
       "      <td>¿suministro de material deportivo para las pra...</td>\n",
       "      <td>Suministro</td>\n",
       "      <td>10/06/2015</td>\n",
       "      <td>15-4-4284454</td>\n",
       "      <td>1151.20.3. 008</td>\n",
       "      <td>1151.20.3. 008</td>\n",
       "      <td>6000000</td>\n",
       "      <td>[E] Productos de Uso Final</td>\n",
       "      <td>Equipo  y accesorios para deportes</td>\n",
       "      <td>Accesorios para deporte</td>\n",
       "      <td>Nit de Persona Jurídica</td>\n",
       "      <td>891303520-2</td>\n",
       "      <td>ALMACEN OLIMPICO LTDA. (JOSE ADULCARIN LANCHER...</td>\n",
       "      <td>Valle del Cauca</td>\n",
       "      <td>Nit de Persona Jurídica</td>\n",
       "      <td>891303520-2</td>\n",
       "      <td>JOSE ADULCARIN LANCHEROS</td>\n",
       "      <td>07/17/2015</td>\n",
       "      <td>07/17/2015</td>\n",
       "      <td>10</td>\n",
       "      <td>D</td>\n",
       "      <td>0</td>\n",
       "      <td>0</td>\n",
       "      <td>07/27/2015</td>\n",
       "      <td>6000000</td>\n",
       "      <td>0</td>\n",
       "      <td>https://www.contratos.gov.co/consultas/detalle...</td>\n",
       "      <td>Pesos (COP)</td>\n",
       "      <td>PALMIRA</td>\n",
       "      <td>VALLE DEL CAUCA</td>\n",
       "      <td>76000</td>\n",
       "      <td>76520</td>\n",
       "    </tr>\n",
       "    <tr>\n",
       "      <th>1</th>\n",
       "      <td>19-4-8985563-8173742</td>\n",
       "      <td>2019</td>\n",
       "      <td>2018.0</td>\n",
       "      <td>TERRITORIAL</td>\n",
       "      <td>TERRITORIAL DISTRITAL MUNICIPAL NIVEL 2</td>\n",
       "      <td>BOYACÁ - E.S.E. CENTRO DE SALUD SAN RAFAEL</td>\n",
       "      <td>820003782</td>\n",
       "      <td>Régimen Especial</td>\n",
       "      <td>Celebrado</td>\n",
       "      <td>Ninguna</td>\n",
       "      <td>Régimen Especial</td>\n",
       "      <td>Difusión de Tecnologías de Información y Telec...</td>\n",
       "      <td>suministro de equipo de computo portatil para ...</td>\n",
       "      <td>Suministro</td>\n",
       "      <td>02/06/2019</td>\n",
       "      <td>19-4-8985563</td>\n",
       "      <td>057</td>\n",
       "      <td>057</td>\n",
       "      <td>3600000</td>\n",
       "      <td>[E] Productos de Uso Final</td>\n",
       "      <td>Equipo informático y accesorios</td>\n",
       "      <td>Computadores</td>\n",
       "      <td>Nit de Persona Natural</td>\n",
       "      <td>800234910</td>\n",
       "      <td>ASOCIACION BECERRA CASTRO Y COMPAÑIA LIMITADA</td>\n",
       "      <td>Boyacá</td>\n",
       "      <td>Cédula de Ciudadanía</td>\n",
       "      <td>7220435</td>\n",
       "      <td>ALFONSO BECERRA SANTAMARIA</td>\n",
       "      <td>11/01/2018</td>\n",
       "      <td>11/01/2018</td>\n",
       "      <td>15</td>\n",
       "      <td>D</td>\n",
       "      <td>0</td>\n",
       "      <td>0</td>\n",
       "      <td>11/16/2018</td>\n",
       "      <td>3558100</td>\n",
       "      <td>0</td>\n",
       "      <td>https://www.contratos.gov.co/consultas/detalle...</td>\n",
       "      <td>Pesos (COP)</td>\n",
       "      <td>UMBITA</td>\n",
       "      <td>BOYACÁ</td>\n",
       "      <td>15000</td>\n",
       "      <td>15842</td>\n",
       "    </tr>\n",
       "    <tr>\n",
       "      <th>2</th>\n",
       "      <td>19-13-9465604-8636766</td>\n",
       "      <td>2019</td>\n",
       "      <td>2019.0</td>\n",
       "      <td>TERRITORIAL</td>\n",
       "      <td>TERRITORIAL DISTRITAL MUNICIPAL NIVEL 5</td>\n",
       "      <td>ANTIOQUIA - ALCALDÍA MUNICIPIO DE NECHÍ</td>\n",
       "      <td>800100134-1</td>\n",
       "      <td>Contratación Mínima Cuantía</td>\n",
       "      <td>Celebrado</td>\n",
       "      <td>Ninguna</td>\n",
       "      <td>Estatuto General de Contratación</td>\n",
       "      <td>Ropa, Maletas y Productos de Aseo Personal</td>\n",
       "      <td>suministro de implementos deportivos para el b...</td>\n",
       "      <td>Suministro</td>\n",
       "      <td>05/28/2019</td>\n",
       "      <td>19-13-9465604</td>\n",
       "      <td>SEMIC-031-2019</td>\n",
       "      <td>CSMC-006-2019</td>\n",
       "      <td>23179800</td>\n",
       "      <td>[E] Productos de Uso Final</td>\n",
       "      <td>Ropa</td>\n",
       "      <td>Uniformes</td>\n",
       "      <td>Nit de Persona Natural</td>\n",
       "      <td>78110240</td>\n",
       "      <td>HERNAN DE JESUS OVIEDO RODELO/ALMACEN BUEN SUE...</td>\n",
       "      <td>Antioquia</td>\n",
       "      <td>Cédula de Ciudadanía</td>\n",
       "      <td>78110240</td>\n",
       "      <td>HERNAN DE JESUS OVIEDO RODELO</td>\n",
       "      <td>06/04/2019</td>\n",
       "      <td>06/05/2019</td>\n",
       "      <td>15</td>\n",
       "      <td>D</td>\n",
       "      <td>0</td>\n",
       "      <td>0</td>\n",
       "      <td>06/20/2019</td>\n",
       "      <td>23179800</td>\n",
       "      <td>0</td>\n",
       "      <td>https://www.contratos.gov.co/consultas/detalle...</td>\n",
       "      <td>Pesos (COP)</td>\n",
       "      <td>NECHÍ</td>\n",
       "      <td>ANTIOQUIA</td>\n",
       "      <td>5000</td>\n",
       "      <td>5495</td>\n",
       "    </tr>\n",
       "    <tr>\n",
       "      <th>3</th>\n",
       "      <td>19-13-9375191-8561989</td>\n",
       "      <td>2019</td>\n",
       "      <td>2019.0</td>\n",
       "      <td>TERRITORIAL</td>\n",
       "      <td>TERRITORIAL DISTRITAL MUNICIPAL NIVEL 6</td>\n",
       "      <td>BOYACÁ - ALCALDÍA MUNICIPIO DE RAQUIRA</td>\n",
       "      <td>891801280-6</td>\n",
       "      <td>Contratación Mínima Cuantía</td>\n",
       "      <td>Celebrado</td>\n",
       "      <td>Ninguna</td>\n",
       "      <td>Estatuto General de Contratación</td>\n",
       "      <td>Instrumentos Musicales, Juegos, Artes, Artesan...</td>\n",
       "      <td>suministro de refrigerios y materiales para la...</td>\n",
       "      <td>Suministro</td>\n",
       "      <td>05/07/2019</td>\n",
       "      <td>19-13-9375191</td>\n",
       "      <td>020 de 2019_Mínima Cuantía</td>\n",
       "      <td>017 de 2019_Suministro</td>\n",
       "      <td>14000000</td>\n",
       "      <td>[E] Productos de Uso Final</td>\n",
       "      <td>Equipo, accesorios y suministros de arte y man...</td>\n",
       "      <td>Utensilios de dibujo, suministros y accesorios</td>\n",
       "      <td>Nit de Persona Jurídica</td>\n",
       "      <td>900695457</td>\n",
       "      <td>LA UNIVERSAL DE INVERSIONES BOYACÁ S.A.S.</td>\n",
       "      <td>Boyacá</td>\n",
       "      <td>Cédula de Ciudadanía</td>\n",
       "      <td>1053343675</td>\n",
       "      <td>KAREN YURLEY VILLAMIL PINILLA</td>\n",
       "      <td>05/13/2019</td>\n",
       "      <td>05/13/2019</td>\n",
       "      <td>4</td>\n",
       "      <td>D</td>\n",
       "      <td>0</td>\n",
       "      <td>0</td>\n",
       "      <td>05/17/2019</td>\n",
       "      <td>13999800</td>\n",
       "      <td>0</td>\n",
       "      <td>https://www.contratos.gov.co/consultas/detalle...</td>\n",
       "      <td>Pesos (COP)</td>\n",
       "      <td>RÁQUIRA</td>\n",
       "      <td>BOYACÁ</td>\n",
       "      <td>15000</td>\n",
       "      <td>15600</td>\n",
       "    </tr>\n",
       "    <tr>\n",
       "      <th>4</th>\n",
       "      <td>14-13-3004474-2831748</td>\n",
       "      <td>2014</td>\n",
       "      <td>2014.0</td>\n",
       "      <td>TERRITORIAL</td>\n",
       "      <td>TERRITORIAL DISTRITAL MUNICIPAL NIVEL 5</td>\n",
       "      <td>CUNDINAMARCA - ALCALDÍA MUNICIPIO DE LA MESA</td>\n",
       "      <td>890802795-3</td>\n",
       "      <td>Contratación Mínima Cuantía</td>\n",
       "      <td>Liquidado</td>\n",
       "      <td>Ninguna</td>\n",
       "      <td>Estatuto General de Contratación</td>\n",
       "      <td>Servicios de Viajes, Alimentación, Alojamiento...</td>\n",
       "      <td>suministro de alimentacion  refrigerios  trans...</td>\n",
       "      <td>Suministro</td>\n",
       "      <td>10/06/2014</td>\n",
       "      <td>14-13-3004474</td>\n",
       "      <td>IMC-035-2014</td>\n",
       "      <td>IMC-035-2014</td>\n",
       "      <td>5000000</td>\n",
       "      <td>[F] Servicios</td>\n",
       "      <td>No Definido</td>\n",
       "      <td>No Definido</td>\n",
       "      <td>Cédula de Ciudadanía</td>\n",
       "      <td>20687432</td>\n",
       "      <td>CARMEN ROSA PERILLA SOLANO</td>\n",
       "      <td>Cundinamarca</td>\n",
       "      <td>Cédula de Ciudadanía</td>\n",
       "      <td>20687432</td>\n",
       "      <td>CARMEN ROSA PINILLA  SOLANO</td>\n",
       "      <td>10/09/2014</td>\n",
       "      <td>10/10/2014</td>\n",
       "      <td>10</td>\n",
       "      <td>D</td>\n",
       "      <td>0</td>\n",
       "      <td>0</td>\n",
       "      <td>10/20/2014</td>\n",
       "      <td>5000000</td>\n",
       "      <td>0</td>\n",
       "      <td>https://www.contratos.gov.co/consultas/detalle...</td>\n",
       "      <td>Pesos (COP)</td>\n",
       "      <td>LA MESA</td>\n",
       "      <td>CUNDINAMARCA</td>\n",
       "      <td>25000</td>\n",
       "      <td>25386</td>\n",
       "    </tr>\n",
       "  </tbody>\n",
       "</table>\n",
       "</div>"
      ],
      "text/plain": [
       "             id_contrato  anno_cargue  anno_firma nivel_entidad  \\\n",
       "0   15-4-4284454-3950808         2015      2015.0   TERRITORIAL   \n",
       "1   19-4-8985563-8173742         2019      2018.0   TERRITORIAL   \n",
       "2  19-13-9465604-8636766         2019      2019.0   TERRITORIAL   \n",
       "3  19-13-9375191-8561989         2019      2019.0   TERRITORIAL   \n",
       "4  14-13-3004474-2831748         2014      2014.0   TERRITORIAL   \n",
       "\n",
       "                             orden_entidad  \\\n",
       "0   TERRITORIAL DEPARTAMENTAL CENTRALIZADO   \n",
       "1  TERRITORIAL DISTRITAL MUNICIPAL NIVEL 2   \n",
       "2  TERRITORIAL DISTRITAL MUNICIPAL NIVEL 5   \n",
       "3  TERRITORIAL DISTRITAL MUNICIPAL NIVEL 6   \n",
       "4  TERRITORIAL DISTRITAL MUNICIPAL NIVEL 5   \n",
       "\n",
       "                                      nombre_entidad  nit_entidad  \\\n",
       "0  VALLE DEL CAUCA - INSTITUCIÓN EDUCATIVA TÉCNIC...    815004298   \n",
       "1         BOYACÁ - E.S.E. CENTRO DE SALUD SAN RAFAEL    820003782   \n",
       "2            ANTIOQUIA - ALCALDÍA MUNICIPIO DE NECHÍ  800100134-1   \n",
       "3             BOYACÁ - ALCALDÍA MUNICIPIO DE RAQUIRA  891801280-6   \n",
       "4       CUNDINAMARCA - ALCALDÍA MUNICIPIO DE LA MESA  890802795-3   \n",
       "\n",
       "                  tipo_proceso estado_contrato  \\\n",
       "0             Régimen Especial       Liquidado   \n",
       "1             Régimen Especial       Celebrado   \n",
       "2  Contratación Mínima Cuantía       Celebrado   \n",
       "3  Contratación Mínima Cuantía       Celebrado   \n",
       "4  Contratación Mínima Cuantía       Liquidado   \n",
       "\n",
       "  causa_otras_formas_contr_directa              regimen_contratacion  \\\n",
       "0                          Ninguna                  Régimen Especial   \n",
       "1                          Ninguna                  Régimen Especial   \n",
       "2                          Ninguna  Estatuto General de Contratación   \n",
       "3                          Ninguna  Estatuto General de Contratación   \n",
       "4                          Ninguna  Estatuto General de Contratación   \n",
       "\n",
       "                                    objeto_contratar  \\\n",
       "0  Equipos, Suministros y Accesorios para Deporte...   \n",
       "1  Difusión de Tecnologías de Información y Telec...   \n",
       "2         Ropa, Maletas y Productos de Aseo Personal   \n",
       "3  Instrumentos Musicales, Juegos, Artes, Artesan...   \n",
       "4  Servicios de Viajes, Alimentación, Alojamiento...   \n",
       "\n",
       "                            detalle_objeto_contratar tipo_contrato  \\\n",
       "0  ¿suministro de material deportivo para las pra...    Suministro   \n",
       "1  suministro de equipo de computo portatil para ...    Suministro   \n",
       "2  suministro de implementos deportivos para el b...    Suministro   \n",
       "3  suministro de refrigerios y materiales para la...    Suministro   \n",
       "4  suministro de alimentacion  refrigerios  trans...    Suministro   \n",
       "\n",
       "  fecha_cargue_secop     id_proceso              numero_proceso  \\\n",
       "0         10/06/2015   15-4-4284454              1151.20.3. 008   \n",
       "1         02/06/2019   19-4-8985563                         057   \n",
       "2         05/28/2019  19-13-9465604              SEMIC-031-2019   \n",
       "3         05/07/2019  19-13-9375191  020 de 2019_Mínima Cuantía   \n",
       "4         10/06/2014  14-13-3004474                IMC-035-2014   \n",
       "\n",
       "          numero_contrato  cuantia_proceso                nombre_grupo  \\\n",
       "0          1151.20.3. 008          6000000  [E] Productos de Uso Final   \n",
       "1                     057          3600000  [E] Productos de Uso Final   \n",
       "2           CSMC-006-2019         23179800  [E] Productos de Uso Final   \n",
       "3  017 de 2019_Suministro         14000000  [E] Productos de Uso Final   \n",
       "4            IMC-035-2014          5000000               [F] Servicios   \n",
       "\n",
       "                                      nombre_familia  \\\n",
       "0                 Equipo  y accesorios para deportes   \n",
       "1                    Equipo informático y accesorios   \n",
       "2                                               Ropa   \n",
       "3  Equipo, accesorios y suministros de arte y man...   \n",
       "4                                        No Definido   \n",
       "\n",
       "                                     nombre_clase      tipo_id_contratista  \\\n",
       "0                         Accesorios para deporte  Nit de Persona Jurídica   \n",
       "1                                    Computadores   Nit de Persona Natural   \n",
       "2                                       Uniformes   Nit de Persona Natural   \n",
       "3  Utensilios de dibujo, suministros y accesorios  Nit de Persona Jurídica   \n",
       "4                                     No Definido     Cédula de Ciudadanía   \n",
       "\n",
       "  id_contratista                           razon_social_contratista  \\\n",
       "0    891303520-2  ALMACEN OLIMPICO LTDA. (JOSE ADULCARIN LANCHER...   \n",
       "1      800234910      ASOCIACION BECERRA CASTRO Y COMPAÑIA LIMITADA   \n",
       "2       78110240  HERNAN DE JESUS OVIEDO RODELO/ALMACEN BUEN SUE...   \n",
       "3      900695457          LA UNIVERSAL DE INVERSIONES BOYACÁ S.A.S.   \n",
       "4       20687432                         CARMEN ROSA PERILLA SOLANO   \n",
       "\n",
       "  dpto_mcpo_contratista tipo_doc_representate_legal id_representante_legal  \\\n",
       "0       Valle del Cauca     Nit de Persona Jurídica            891303520-2   \n",
       "1                Boyacá        Cédula de Ciudadanía                7220435   \n",
       "2             Antioquia        Cédula de Ciudadanía               78110240   \n",
       "3                Boyacá        Cédula de Ciudadanía             1053343675   \n",
       "4          Cundinamarca        Cédula de Ciudadanía               20687432   \n",
       "\n",
       "      nombre_representante_legal fecha_firma_contrato  \\\n",
       "0       JOSE ADULCARIN LANCHEROS           07/17/2015   \n",
       "1     ALFONSO BECERRA SANTAMARIA           11/01/2018   \n",
       "2  HERNAN DE JESUS OVIEDO RODELO           06/04/2019   \n",
       "3  KAREN YURLEY VILLAMIL PINILLA           05/13/2019   \n",
       "4    CARMEN ROSA PINILLA  SOLANO           10/09/2014   \n",
       "\n",
       "  fecha_inicio_ejec_contrato  plazo_ejec_contrato rango_ejec_contrato  \\\n",
       "0                 07/17/2015                   10                   D   \n",
       "1                 11/01/2018                   15                   D   \n",
       "2                 06/05/2019                   15                   D   \n",
       "3                 05/13/2019                    4                   D   \n",
       "4                 10/10/2014                   10                   D   \n",
       "\n",
       "   tiempo_adiciones_dias  tiempo_adiciones_meses fecha_fin_ejec_contrato  \\\n",
       "0                      0                       0              07/27/2015   \n",
       "1                      0                       0              11/16/2018   \n",
       "2                      0                       0              06/20/2019   \n",
       "3                      0                       0              05/17/2019   \n",
       "4                      0                       0              10/20/2014   \n",
       "\n",
       "   cuantia_contrato  valor_adiciones  \\\n",
       "0           6000000                0   \n",
       "1           3558100                0   \n",
       "2          23179800                0   \n",
       "3          13999800                0   \n",
       "4           5000000                0   \n",
       "\n",
       "                                            ruta_web       moneda  \\\n",
       "0  https://www.contratos.gov.co/consultas/detalle...  Pesos (COP)   \n",
       "1  https://www.contratos.gov.co/consultas/detalle...  Pesos (COP)   \n",
       "2  https://www.contratos.gov.co/consultas/detalle...  Pesos (COP)   \n",
       "3  https://www.contratos.gov.co/consultas/detalle...  Pesos (COP)   \n",
       "4  https://www.contratos.gov.co/consultas/detalle...  Pesos (COP)   \n",
       "\n",
       "  municipio_entidad departamento_entidad  dep_codigo_divipola  \\\n",
       "0           PALMIRA      VALLE DEL CAUCA                76000   \n",
       "1            UMBITA               BOYACÁ                15000   \n",
       "2             NECHÍ            ANTIOQUIA                 5000   \n",
       "3           RÁQUIRA               BOYACÁ                15000   \n",
       "4           LA MESA         CUNDINAMARCA                25000   \n",
       "\n",
       "   municipio_codigo_divipola  \n",
       "0                      76520  \n",
       "1                      15842  \n",
       "2                       5495  \n",
       "3                      15600  \n",
       "4                      25386  "
      ]
     },
     "execution_count": 65,
     "metadata": {},
     "output_type": "execute_result"
    }
   ],
   "source": [
    "# Cargar datos de compras y suministros\n",
    "suministro = pd.read_csv(\"Datos/div_secop_i_Suministro.gz\")\n",
    "compraventa = pd.read_csv(\"Datos/div_secop_i_Compraventa.gz\")\n",
    "compras = pd.concat([suministro,compraventa], axis=0)\n",
    "del [compraventa, suministro]\n",
    "compras.head()"
   ]
  },
  {
   "cell_type": "code",
   "execution_count": 66,
   "metadata": {},
   "outputs": [
    {
     "name": "stdout",
     "output_type": "stream",
     "text": [
      "<class 'pandas.core.frame.DataFrame'>\n",
      "Int64Index: 1265987 entries, 0 to 351052\n",
      "Data columns (total 44 columns):\n",
      " #   Column                            Non-Null Count    Dtype  \n",
      "---  ------                            --------------    -----  \n",
      " 0   id_contrato                       1265987 non-null  object \n",
      " 1   anno_cargue                       1265987 non-null  int64  \n",
      " 2   anno_firma                        1265987 non-null  float64\n",
      " 3   nivel_entidad                     1265987 non-null  object \n",
      " 4   orden_entidad                     1265987 non-null  object \n",
      " 5   nombre_entidad                    1265987 non-null  object \n",
      " 6   nit_entidad                       1265987 non-null  object \n",
      " 7   tipo_proceso                      1265987 non-null  object \n",
      " 8   estado_contrato                   1265987 non-null  object \n",
      " 9   causa_otras_formas_contr_directa  1265987 non-null  object \n",
      " 10  regimen_contratacion              1265987 non-null  object \n",
      " 11  objeto_contratar                  1265987 non-null  object \n",
      " 12  detalle_objeto_contratar          1265916 non-null  object \n",
      " 13  tipo_contrato                     1265987 non-null  object \n",
      " 14  fecha_cargue_secop                1265987 non-null  object \n",
      " 15  id_proceso                        1265987 non-null  object \n",
      " 16  numero_proceso                    1265918 non-null  object \n",
      " 17  numero_contrato                   1265792 non-null  object \n",
      " 18  cuantia_proceso                   1265987 non-null  int64  \n",
      " 19  nombre_grupo                      1265987 non-null  object \n",
      " 20  nombre_familia                    1265987 non-null  object \n",
      " 21  nombre_clase                      1265987 non-null  object \n",
      " 22  tipo_id_contratista               1265987 non-null  object \n",
      " 23  id_contratista                    1265977 non-null  object \n",
      " 24  razon_social_contratista          1265974 non-null  object \n",
      " 25  dpto_mcpo_contratista             1265987 non-null  object \n",
      " 26  tipo_doc_representate_legal       1265987 non-null  object \n",
      " 27  id_representante_legal            1265418 non-null  object \n",
      " 28  nombre_representante_legal        1264802 non-null  object \n",
      " 29  fecha_firma_contrato              1265987 non-null  object \n",
      " 30  fecha_inicio_ejec_contrato        1265987 non-null  object \n",
      " 31  plazo_ejec_contrato               1265987 non-null  int64  \n",
      " 32  rango_ejec_contrato               1265987 non-null  object \n",
      " 33  tiempo_adiciones_dias             1265987 non-null  int64  \n",
      " 34  tiempo_adiciones_meses            1265987 non-null  int64  \n",
      " 35  fecha_fin_ejec_contrato           1264015 non-null  object \n",
      " 36  cuantia_contrato                  1265987 non-null  int64  \n",
      " 37  valor_adiciones                   1265987 non-null  int64  \n",
      " 38  ruta_web                          1265987 non-null  object \n",
      " 39  moneda                            1265987 non-null  object \n",
      " 40  municipio_entidad                 1265987 non-null  object \n",
      " 41  departamento_entidad              1265987 non-null  object \n",
      " 42  dep_codigo_divipola               1265987 non-null  int64  \n",
      " 43  municipio_codigo_divipola         1265987 non-null  int64  \n",
      "dtypes: float64(1), int64(9), object(34)\n",
      "memory usage: 434.6+ MB\n"
     ]
    }
   ],
   "source": [
    "# Extraer información general de la base de datos de contratos de compra\n",
    "compras.info()"
   ]
  },
  {
   "cell_type": "markdown",
   "metadata": {},
   "source": [
    "# Limpieza, Procesamiento y Filtrado de datos\n",
    "\n",
    "A continuación se describen algunas tareas pendientes de limpieza de datos.\n",
    "\n",
    "* [ ] Corregir los valores extremos y contratos de valor cero. Utilizar los algoritmos y datos de la consultoría DAPRE.\n",
    "* [ ] Limpiear el nit de los contratistas y las entidades.\n",
    "* [X] Estandarizar algunas variables como tipo de proceso, nivel y orden de la entidad, entre otros.\n",
    "* [X] Unificar la duración del contrato.\n",
    "* [X] Revisar y ajustar contratos con valor en dolares.\n",
    "* [ ] Agregar variables de minima cuantia y menor cuantia para cada entidad"
   ]
  },
  {
   "cell_type": "markdown",
   "metadata": {},
   "source": [
    "## Filtro de Contratos por cuantía\n",
    "\n",
    "Se aplica el siguiente filtro:\n",
    "\n",
    "- Contratos de mas de 100 millones.\n",
    "- Entidades con mínimo 5 contratos."
   ]
  },
  {
   "cell_type": "code",
   "execution_count": 67,
   "metadata": {},
   "outputs": [
    {
     "data": {
      "image/png": "[encoded data removed]",
      "text/plain": [
       "<Figure size 720x360 with 1 Axes>"
      ]
     },
     "metadata": {
      "needs_background": "light"
     },
     "output_type": "display_data"
    }
   ],
   "source": [
    "# Histogram for cuantia_contrato\n",
    "plt.figure(figsize=(10,5))\n",
    "plt.hist(compras.loc[(compras['cuantia_contrato'] > 1e8) & (compras['cuantia_contrato'] < 1e10), ['cuantia_contrato']], bins=100)\n",
    "plt.title('Distribución de la cuantia contrato')\n",
    "plt.xlabel('cuantia_contrato')\n",
    "plt.ylabel('Frecuencia')\n",
    "plt.show()"
   ]
  },
  {
   "cell_type": "code",
   "execution_count": 68,
   "metadata": {},
   "outputs": [
    {
     "data": {
      "text/plain": [
       "1185404"
      ]
     },
     "execution_count": 68,
     "metadata": {},
     "output_type": "execute_result"
    }
   ],
   "source": [
    "# Número de contratos por menos de 100 millones\n",
    "sum(compras['cuantia_contrato'] < 1e8)"
   ]
  },
  {
   "cell_type": "code",
   "execution_count": 69,
   "metadata": {},
   "outputs": [
    {
     "data": {
      "text/plain": [
       "232"
      ]
     },
     "execution_count": 69,
     "metadata": {},
     "output_type": "execute_result"
    }
   ],
   "source": [
    "# Número de contratos por mas de 100 mil millones\n",
    "sum(compras['cuantia_proceso'] > 1e11)"
   ]
  },
  {
   "cell_type": "code",
   "execution_count": 70,
   "metadata": {},
   "outputs": [
    {
     "name": "stdout",
     "output_type": "stream",
     "text": [
      "Hay 94,910 contratos de mínimo $100,000,000 y de máximo $100,000,000,000\n"
     ]
    }
   ],
   "source": [
    "# Seleccionar contratos de una cuantia mínima\n",
    "min_valor = 1e8 # Mas de 100 millones\n",
    "max_valor = 1e11 # Menos de 100,000 millones\n",
    "compras = compras.loc[((compras[\"cuantia_contrato\"] >= min_valor) | \n",
    "                       (compras[\"cuantia_proceso\"] >= min_valor) | \n",
    "                       (compras[\"valor_adiciones\"] >= min_valor)) \n",
    "                      & (compras[\"cuantia_contrato\"] <= max_valor)]\n",
    "print(\"Hay {:,} contratos de mínimo ${:,.0f} y de máximo ${:,.0f}\".format(compras.shape[0], min_valor, max_valor))"
   ]
  },
  {
   "cell_type": "markdown",
   "metadata": {},
   "source": [
    "## Filtrado de entidades por número mínimo de contratos"
   ]
  },
  {
   "cell_type": "code",
   "execution_count": 71,
   "metadata": {},
   "outputs": [
    {
     "name": "stdout",
     "output_type": "stream",
     "text": [
      "Hay 1767 entidades con mínimo 5 contratos\n"
     ]
    }
   ],
   "source": [
    "# Incluir entidades con mínimo 5 contratos\n",
    "min_contratos = 5\n",
    "temp = compras.groupby('nombre_entidad').size().reset_index().rename({0:'n_contratos'}, axis=1)\n",
    "temp = temp.loc[temp['n_contratos'] >= min_contratos]\n",
    "print(\"Hay {} entidades con mínimo {} contratos\".format(temp.shape[0], min_contratos))\n",
    "\n",
    "# Filtrar entidades con la minima cantidad de contratos requeridas\n",
    "compras = compras.loc[compras[\"nombre_entidad\"].isin(temp[\"nombre_entidad\"])]\n",
    "del temp"
   ]
  },
  {
   "cell_type": "code",
   "execution_count": 72,
   "metadata": {},
   "outputs": [
    {
     "name": "stdout",
     "output_type": "stream",
     "text": [
      "Filtrando entidades con mínimo 5 contratos nos quedan 92,897 registros\n"
     ]
    }
   ],
   "source": [
    "print('Filtrando entidades con mínimo {} contratos nos quedan {:,.0f} registros'.format(min_contratos, compras.shape[0]))"
   ]
  },
  {
   "cell_type": "code",
   "execution_count": 84,
   "metadata": {},
   "outputs": [
    {
     "data": {
      "text/plain": [
       "1767"
      ]
     },
     "execution_count": 84,
     "metadata": {},
     "output_type": "execute_result"
    }
   ],
   "source": [
    "# Numero de entidades\n",
    "compras['nombre_entidad'].nunique()"
   ]
  },
  {
   "cell_type": "markdown",
   "metadata": {},
   "source": [
    "## Estandarización del tipo de proceso"
   ]
  },
  {
   "cell_type": "code",
   "execution_count": 73,
   "metadata": {},
   "outputs": [
    {
     "data": {
      "text/plain": [
       "tipo_proceso                                                                         \n",
       "Subasta                                                                                  29554\n",
       "Régimen Especial                                                                         29533\n",
       "Selección Abreviada de Menor Cuantía (Ley 1150 de 2007)                                  16044\n",
       "Contratación Directa (Ley 1150 de 2007)                                                   9020\n",
       "Licitación Pública                                                                        7448\n",
       "Contratación Mínima Cuantía                                                                937\n",
       "Selección Abreviada del literal h del numeral 2 del artículo 2 de la Ley 1150 de 2007      152\n",
       "Selección Abreviada servicios de Salud                                                     125\n",
       "Licitación obra pública                                                                     46\n",
       "Contratos y convenios con más de dos partes                                                 19\n",
       "Concurso de Méritos Abierto                                                                 18\n",
       "Concurso de Méritos con Lista Corta                                                          1\n",
       "dtype: int64"
      ]
     },
     "execution_count": 73,
     "metadata": {},
     "output_type": "execute_result"
    }
   ],
   "source": [
    "# Tipo de proceso\n",
    "compras.value_counts(['tipo_proceso'])"
   ]
  },
  {
   "cell_type": "code",
   "execution_count": 74,
   "metadata": {},
   "outputs": [
    {
     "data": {
      "text/plain": [
       "tipo_proceso\n",
       "subasta                 29554\n",
       "regimen_especial        29533\n",
       "seleccion_abreviada     16321\n",
       "contratacion_directa     9020\n",
       "licitacion_publica       7494\n",
       "minima_cuantia            937\n",
       "concurso_meritos           19\n",
       "otros                      19\n",
       "dtype: int64"
      ]
     },
     "execution_count": 74,
     "metadata": {},
     "output_type": "execute_result"
    }
   ],
   "source": [
    "# Estandarización del tipo de proceso\n",
    "map_tipo_proceso = {\n",
    "    \"Concurso de Méritos Abierto\": \"concurso_meritos\", \n",
    "    \"Concurso de Méritos con Lista Corta\": \"concurso_meritos\", \n",
    "    \"Concurso de Méritos con Lista Multiusos\": \"concurso_meritos\",\n",
    "    \"Contratación Directa (Ley 1150 de 2007)\":\"contratacion_directa\",\n",
    "    \"Contratación Directa (con ofertas)\":\"contratacion_directa\",\n",
    "    \"Contratación directa\":\"contratacion_directa\",\n",
    "    \"Contratación Mínima Cuantía\":\"minima_cuantia\",\n",
    "    \"Mínima cuantía\":\"minima_cuantia\",\n",
    "    \"Licitación Pública\":\"licitacion_publica\",\n",
    "    \"Licitación obra pública\":\"licitacion_publica\", \n",
    "    \"Licitación pública\":\"licitacion_publica\",\n",
    "    \"Régimen Especial\":\"regimen_especial\",\n",
    "    \"Contratación régimen especial\":\"regimen_especial\",\n",
    "    \"Contratación régimen especial (con ofertas)\":\"regimen_especial\",\n",
    "    \"Selección Abreviada de Menor Cuantía (Ley 1150 de 2007)\":\"seleccion_abreviada\",\n",
    "    \"Selección Abreviada del literal h del numeral 2 del artículo 2 de la Ley 1150 de 2007\":\"seleccion_abreviada\",\n",
    "    \"Selección Abreviada servicios de Salud\":\"seleccion_abreviada\",\n",
    "    \"Seleccion Abreviada Menor Cuantia Sin Manifestacion Interes\":\"seleccion_abreviada\",\n",
    "    \"Selección Abreviada de Menor Cuantía\":\"seleccion_abreviada\",\n",
    "    \"Selección abreviada subasta inversa\":\"seleccion_abreviada\",\n",
    "    \"Subasta\":\"subasta\",\n",
    "    \"Contratos y convenios con más de dos partes\":\"otros\",\n",
    "    \"Asociación Público Privada\":\"otros\"\n",
    "}\n",
    "compras[\"tipo_proceso\"].replace(to_replace=map_tipo_proceso, inplace=True)\n",
    "compras.groupby(\"tipo_proceso\").size().sort_values(ascending=False)"
   ]
  },
  {
   "cell_type": "markdown",
   "metadata": {},
   "source": [
    "## Estadarización del nivel de entidad"
   ]
  },
  {
   "cell_type": "code",
   "execution_count": 75,
   "metadata": {},
   "outputs": [
    {
     "data": {
      "text/plain": [
       "nivel_entidad\n",
       "territorial    57001\n",
       "nacional       35896\n",
       "dtype: int64"
      ]
     },
     "execution_count": 75,
     "metadata": {},
     "output_type": "execute_result"
    }
   ],
   "source": [
    "# Estandarización para el nivel de la entidad\n",
    "map_nivel_entidad = {\n",
    "    \"NACIONAL\":\"nacional\",\n",
    "    \"TERRITORIAL\":\"territorial\",\n",
    "    \"No Definida\":\"no_definida\"\n",
    "}\n",
    "compras[\"nivel_entidad\"].replace(to_replace=map_nivel_entidad, inplace=True)\n",
    "compras.groupby(\"nivel_entidad\").size().sort_values(ascending=False)"
   ]
  },
  {
   "cell_type": "code",
   "execution_count": 76,
   "metadata": {},
   "outputs": [
    {
     "name": "stdout",
     "output_type": "stream",
     "text": [
      "Hay 0 entidades con mas de un nivel de entidad registrado\n"
     ]
    }
   ],
   "source": [
    "# Verificar si la entidad tiene registrado mas de un nivel\n",
    "print(\"Hay {} entidades con mas de un nivel de entidad registrado\".format(sum(compras.groupby(\"nombre_entidad\")[\"nivel_entidad\"].nunique() > 1)))"
   ]
  },
  {
   "cell_type": "markdown",
   "metadata": {},
   "source": [
    "## Estadarización de las categorías para el orden de la entidad"
   ]
  },
  {
   "cell_type": "code",
   "execution_count": 77,
   "metadata": {},
   "outputs": [
    {
     "name": "stdout",
     "output_type": "stream",
     "text": [
      "orden_entidad\n",
      "nac_centralizado       21146\n",
      "terri_dep_no_centr     18246\n",
      "nac_descentralizado    15037\n",
      "terri_distr_6          10422\n",
      "terri_distr_2           6890\n",
      "terri_dep_centr         6570\n",
      "terri_distr_1           6480\n",
      "distr_capital           2645\n",
      "terri_distr_4           2560\n",
      "terri_distr_5           1935\n",
      "terri_distr_3            966\n",
      "dtype: int64\n",
      "Hay 2 entidades con mas de un orden de entidad registrado\n"
     ]
    }
   ],
   "source": [
    "# Redefinir las categorias para el orden de entidad\n",
    "map_orden_entidad = {\n",
    "    \"DISTRITO CAPITAL\": \"distr_capital\",\n",
    "    \"NACIONAL CENTRALIZADO\": \"nac_centralizado\",\n",
    "    \"NACIONAL DESCENTRALIZADO\":\"nac_descentralizado\",\n",
    "    \"TERRITORIAL DEPARTAMENTAL CENTRALIZADO\": \"terri_dep_centr\",\n",
    "    \"TERRITORIAL DEPARTAMENTAL DESCENTRALIZADO\": \"terri_dep_no_centr\",\n",
    "    \"TERRITORIAL DISTRITAL MUNICIPAL NIVEL 1\": \"terri_distr_1\",\n",
    "    \"TERRITORIAL DISTRITAL MUNICIPAL NIVEL 2\": \"terri_distr_2\",\n",
    "    \"TERRITORIAL DISTRITAL MUNICIPAL NIVEL 3\": \"terri_distr_3\",\n",
    "    \"TERRITORIAL DISTRITAL MUNICIPAL NIVEL 4\": \"terri_distr_4\",\n",
    "    \"TERRITORIAL DISTRITAL MUNICIPAL NIVEL 5\": \"terri_distr_5\",\n",
    "    \"TERRITORIAL DISTRITAL MUNICIPAL NIVEL 6\": \"terri_distr_6\",\n",
    "    \"No Definido\": \"no_defindo\"\n",
    "}\n",
    "\n",
    "compras[\"orden_entidad\"].replace(to_replace=map_orden_entidad, inplace=True)\n",
    "print(compras.groupby(\"orden_entidad\").size().sort_values(ascending=False))\n",
    "\n",
    "# Verificar si la entidad tiene registrado mas de un orden de entidad\n",
    "print(\"Hay {} entidades con mas de un orden de entidad registrado\".format(sum(compras.groupby(\"nombre_entidad\")[\"orden_entidad\"].nunique() > 1)))"
   ]
  },
  {
   "cell_type": "code",
   "execution_count": 78,
   "metadata": {},
   "outputs": [],
   "source": [
    "# Asignar orden de entidad con mayor frecuencia\n",
    "# Activar procesamiento de orden de entidad\n",
    "asignar_orden = False\n",
    "if asignar_orden:\n",
    "    temp = compras.groupby(\"nombre_entidad\")[\"orden_entidad\"].nunique()\n",
    "    temp = temp[temp > 1]\n",
    "    temp2 = compras.loc[compras[\"nombre_entidad\"].isin(temp.index)].groupby([\"nombre_entidad\",\"orden_entidad\"]).size().reset_index().rename({0:\"n\"}, axis=1)\n",
    "\n",
    "    def sel_orden(groups):\n",
    "        n_orden = groups.sort_values(by = \"n\", ascending = False)\n",
    "        orden = n_orden[\"orden_entidad\"][0:1]\n",
    "        return orden\n",
    "\n",
    "    temp3 = temp2.groupby(\"nombre_entidad\").apply(sel_orden).reset_index()\n",
    "\n",
    "    for i in range(temp3.shape[0]):\n",
    "        compras.loc[compras[\"nombre_entidad\"] == temp3[\"nombre_entidad\"][i], [\"orden_entidad\"]] = temp3[\"orden_entidad\"][i]\n",
    "        \n",
    "    del [temp, temp2, temp3]\n",
    "\n",
    "    # Verificar si la entidad tiene registrado mas de un nivel\n",
    "    print(\"Hay {} entidades con mas de un orden de entidad registrado\".format(sum(compras.groupby(\"nombre_entidad\")[\"nivel_entidad\"].nunique() > 1)))\n"
   ]
  },
  {
   "cell_type": "markdown",
   "metadata": {},
   "source": [
    "## Ajustar departamento de entidad"
   ]
  },
  {
   "cell_type": "code",
   "execution_count": 79,
   "metadata": {},
   "outputs": [
    {
     "data": {
      "text/plain": [
       "0"
      ]
     },
     "execution_count": 79,
     "metadata": {},
     "output_type": "execute_result"
    }
   ],
   "source": [
    "# Ajustar el nombre del departamento de la entidad\n",
    "compras[\"departamento_entidad\"] = compras[\"departamento_entidad\"].str.lower().str.replace(\" \",\"-\")\n",
    "\n",
    "# Verificar si una entidad tiene mas de un departamento registrado\n",
    "sum(compras.groupby(\"nombre_entidad\")[\"departamento_entidad\"].nunique() > 1)"
   ]
  },
  {
   "cell_type": "markdown",
   "metadata": {},
   "source": [
    "## Estandarización del regimen de contratación"
   ]
  },
  {
   "cell_type": "code",
   "execution_count": 81,
   "metadata": {},
   "outputs": [
    {
     "data": {
      "text/plain": [
       "general     62271\n",
       "especial    30626\n",
       "Name: regimen_contratacion, dtype: int64"
      ]
     },
     "execution_count": 81,
     "metadata": {},
     "output_type": "execute_result"
    }
   ],
   "source": [
    "# Estadarización del regimen de contratación\n",
    "map_regimen = {\n",
    "    \"Estatuto General de Contratación\":\"general\",\n",
    "    \"Ley 80 de 1993\": \"general\",\n",
    "    \"Régimen Especial\": \"especial\"\n",
    "}\n",
    "\n",
    "compras[\"regimen_contratacion\"].replace(to_replace=map_regimen, inplace=True)\n",
    "compras[\"regimen_contratacion\"].value_counts()\n"
   ]
  },
  {
   "cell_type": "markdown",
   "metadata": {},
   "source": [
    "## Limpieza del id del contratista"
   ]
  },
  {
   "cell_type": "code",
   "execution_count": 80,
   "metadata": {},
   "outputs": [
    {
     "name": "stderr",
     "output_type": "stream",
     "text": [
      "/var/folders/yb/73r2f0hj06z2_w4y40669q480000gn/T/ipykernel_13083/657578935.py:8: FutureWarning: The default value of regex will change from True to False in a future version.\n",
      "  compras['id_contratista_mod'] = compras[\"id_contratista\"].str.replace(pat=r'\\D', repl='')\n"
     ]
    },
    {
     "name": "stdout",
     "output_type": "stream",
     "text": [
      "La limpieza genera una reducción de 6,962 contratistas unicos\n"
     ]
    }
   ],
   "source": [
    "#Limpieza rapida del id del contratista\n",
    "def find_number(text):\n",
    "    num = re.findall(r'[0-9]+',text)\n",
    "    return \" \".join(num)\n",
    "#\n",
    "compras[\"id_contratista\"] = compras[\"id_contratista\"].apply(str)\n",
    "compras['id_contratista_mod'] = compras[\"id_contratista\"].apply(lambda x: find_number(x))\n",
    "compras['id_contratista_mod'] = compras[\"id_contratista\"].str.replace(pat=r'\\D', repl='')\n",
    "print(\"La limpieza genera una reducción de {:,} contratistas unicos\".format(len(np.unique(compras[\"id_contratista\"])) - len(np.unique(compras[\"id_contratista_mod\"]))))"
   ]
  },
  {
   "cell_type": "code",
   "execution_count": 83,
   "metadata": {},
   "outputs": [
    {
     "data": {
      "text/plain": [
       "28634"
      ]
     },
     "execution_count": 83,
     "metadata": {},
     "output_type": "execute_result"
    }
   ],
   "source": [
    "# Numero de contratistas\n",
    "compras['id_contratista_mod'].nunique()"
   ]
  },
  {
   "cell_type": "markdown",
   "metadata": {},
   "source": [
    "## Revisar duplicados"
   ]
  },
  {
   "cell_type": "code",
   "execution_count": 82,
   "metadata": {},
   "outputs": [
    {
     "data": {
      "text/plain": [
       "0"
      ]
     },
     "execution_count": 82,
     "metadata": {},
     "output_type": "execute_result"
    }
   ],
   "source": [
    "# Revisar duplicados\n",
    "sum(compras.duplicated())"
   ]
  },
  {
   "cell_type": "markdown",
   "metadata": {},
   "source": [
    "## Guardar base de datos de compras"
   ]
  },
  {
   "cell_type": "code",
   "execution_count": 85,
   "metadata": {},
   "outputs": [],
   "source": [
    "guardar_compras = True\n",
    "if guardar_compras:\n",
    "    compras.to_csv('Datos/compras.csv.gz', index=False)"
   ]
  }
 ],
 "metadata": {
  "kernelspec": {
   "display_name": "Python 3.9.7 ('base')",
   "language": "python",
   "name": "python3"
  },
  "language_info": {
   "codemirror_mode": {
    "name": "ipython",
    "version": 3
   },
   "file_extension": ".py",
   "mimetype": "text/x-python",
   "name": "python",
   "nbconvert_exporter": "python",
   "pygments_lexer": "ipython3",
   "version": "3.9.7"
  },
  "orig_nbformat": 4,
  "vscode": {
   "interpreter": {
    "hash": "24efbd69f457db7001e2a795b9315be4388ba00b1b20606a2f2eb59eecdf5a7a"
   }
  }
 },
 "nbformat": 4,
 "nbformat_minor": 2
}
