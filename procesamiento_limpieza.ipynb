{
 "cells": [
  {
   "cell_type": "markdown",
   "metadata": {},
   "source": [
    "# Procesamiento y Limpieza SECOP I\n",
    "\n",
    "En este notebook de código se desarrollan los códigos para procesar, limpiar y calcular indicadores de riesgo y banderas rojas en contratación pública a partir de los datos abiertos del SECOP I."
   ]
  },
  {
   "cell_type": "code",
   "execution_count": 6,
   "metadata": {},
   "outputs": [],
   "source": [
    "# Cargar librerias para limpieza y procesamiento de datos\n",
    "import numpy as np\n",
    "import pandas as pd\n",
    "import matplotlib.pyplot as plt\n",
    "import seaborn as sns\n",
    "import re\n",
    "import os\n",
    "pd.set_option('display.max_columns', None)"
   ]
  },
  {
   "cell_type": "code",
   "execution_count": 7,
   "metadata": {},
   "outputs": [],
   "source": [
    "# Cargar datos de compras y suministros\n",
    "suministro = pd.read_csv(\"Datos/div_secop_i_Suministro.gz\")\n",
    "compraventa = pd.read_csv(\"Datos/div_secop_i_Compraventa.gz\")\n",
    "compras = pd.concat([suministro,compraventa], axis=0)\n",
    "del [compraventa, suministro]\n",
    "compras.head()"
   ]
  },
  {
   "cell_type": "code",
   "execution_count": null,
   "metadata": {},
   "outputs": [],
   "source": []
  }
 ],
 "metadata": {
  "kernelspec": {
   "display_name": "Python 3.9.7 ('base')",
   "language": "python",
   "name": "python3"
  },
  "language_info": {
   "codemirror_mode": {
    "name": "ipython",
    "version": 3
   },
   "file_extension": ".py",
   "mimetype": "text/x-python",
   "name": "python",
   "nbconvert_exporter": "python",
   "pygments_lexer": "ipython3",
   "version": "3.9.7"
  },
  "orig_nbformat": 4,
  "vscode": {
   "interpreter": {
    "hash": "24efbd69f457db7001e2a795b9315be4388ba00b1b20606a2f2eb59eecdf5a7a"
   }
  }
 },
 "nbformat": 4,
 "nbformat_minor": 2
}
